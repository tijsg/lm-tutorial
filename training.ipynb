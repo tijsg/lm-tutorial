{
  "nbformat": 4,
  "nbformat_minor": 0,
  "metadata": {
    "colab": {
      "provenance": [],
      "gpuType": "T4",
      "authorship_tag": "ABX9TyMJfK5DG5U3uh2wDRBYVj6N"
    },
    "kernelspec": {
      "name": "python3",
      "display_name": "Python 3"
    },
    "language_info": {
      "name": "python"
    },
    "accelerator": "GPU",
    "gpuClass": "standard",
    "widgets": {
      "application/vnd.jupyter.widget-state+json": {
        "6d9a92efb4504273bfeb536038cfad95": {
          "model_module": "@jupyter-widgets/controls",
          "model_name": "HBoxModel",
          "model_module_version": "1.5.0",
          "state": {
            "_dom_classes": [],
            "_model_module": "@jupyter-widgets/controls",
            "_model_module_version": "1.5.0",
            "_model_name": "HBoxModel",
            "_view_count": null,
            "_view_module": "@jupyter-widgets/controls",
            "_view_module_version": "1.5.0",
            "_view_name": "HBoxView",
            "box_style": "",
            "children": [
              "IPY_MODEL_5f3a94f887924c97a7c0320b79626884",
              "IPY_MODEL_b4902fb5350948c5ba0489bd1c778444",
              "IPY_MODEL_ec547edb9ec54381b418d6c0ec1a5793"
            ],
            "layout": "IPY_MODEL_8341d49ab0f747bf99e2d1e685459687"
          }
        },
        "5f3a94f887924c97a7c0320b79626884": {
          "model_module": "@jupyter-widgets/controls",
          "model_name": "HTMLModel",
          "model_module_version": "1.5.0",
          "state": {
            "_dom_classes": [],
            "_model_module": "@jupyter-widgets/controls",
            "_model_module_version": "1.5.0",
            "_model_name": "HTMLModel",
            "_view_count": null,
            "_view_module": "@jupyter-widgets/controls",
            "_view_module_version": "1.5.0",
            "_view_name": "HTMLView",
            "description": "",
            "description_tooltip": null,
            "layout": "IPY_MODEL_268a40e6a16a403a933361fe945ecbd5",
            "placeholder": "​",
            "style": "IPY_MODEL_fcbb01ef09174985907f73b21ad4b480",
            "value": "Downloading data files: 100%"
          }
        },
        "b4902fb5350948c5ba0489bd1c778444": {
          "model_module": "@jupyter-widgets/controls",
          "model_name": "FloatProgressModel",
          "model_module_version": "1.5.0",
          "state": {
            "_dom_classes": [],
            "_model_module": "@jupyter-widgets/controls",
            "_model_module_version": "1.5.0",
            "_model_name": "FloatProgressModel",
            "_view_count": null,
            "_view_module": "@jupyter-widgets/controls",
            "_view_module_version": "1.5.0",
            "_view_name": "ProgressView",
            "bar_style": "success",
            "description": "",
            "description_tooltip": null,
            "layout": "IPY_MODEL_5f150dca02554486b7b665256250a8c5",
            "max": 1,
            "min": 0,
            "orientation": "horizontal",
            "style": "IPY_MODEL_82146d8d01294654b13ddc6dee2ed420",
            "value": 1
          }
        },
        "ec547edb9ec54381b418d6c0ec1a5793": {
          "model_module": "@jupyter-widgets/controls",
          "model_name": "HTMLModel",
          "model_module_version": "1.5.0",
          "state": {
            "_dom_classes": [],
            "_model_module": "@jupyter-widgets/controls",
            "_model_module_version": "1.5.0",
            "_model_name": "HTMLModel",
            "_view_count": null,
            "_view_module": "@jupyter-widgets/controls",
            "_view_module_version": "1.5.0",
            "_view_name": "HTMLView",
            "description": "",
            "description_tooltip": null,
            "layout": "IPY_MODEL_d83d7afdde134cbaa827251a8d251ff4",
            "placeholder": "​",
            "style": "IPY_MODEL_4c11136c235e429cad19011bcea731da",
            "value": " 1/1 [00:00&lt;00:00, 30.55it/s]"
          }
        },
        "8341d49ab0f747bf99e2d1e685459687": {
          "model_module": "@jupyter-widgets/base",
          "model_name": "LayoutModel",
          "model_module_version": "1.2.0",
          "state": {
            "_model_module": "@jupyter-widgets/base",
            "_model_module_version": "1.2.0",
            "_model_name": "LayoutModel",
            "_view_count": null,
            "_view_module": "@jupyter-widgets/base",
            "_view_module_version": "1.2.0",
            "_view_name": "LayoutView",
            "align_content": null,
            "align_items": null,
            "align_self": null,
            "border": null,
            "bottom": null,
            "display": null,
            "flex": null,
            "flex_flow": null,
            "grid_area": null,
            "grid_auto_columns": null,
            "grid_auto_flow": null,
            "grid_auto_rows": null,
            "grid_column": null,
            "grid_gap": null,
            "grid_row": null,
            "grid_template_areas": null,
            "grid_template_columns": null,
            "grid_template_rows": null,
            "height": null,
            "justify_content": null,
            "justify_items": null,
            "left": null,
            "margin": null,
            "max_height": null,
            "max_width": null,
            "min_height": null,
            "min_width": null,
            "object_fit": null,
            "object_position": null,
            "order": null,
            "overflow": null,
            "overflow_x": null,
            "overflow_y": null,
            "padding": null,
            "right": null,
            "top": null,
            "visibility": null,
            "width": null
          }
        },
        "268a40e6a16a403a933361fe945ecbd5": {
          "model_module": "@jupyter-widgets/base",
          "model_name": "LayoutModel",
          "model_module_version": "1.2.0",
          "state": {
            "_model_module": "@jupyter-widgets/base",
            "_model_module_version": "1.2.0",
            "_model_name": "LayoutModel",
            "_view_count": null,
            "_view_module": "@jupyter-widgets/base",
            "_view_module_version": "1.2.0",
            "_view_name": "LayoutView",
            "align_content": null,
            "align_items": null,
            "align_self": null,
            "border": null,
            "bottom": null,
            "display": null,
            "flex": null,
            "flex_flow": null,
            "grid_area": null,
            "grid_auto_columns": null,
            "grid_auto_flow": null,
            "grid_auto_rows": null,
            "grid_column": null,
            "grid_gap": null,
            "grid_row": null,
            "grid_template_areas": null,
            "grid_template_columns": null,
            "grid_template_rows": null,
            "height": null,
            "justify_content": null,
            "justify_items": null,
            "left": null,
            "margin": null,
            "max_height": null,
            "max_width": null,
            "min_height": null,
            "min_width": null,
            "object_fit": null,
            "object_position": null,
            "order": null,
            "overflow": null,
            "overflow_x": null,
            "overflow_y": null,
            "padding": null,
            "right": null,
            "top": null,
            "visibility": null,
            "width": null
          }
        },
        "fcbb01ef09174985907f73b21ad4b480": {
          "model_module": "@jupyter-widgets/controls",
          "model_name": "DescriptionStyleModel",
          "model_module_version": "1.5.0",
          "state": {
            "_model_module": "@jupyter-widgets/controls",
            "_model_module_version": "1.5.0",
            "_model_name": "DescriptionStyleModel",
            "_view_count": null,
            "_view_module": "@jupyter-widgets/base",
            "_view_module_version": "1.2.0",
            "_view_name": "StyleView",
            "description_width": ""
          }
        },
        "5f150dca02554486b7b665256250a8c5": {
          "model_module": "@jupyter-widgets/base",
          "model_name": "LayoutModel",
          "model_module_version": "1.2.0",
          "state": {
            "_model_module": "@jupyter-widgets/base",
            "_model_module_version": "1.2.0",
            "_model_name": "LayoutModel",
            "_view_count": null,
            "_view_module": "@jupyter-widgets/base",
            "_view_module_version": "1.2.0",
            "_view_name": "LayoutView",
            "align_content": null,
            "align_items": null,
            "align_self": null,
            "border": null,
            "bottom": null,
            "display": null,
            "flex": null,
            "flex_flow": null,
            "grid_area": null,
            "grid_auto_columns": null,
            "grid_auto_flow": null,
            "grid_auto_rows": null,
            "grid_column": null,
            "grid_gap": null,
            "grid_row": null,
            "grid_template_areas": null,
            "grid_template_columns": null,
            "grid_template_rows": null,
            "height": null,
            "justify_content": null,
            "justify_items": null,
            "left": null,
            "margin": null,
            "max_height": null,
            "max_width": null,
            "min_height": null,
            "min_width": null,
            "object_fit": null,
            "object_position": null,
            "order": null,
            "overflow": null,
            "overflow_x": null,
            "overflow_y": null,
            "padding": null,
            "right": null,
            "top": null,
            "visibility": null,
            "width": null
          }
        },
        "82146d8d01294654b13ddc6dee2ed420": {
          "model_module": "@jupyter-widgets/controls",
          "model_name": "ProgressStyleModel",
          "model_module_version": "1.5.0",
          "state": {
            "_model_module": "@jupyter-widgets/controls",
            "_model_module_version": "1.5.0",
            "_model_name": "ProgressStyleModel",
            "_view_count": null,
            "_view_module": "@jupyter-widgets/base",
            "_view_module_version": "1.2.0",
            "_view_name": "StyleView",
            "bar_color": null,
            "description_width": ""
          }
        },
        "d83d7afdde134cbaa827251a8d251ff4": {
          "model_module": "@jupyter-widgets/base",
          "model_name": "LayoutModel",
          "model_module_version": "1.2.0",
          "state": {
            "_model_module": "@jupyter-widgets/base",
            "_model_module_version": "1.2.0",
            "_model_name": "LayoutModel",
            "_view_count": null,
            "_view_module": "@jupyter-widgets/base",
            "_view_module_version": "1.2.0",
            "_view_name": "LayoutView",
            "align_content": null,
            "align_items": null,
            "align_self": null,
            "border": null,
            "bottom": null,
            "display": null,
            "flex": null,
            "flex_flow": null,
            "grid_area": null,
            "grid_auto_columns": null,
            "grid_auto_flow": null,
            "grid_auto_rows": null,
            "grid_column": null,
            "grid_gap": null,
            "grid_row": null,
            "grid_template_areas": null,
            "grid_template_columns": null,
            "grid_template_rows": null,
            "height": null,
            "justify_content": null,
            "justify_items": null,
            "left": null,
            "margin": null,
            "max_height": null,
            "max_width": null,
            "min_height": null,
            "min_width": null,
            "object_fit": null,
            "object_position": null,
            "order": null,
            "overflow": null,
            "overflow_x": null,
            "overflow_y": null,
            "padding": null,
            "right": null,
            "top": null,
            "visibility": null,
            "width": null
          }
        },
        "4c11136c235e429cad19011bcea731da": {
          "model_module": "@jupyter-widgets/controls",
          "model_name": "DescriptionStyleModel",
          "model_module_version": "1.5.0",
          "state": {
            "_model_module": "@jupyter-widgets/controls",
            "_model_module_version": "1.5.0",
            "_model_name": "DescriptionStyleModel",
            "_view_count": null,
            "_view_module": "@jupyter-widgets/base",
            "_view_module_version": "1.2.0",
            "_view_name": "StyleView",
            "description_width": ""
          }
        },
        "34d49e18fdc84b559e3c53a04afd6be0": {
          "model_module": "@jupyter-widgets/controls",
          "model_name": "HBoxModel",
          "model_module_version": "1.5.0",
          "state": {
            "_dom_classes": [],
            "_model_module": "@jupyter-widgets/controls",
            "_model_module_version": "1.5.0",
            "_model_name": "HBoxModel",
            "_view_count": null,
            "_view_module": "@jupyter-widgets/controls",
            "_view_module_version": "1.5.0",
            "_view_name": "HBoxView",
            "box_style": "",
            "children": [
              "IPY_MODEL_d87ebea472514ddeab1b121690e89eeb",
              "IPY_MODEL_fbf11d4efb1d451281c8c88df4fb4b55",
              "IPY_MODEL_f9be1f8b87a34843935afbabeafc36ec"
            ],
            "layout": "IPY_MODEL_da14e1808bdb42b99e7fecfd86836c8f"
          }
        },
        "d87ebea472514ddeab1b121690e89eeb": {
          "model_module": "@jupyter-widgets/controls",
          "model_name": "HTMLModel",
          "model_module_version": "1.5.0",
          "state": {
            "_dom_classes": [],
            "_model_module": "@jupyter-widgets/controls",
            "_model_module_version": "1.5.0",
            "_model_name": "HTMLModel",
            "_view_count": null,
            "_view_module": "@jupyter-widgets/controls",
            "_view_module_version": "1.5.0",
            "_view_name": "HTMLView",
            "description": "",
            "description_tooltip": null,
            "layout": "IPY_MODEL_ac73552c51794dc4b1241c051108dddc",
            "placeholder": "​",
            "style": "IPY_MODEL_81acee189ee947ffb13d935fb0bc52d1",
            "value": "Extracting data files: 100%"
          }
        },
        "fbf11d4efb1d451281c8c88df4fb4b55": {
          "model_module": "@jupyter-widgets/controls",
          "model_name": "FloatProgressModel",
          "model_module_version": "1.5.0",
          "state": {
            "_dom_classes": [],
            "_model_module": "@jupyter-widgets/controls",
            "_model_module_version": "1.5.0",
            "_model_name": "FloatProgressModel",
            "_view_count": null,
            "_view_module": "@jupyter-widgets/controls",
            "_view_module_version": "1.5.0",
            "_view_name": "ProgressView",
            "bar_style": "success",
            "description": "",
            "description_tooltip": null,
            "layout": "IPY_MODEL_f3164ef4a010484cbb14b7b441f2c502",
            "max": 1,
            "min": 0,
            "orientation": "horizontal",
            "style": "IPY_MODEL_6b537955370e4734bf68b57cae76b971",
            "value": 1
          }
        },
        "f9be1f8b87a34843935afbabeafc36ec": {
          "model_module": "@jupyter-widgets/controls",
          "model_name": "HTMLModel",
          "model_module_version": "1.5.0",
          "state": {
            "_dom_classes": [],
            "_model_module": "@jupyter-widgets/controls",
            "_model_module_version": "1.5.0",
            "_model_name": "HTMLModel",
            "_view_count": null,
            "_view_module": "@jupyter-widgets/controls",
            "_view_module_version": "1.5.0",
            "_view_name": "HTMLView",
            "description": "",
            "description_tooltip": null,
            "layout": "IPY_MODEL_0fef9ce4b9ab4edab66e463b13f04fd7",
            "placeholder": "​",
            "style": "IPY_MODEL_8bb2e9b06664407e822bd48d33e86aaf",
            "value": " 1/1 [00:00&lt;00:00, 50.49it/s]"
          }
        },
        "da14e1808bdb42b99e7fecfd86836c8f": {
          "model_module": "@jupyter-widgets/base",
          "model_name": "LayoutModel",
          "model_module_version": "1.2.0",
          "state": {
            "_model_module": "@jupyter-widgets/base",
            "_model_module_version": "1.2.0",
            "_model_name": "LayoutModel",
            "_view_count": null,
            "_view_module": "@jupyter-widgets/base",
            "_view_module_version": "1.2.0",
            "_view_name": "LayoutView",
            "align_content": null,
            "align_items": null,
            "align_self": null,
            "border": null,
            "bottom": null,
            "display": null,
            "flex": null,
            "flex_flow": null,
            "grid_area": null,
            "grid_auto_columns": null,
            "grid_auto_flow": null,
            "grid_auto_rows": null,
            "grid_column": null,
            "grid_gap": null,
            "grid_row": null,
            "grid_template_areas": null,
            "grid_template_columns": null,
            "grid_template_rows": null,
            "height": null,
            "justify_content": null,
            "justify_items": null,
            "left": null,
            "margin": null,
            "max_height": null,
            "max_width": null,
            "min_height": null,
            "min_width": null,
            "object_fit": null,
            "object_position": null,
            "order": null,
            "overflow": null,
            "overflow_x": null,
            "overflow_y": null,
            "padding": null,
            "right": null,
            "top": null,
            "visibility": null,
            "width": null
          }
        },
        "ac73552c51794dc4b1241c051108dddc": {
          "model_module": "@jupyter-widgets/base",
          "model_name": "LayoutModel",
          "model_module_version": "1.2.0",
          "state": {
            "_model_module": "@jupyter-widgets/base",
            "_model_module_version": "1.2.0",
            "_model_name": "LayoutModel",
            "_view_count": null,
            "_view_module": "@jupyter-widgets/base",
            "_view_module_version": "1.2.0",
            "_view_name": "LayoutView",
            "align_content": null,
            "align_items": null,
            "align_self": null,
            "border": null,
            "bottom": null,
            "display": null,
            "flex": null,
            "flex_flow": null,
            "grid_area": null,
            "grid_auto_columns": null,
            "grid_auto_flow": null,
            "grid_auto_rows": null,
            "grid_column": null,
            "grid_gap": null,
            "grid_row": null,
            "grid_template_areas": null,
            "grid_template_columns": null,
            "grid_template_rows": null,
            "height": null,
            "justify_content": null,
            "justify_items": null,
            "left": null,
            "margin": null,
            "max_height": null,
            "max_width": null,
            "min_height": null,
            "min_width": null,
            "object_fit": null,
            "object_position": null,
            "order": null,
            "overflow": null,
            "overflow_x": null,
            "overflow_y": null,
            "padding": null,
            "right": null,
            "top": null,
            "visibility": null,
            "width": null
          }
        },
        "81acee189ee947ffb13d935fb0bc52d1": {
          "model_module": "@jupyter-widgets/controls",
          "model_name": "DescriptionStyleModel",
          "model_module_version": "1.5.0",
          "state": {
            "_model_module": "@jupyter-widgets/controls",
            "_model_module_version": "1.5.0",
            "_model_name": "DescriptionStyleModel",
            "_view_count": null,
            "_view_module": "@jupyter-widgets/base",
            "_view_module_version": "1.2.0",
            "_view_name": "StyleView",
            "description_width": ""
          }
        },
        "f3164ef4a010484cbb14b7b441f2c502": {
          "model_module": "@jupyter-widgets/base",
          "model_name": "LayoutModel",
          "model_module_version": "1.2.0",
          "state": {
            "_model_module": "@jupyter-widgets/base",
            "_model_module_version": "1.2.0",
            "_model_name": "LayoutModel",
            "_view_count": null,
            "_view_module": "@jupyter-widgets/base",
            "_view_module_version": "1.2.0",
            "_view_name": "LayoutView",
            "align_content": null,
            "align_items": null,
            "align_self": null,
            "border": null,
            "bottom": null,
            "display": null,
            "flex": null,
            "flex_flow": null,
            "grid_area": null,
            "grid_auto_columns": null,
            "grid_auto_flow": null,
            "grid_auto_rows": null,
            "grid_column": null,
            "grid_gap": null,
            "grid_row": null,
            "grid_template_areas": null,
            "grid_template_columns": null,
            "grid_template_rows": null,
            "height": null,
            "justify_content": null,
            "justify_items": null,
            "left": null,
            "margin": null,
            "max_height": null,
            "max_width": null,
            "min_height": null,
            "min_width": null,
            "object_fit": null,
            "object_position": null,
            "order": null,
            "overflow": null,
            "overflow_x": null,
            "overflow_y": null,
            "padding": null,
            "right": null,
            "top": null,
            "visibility": null,
            "width": null
          }
        },
        "6b537955370e4734bf68b57cae76b971": {
          "model_module": "@jupyter-widgets/controls",
          "model_name": "ProgressStyleModel",
          "model_module_version": "1.5.0",
          "state": {
            "_model_module": "@jupyter-widgets/controls",
            "_model_module_version": "1.5.0",
            "_model_name": "ProgressStyleModel",
            "_view_count": null,
            "_view_module": "@jupyter-widgets/base",
            "_view_module_version": "1.2.0",
            "_view_name": "StyleView",
            "bar_color": null,
            "description_width": ""
          }
        },
        "0fef9ce4b9ab4edab66e463b13f04fd7": {
          "model_module": "@jupyter-widgets/base",
          "model_name": "LayoutModel",
          "model_module_version": "1.2.0",
          "state": {
            "_model_module": "@jupyter-widgets/base",
            "_model_module_version": "1.2.0",
            "_model_name": "LayoutModel",
            "_view_count": null,
            "_view_module": "@jupyter-widgets/base",
            "_view_module_version": "1.2.0",
            "_view_name": "LayoutView",
            "align_content": null,
            "align_items": null,
            "align_self": null,
            "border": null,
            "bottom": null,
            "display": null,
            "flex": null,
            "flex_flow": null,
            "grid_area": null,
            "grid_auto_columns": null,
            "grid_auto_flow": null,
            "grid_auto_rows": null,
            "grid_column": null,
            "grid_gap": null,
            "grid_row": null,
            "grid_template_areas": null,
            "grid_template_columns": null,
            "grid_template_rows": null,
            "height": null,
            "justify_content": null,
            "justify_items": null,
            "left": null,
            "margin": null,
            "max_height": null,
            "max_width": null,
            "min_height": null,
            "min_width": null,
            "object_fit": null,
            "object_position": null,
            "order": null,
            "overflow": null,
            "overflow_x": null,
            "overflow_y": null,
            "padding": null,
            "right": null,
            "top": null,
            "visibility": null,
            "width": null
          }
        },
        "8bb2e9b06664407e822bd48d33e86aaf": {
          "model_module": "@jupyter-widgets/controls",
          "model_name": "DescriptionStyleModel",
          "model_module_version": "1.5.0",
          "state": {
            "_model_module": "@jupyter-widgets/controls",
            "_model_module_version": "1.5.0",
            "_model_name": "DescriptionStyleModel",
            "_view_count": null,
            "_view_module": "@jupyter-widgets/base",
            "_view_module_version": "1.2.0",
            "_view_name": "StyleView",
            "description_width": ""
          }
        },
        "36eed820937b4238a31ce5d917956e23": {
          "model_module": "@jupyter-widgets/controls",
          "model_name": "HBoxModel",
          "model_module_version": "1.5.0",
          "state": {
            "_dom_classes": [],
            "_model_module": "@jupyter-widgets/controls",
            "_model_module_version": "1.5.0",
            "_model_name": "HBoxModel",
            "_view_count": null,
            "_view_module": "@jupyter-widgets/controls",
            "_view_module_version": "1.5.0",
            "_view_name": "HBoxView",
            "box_style": "",
            "children": [
              "IPY_MODEL_85785b581b2d4b6b9872eb5392573dd5",
              "IPY_MODEL_52881ea9acb44bea8d01c61fde8a1135",
              "IPY_MODEL_11e2e2db5a8a492782b6432b1070f9b0"
            ],
            "layout": "IPY_MODEL_0cb6302055b64086b63590d249439ea8"
          }
        },
        "85785b581b2d4b6b9872eb5392573dd5": {
          "model_module": "@jupyter-widgets/controls",
          "model_name": "HTMLModel",
          "model_module_version": "1.5.0",
          "state": {
            "_dom_classes": [],
            "_model_module": "@jupyter-widgets/controls",
            "_model_module_version": "1.5.0",
            "_model_name": "HTMLModel",
            "_view_count": null,
            "_view_module": "@jupyter-widgets/controls",
            "_view_module_version": "1.5.0",
            "_view_name": "HTMLView",
            "description": "",
            "description_tooltip": null,
            "layout": "IPY_MODEL_a16aae38d3524811bcbf9e524128e559",
            "placeholder": "​",
            "style": "IPY_MODEL_3bdaf9b101ce43c59a940ad31f47791b",
            "value": ""
          }
        },
        "52881ea9acb44bea8d01c61fde8a1135": {
          "model_module": "@jupyter-widgets/controls",
          "model_name": "FloatProgressModel",
          "model_module_version": "1.5.0",
          "state": {
            "_dom_classes": [],
            "_model_module": "@jupyter-widgets/controls",
            "_model_module_version": "1.5.0",
            "_model_name": "FloatProgressModel",
            "_view_count": null,
            "_view_module": "@jupyter-widgets/controls",
            "_view_module_version": "1.5.0",
            "_view_name": "ProgressView",
            "bar_style": "info",
            "description": "",
            "description_tooltip": null,
            "layout": "IPY_MODEL_530ae36c33ca4cebab91e6105f498a59",
            "max": 1,
            "min": 0,
            "orientation": "horizontal",
            "style": "IPY_MODEL_f40af017dfbd49d3b0aedf1e433e3467",
            "value": 1
          }
        },
        "11e2e2db5a8a492782b6432b1070f9b0": {
          "model_module": "@jupyter-widgets/controls",
          "model_name": "HTMLModel",
          "model_module_version": "1.5.0",
          "state": {
            "_dom_classes": [],
            "_model_module": "@jupyter-widgets/controls",
            "_model_module_version": "1.5.0",
            "_model_name": "HTMLModel",
            "_view_count": null,
            "_view_module": "@jupyter-widgets/controls",
            "_view_module_version": "1.5.0",
            "_view_name": "HTMLView",
            "description": "",
            "description_tooltip": null,
            "layout": "IPY_MODEL_8cbf2a6f901c44578816ea8c2c64ca29",
            "placeholder": "​",
            "style": "IPY_MODEL_a0c1a4f44d944e9b8c9d61e4b717bc50",
            "value": " 1/? [00:00&lt;00:00,  3.65 tables/s]"
          }
        },
        "0cb6302055b64086b63590d249439ea8": {
          "model_module": "@jupyter-widgets/base",
          "model_name": "LayoutModel",
          "model_module_version": "1.2.0",
          "state": {
            "_model_module": "@jupyter-widgets/base",
            "_model_module_version": "1.2.0",
            "_model_name": "LayoutModel",
            "_view_count": null,
            "_view_module": "@jupyter-widgets/base",
            "_view_module_version": "1.2.0",
            "_view_name": "LayoutView",
            "align_content": null,
            "align_items": null,
            "align_self": null,
            "border": null,
            "bottom": null,
            "display": null,
            "flex": null,
            "flex_flow": null,
            "grid_area": null,
            "grid_auto_columns": null,
            "grid_auto_flow": null,
            "grid_auto_rows": null,
            "grid_column": null,
            "grid_gap": null,
            "grid_row": null,
            "grid_template_areas": null,
            "grid_template_columns": null,
            "grid_template_rows": null,
            "height": null,
            "justify_content": null,
            "justify_items": null,
            "left": null,
            "margin": null,
            "max_height": null,
            "max_width": null,
            "min_height": null,
            "min_width": null,
            "object_fit": null,
            "object_position": null,
            "order": null,
            "overflow": null,
            "overflow_x": null,
            "overflow_y": null,
            "padding": null,
            "right": null,
            "top": null,
            "visibility": "hidden",
            "width": null
          }
        },
        "a16aae38d3524811bcbf9e524128e559": {
          "model_module": "@jupyter-widgets/base",
          "model_name": "LayoutModel",
          "model_module_version": "1.2.0",
          "state": {
            "_model_module": "@jupyter-widgets/base",
            "_model_module_version": "1.2.0",
            "_model_name": "LayoutModel",
            "_view_count": null,
            "_view_module": "@jupyter-widgets/base",
            "_view_module_version": "1.2.0",
            "_view_name": "LayoutView",
            "align_content": null,
            "align_items": null,
            "align_self": null,
            "border": null,
            "bottom": null,
            "display": null,
            "flex": null,
            "flex_flow": null,
            "grid_area": null,
            "grid_auto_columns": null,
            "grid_auto_flow": null,
            "grid_auto_rows": null,
            "grid_column": null,
            "grid_gap": null,
            "grid_row": null,
            "grid_template_areas": null,
            "grid_template_columns": null,
            "grid_template_rows": null,
            "height": null,
            "justify_content": null,
            "justify_items": null,
            "left": null,
            "margin": null,
            "max_height": null,
            "max_width": null,
            "min_height": null,
            "min_width": null,
            "object_fit": null,
            "object_position": null,
            "order": null,
            "overflow": null,
            "overflow_x": null,
            "overflow_y": null,
            "padding": null,
            "right": null,
            "top": null,
            "visibility": null,
            "width": null
          }
        },
        "3bdaf9b101ce43c59a940ad31f47791b": {
          "model_module": "@jupyter-widgets/controls",
          "model_name": "DescriptionStyleModel",
          "model_module_version": "1.5.0",
          "state": {
            "_model_module": "@jupyter-widgets/controls",
            "_model_module_version": "1.5.0",
            "_model_name": "DescriptionStyleModel",
            "_view_count": null,
            "_view_module": "@jupyter-widgets/base",
            "_view_module_version": "1.2.0",
            "_view_name": "StyleView",
            "description_width": ""
          }
        },
        "530ae36c33ca4cebab91e6105f498a59": {
          "model_module": "@jupyter-widgets/base",
          "model_name": "LayoutModel",
          "model_module_version": "1.2.0",
          "state": {
            "_model_module": "@jupyter-widgets/base",
            "_model_module_version": "1.2.0",
            "_model_name": "LayoutModel",
            "_view_count": null,
            "_view_module": "@jupyter-widgets/base",
            "_view_module_version": "1.2.0",
            "_view_name": "LayoutView",
            "align_content": null,
            "align_items": null,
            "align_self": null,
            "border": null,
            "bottom": null,
            "display": null,
            "flex": null,
            "flex_flow": null,
            "grid_area": null,
            "grid_auto_columns": null,
            "grid_auto_flow": null,
            "grid_auto_rows": null,
            "grid_column": null,
            "grid_gap": null,
            "grid_row": null,
            "grid_template_areas": null,
            "grid_template_columns": null,
            "grid_template_rows": null,
            "height": null,
            "justify_content": null,
            "justify_items": null,
            "left": null,
            "margin": null,
            "max_height": null,
            "max_width": null,
            "min_height": null,
            "min_width": null,
            "object_fit": null,
            "object_position": null,
            "order": null,
            "overflow": null,
            "overflow_x": null,
            "overflow_y": null,
            "padding": null,
            "right": null,
            "top": null,
            "visibility": null,
            "width": "20px"
          }
        },
        "f40af017dfbd49d3b0aedf1e433e3467": {
          "model_module": "@jupyter-widgets/controls",
          "model_name": "ProgressStyleModel",
          "model_module_version": "1.5.0",
          "state": {
            "_model_module": "@jupyter-widgets/controls",
            "_model_module_version": "1.5.0",
            "_model_name": "ProgressStyleModel",
            "_view_count": null,
            "_view_module": "@jupyter-widgets/base",
            "_view_module_version": "1.2.0",
            "_view_name": "StyleView",
            "bar_color": null,
            "description_width": ""
          }
        },
        "8cbf2a6f901c44578816ea8c2c64ca29": {
          "model_module": "@jupyter-widgets/base",
          "model_name": "LayoutModel",
          "model_module_version": "1.2.0",
          "state": {
            "_model_module": "@jupyter-widgets/base",
            "_model_module_version": "1.2.0",
            "_model_name": "LayoutModel",
            "_view_count": null,
            "_view_module": "@jupyter-widgets/base",
            "_view_module_version": "1.2.0",
            "_view_name": "LayoutView",
            "align_content": null,
            "align_items": null,
            "align_self": null,
            "border": null,
            "bottom": null,
            "display": null,
            "flex": null,
            "flex_flow": null,
            "grid_area": null,
            "grid_auto_columns": null,
            "grid_auto_flow": null,
            "grid_auto_rows": null,
            "grid_column": null,
            "grid_gap": null,
            "grid_row": null,
            "grid_template_areas": null,
            "grid_template_columns": null,
            "grid_template_rows": null,
            "height": null,
            "justify_content": null,
            "justify_items": null,
            "left": null,
            "margin": null,
            "max_height": null,
            "max_width": null,
            "min_height": null,
            "min_width": null,
            "object_fit": null,
            "object_position": null,
            "order": null,
            "overflow": null,
            "overflow_x": null,
            "overflow_y": null,
            "padding": null,
            "right": null,
            "top": null,
            "visibility": null,
            "width": null
          }
        },
        "a0c1a4f44d944e9b8c9d61e4b717bc50": {
          "model_module": "@jupyter-widgets/controls",
          "model_name": "DescriptionStyleModel",
          "model_module_version": "1.5.0",
          "state": {
            "_model_module": "@jupyter-widgets/controls",
            "_model_module_version": "1.5.0",
            "_model_name": "DescriptionStyleModel",
            "_view_count": null,
            "_view_module": "@jupyter-widgets/base",
            "_view_module_version": "1.2.0",
            "_view_name": "StyleView",
            "description_width": ""
          }
        },
        "698f7c1201354474978ab9cbacea5eb6": {
          "model_module": "@jupyter-widgets/controls",
          "model_name": "HBoxModel",
          "model_module_version": "1.5.0",
          "state": {
            "_dom_classes": [],
            "_model_module": "@jupyter-widgets/controls",
            "_model_module_version": "1.5.0",
            "_model_name": "HBoxModel",
            "_view_count": null,
            "_view_module": "@jupyter-widgets/controls",
            "_view_module_version": "1.5.0",
            "_view_name": "HBoxView",
            "box_style": "",
            "children": [
              "IPY_MODEL_b7a6bb008165420f95e297e5e2ce05c2",
              "IPY_MODEL_6c19b2d5aa0f4182a60781e9b82aebf2",
              "IPY_MODEL_c040b1be738547859fe2a36d28beb8f1"
            ],
            "layout": "IPY_MODEL_16567a0f301e45e39c7f36178424a48e"
          }
        },
        "b7a6bb008165420f95e297e5e2ce05c2": {
          "model_module": "@jupyter-widgets/controls",
          "model_name": "HTMLModel",
          "model_module_version": "1.5.0",
          "state": {
            "_dom_classes": [],
            "_model_module": "@jupyter-widgets/controls",
            "_model_module_version": "1.5.0",
            "_model_name": "HTMLModel",
            "_view_count": null,
            "_view_module": "@jupyter-widgets/controls",
            "_view_module_version": "1.5.0",
            "_view_name": "HTMLView",
            "description": "",
            "description_tooltip": null,
            "layout": "IPY_MODEL_60a0b2812b414ffa865ae48c210307ca",
            "placeholder": "​",
            "style": "IPY_MODEL_21f468f1da834c7390a8b222c64b6dd6",
            "value": "100%"
          }
        },
        "6c19b2d5aa0f4182a60781e9b82aebf2": {
          "model_module": "@jupyter-widgets/controls",
          "model_name": "FloatProgressModel",
          "model_module_version": "1.5.0",
          "state": {
            "_dom_classes": [],
            "_model_module": "@jupyter-widgets/controls",
            "_model_module_version": "1.5.0",
            "_model_name": "FloatProgressModel",
            "_view_count": null,
            "_view_module": "@jupyter-widgets/controls",
            "_view_module_version": "1.5.0",
            "_view_name": "ProgressView",
            "bar_style": "success",
            "description": "",
            "description_tooltip": null,
            "layout": "IPY_MODEL_0a79a0c3a2a945499ff30da620ccccfa",
            "max": 1,
            "min": 0,
            "orientation": "horizontal",
            "style": "IPY_MODEL_50bf53ca0a4143fc84a90a5bcf9a341f",
            "value": 1
          }
        },
        "c040b1be738547859fe2a36d28beb8f1": {
          "model_module": "@jupyter-widgets/controls",
          "model_name": "HTMLModel",
          "model_module_version": "1.5.0",
          "state": {
            "_dom_classes": [],
            "_model_module": "@jupyter-widgets/controls",
            "_model_module_version": "1.5.0",
            "_model_name": "HTMLModel",
            "_view_count": null,
            "_view_module": "@jupyter-widgets/controls",
            "_view_module_version": "1.5.0",
            "_view_name": "HTMLView",
            "description": "",
            "description_tooltip": null,
            "layout": "IPY_MODEL_b8b903d15bc740d8a32975d8433c63f2",
            "placeholder": "​",
            "style": "IPY_MODEL_71135102a37244ecadb5840271615576",
            "value": " 1/1 [00:00&lt;00:00, 34.13it/s]"
          }
        },
        "16567a0f301e45e39c7f36178424a48e": {
          "model_module": "@jupyter-widgets/base",
          "model_name": "LayoutModel",
          "model_module_version": "1.2.0",
          "state": {
            "_model_module": "@jupyter-widgets/base",
            "_model_module_version": "1.2.0",
            "_model_name": "LayoutModel",
            "_view_count": null,
            "_view_module": "@jupyter-widgets/base",
            "_view_module_version": "1.2.0",
            "_view_name": "LayoutView",
            "align_content": null,
            "align_items": null,
            "align_self": null,
            "border": null,
            "bottom": null,
            "display": null,
            "flex": null,
            "flex_flow": null,
            "grid_area": null,
            "grid_auto_columns": null,
            "grid_auto_flow": null,
            "grid_auto_rows": null,
            "grid_column": null,
            "grid_gap": null,
            "grid_row": null,
            "grid_template_areas": null,
            "grid_template_columns": null,
            "grid_template_rows": null,
            "height": null,
            "justify_content": null,
            "justify_items": null,
            "left": null,
            "margin": null,
            "max_height": null,
            "max_width": null,
            "min_height": null,
            "min_width": null,
            "object_fit": null,
            "object_position": null,
            "order": null,
            "overflow": null,
            "overflow_x": null,
            "overflow_y": null,
            "padding": null,
            "right": null,
            "top": null,
            "visibility": null,
            "width": null
          }
        },
        "60a0b2812b414ffa865ae48c210307ca": {
          "model_module": "@jupyter-widgets/base",
          "model_name": "LayoutModel",
          "model_module_version": "1.2.0",
          "state": {
            "_model_module": "@jupyter-widgets/base",
            "_model_module_version": "1.2.0",
            "_model_name": "LayoutModel",
            "_view_count": null,
            "_view_module": "@jupyter-widgets/base",
            "_view_module_version": "1.2.0",
            "_view_name": "LayoutView",
            "align_content": null,
            "align_items": null,
            "align_self": null,
            "border": null,
            "bottom": null,
            "display": null,
            "flex": null,
            "flex_flow": null,
            "grid_area": null,
            "grid_auto_columns": null,
            "grid_auto_flow": null,
            "grid_auto_rows": null,
            "grid_column": null,
            "grid_gap": null,
            "grid_row": null,
            "grid_template_areas": null,
            "grid_template_columns": null,
            "grid_template_rows": null,
            "height": null,
            "justify_content": null,
            "justify_items": null,
            "left": null,
            "margin": null,
            "max_height": null,
            "max_width": null,
            "min_height": null,
            "min_width": null,
            "object_fit": null,
            "object_position": null,
            "order": null,
            "overflow": null,
            "overflow_x": null,
            "overflow_y": null,
            "padding": null,
            "right": null,
            "top": null,
            "visibility": null,
            "width": null
          }
        },
        "21f468f1da834c7390a8b222c64b6dd6": {
          "model_module": "@jupyter-widgets/controls",
          "model_name": "DescriptionStyleModel",
          "model_module_version": "1.5.0",
          "state": {
            "_model_module": "@jupyter-widgets/controls",
            "_model_module_version": "1.5.0",
            "_model_name": "DescriptionStyleModel",
            "_view_count": null,
            "_view_module": "@jupyter-widgets/base",
            "_view_module_version": "1.2.0",
            "_view_name": "StyleView",
            "description_width": ""
          }
        },
        "0a79a0c3a2a945499ff30da620ccccfa": {
          "model_module": "@jupyter-widgets/base",
          "model_name": "LayoutModel",
          "model_module_version": "1.2.0",
          "state": {
            "_model_module": "@jupyter-widgets/base",
            "_model_module_version": "1.2.0",
            "_model_name": "LayoutModel",
            "_view_count": null,
            "_view_module": "@jupyter-widgets/base",
            "_view_module_version": "1.2.0",
            "_view_name": "LayoutView",
            "align_content": null,
            "align_items": null,
            "align_self": null,
            "border": null,
            "bottom": null,
            "display": null,
            "flex": null,
            "flex_flow": null,
            "grid_area": null,
            "grid_auto_columns": null,
            "grid_auto_flow": null,
            "grid_auto_rows": null,
            "grid_column": null,
            "grid_gap": null,
            "grid_row": null,
            "grid_template_areas": null,
            "grid_template_columns": null,
            "grid_template_rows": null,
            "height": null,
            "justify_content": null,
            "justify_items": null,
            "left": null,
            "margin": null,
            "max_height": null,
            "max_width": null,
            "min_height": null,
            "min_width": null,
            "object_fit": null,
            "object_position": null,
            "order": null,
            "overflow": null,
            "overflow_x": null,
            "overflow_y": null,
            "padding": null,
            "right": null,
            "top": null,
            "visibility": null,
            "width": null
          }
        },
        "50bf53ca0a4143fc84a90a5bcf9a341f": {
          "model_module": "@jupyter-widgets/controls",
          "model_name": "ProgressStyleModel",
          "model_module_version": "1.5.0",
          "state": {
            "_model_module": "@jupyter-widgets/controls",
            "_model_module_version": "1.5.0",
            "_model_name": "ProgressStyleModel",
            "_view_count": null,
            "_view_module": "@jupyter-widgets/base",
            "_view_module_version": "1.2.0",
            "_view_name": "StyleView",
            "bar_color": null,
            "description_width": ""
          }
        },
        "b8b903d15bc740d8a32975d8433c63f2": {
          "model_module": "@jupyter-widgets/base",
          "model_name": "LayoutModel",
          "model_module_version": "1.2.0",
          "state": {
            "_model_module": "@jupyter-widgets/base",
            "_model_module_version": "1.2.0",
            "_model_name": "LayoutModel",
            "_view_count": null,
            "_view_module": "@jupyter-widgets/base",
            "_view_module_version": "1.2.0",
            "_view_name": "LayoutView",
            "align_content": null,
            "align_items": null,
            "align_self": null,
            "border": null,
            "bottom": null,
            "display": null,
            "flex": null,
            "flex_flow": null,
            "grid_area": null,
            "grid_auto_columns": null,
            "grid_auto_flow": null,
            "grid_auto_rows": null,
            "grid_column": null,
            "grid_gap": null,
            "grid_row": null,
            "grid_template_areas": null,
            "grid_template_columns": null,
            "grid_template_rows": null,
            "height": null,
            "justify_content": null,
            "justify_items": null,
            "left": null,
            "margin": null,
            "max_height": null,
            "max_width": null,
            "min_height": null,
            "min_width": null,
            "object_fit": null,
            "object_position": null,
            "order": null,
            "overflow": null,
            "overflow_x": null,
            "overflow_y": null,
            "padding": null,
            "right": null,
            "top": null,
            "visibility": null,
            "width": null
          }
        },
        "71135102a37244ecadb5840271615576": {
          "model_module": "@jupyter-widgets/controls",
          "model_name": "DescriptionStyleModel",
          "model_module_version": "1.5.0",
          "state": {
            "_model_module": "@jupyter-widgets/controls",
            "_model_module_version": "1.5.0",
            "_model_name": "DescriptionStyleModel",
            "_view_count": null,
            "_view_module": "@jupyter-widgets/base",
            "_view_module_version": "1.2.0",
            "_view_name": "StyleView",
            "description_width": ""
          }
        },
        "4f0d61d2622548e28aff32381338248e": {
          "model_module": "@jupyter-widgets/controls",
          "model_name": "HBoxModel",
          "model_module_version": "1.5.0",
          "state": {
            "_dom_classes": [],
            "_model_module": "@jupyter-widgets/controls",
            "_model_module_version": "1.5.0",
            "_model_name": "HBoxModel",
            "_view_count": null,
            "_view_module": "@jupyter-widgets/controls",
            "_view_module_version": "1.5.0",
            "_view_name": "HBoxView",
            "box_style": "",
            "children": [
              "IPY_MODEL_0ae47c8d3b6a40f6b536a3d11c577117",
              "IPY_MODEL_43eb3e4eea56418b87cf225aa6580ed1",
              "IPY_MODEL_83749fde530c410aa19d479185fa7ce3"
            ],
            "layout": "IPY_MODEL_5187c2205e3a4a72a6c5d3121ba24454"
          }
        },
        "0ae47c8d3b6a40f6b536a3d11c577117": {
          "model_module": "@jupyter-widgets/controls",
          "model_name": "HTMLModel",
          "model_module_version": "1.5.0",
          "state": {
            "_dom_classes": [],
            "_model_module": "@jupyter-widgets/controls",
            "_model_module_version": "1.5.0",
            "_model_name": "HTMLModel",
            "_view_count": null,
            "_view_module": "@jupyter-widgets/controls",
            "_view_module_version": "1.5.0",
            "_view_name": "HTMLView",
            "description": "",
            "description_tooltip": null,
            "layout": "IPY_MODEL_d8ef2afe59bd46e9b6069e359b97b747",
            "placeholder": "​",
            "style": "IPY_MODEL_2b4d2cbe7afb4f44abf4169043ec15eb",
            "value": "Downloading tokenizer_config.json: 100%"
          }
        },
        "43eb3e4eea56418b87cf225aa6580ed1": {
          "model_module": "@jupyter-widgets/controls",
          "model_name": "FloatProgressModel",
          "model_module_version": "1.5.0",
          "state": {
            "_dom_classes": [],
            "_model_module": "@jupyter-widgets/controls",
            "_model_module_version": "1.5.0",
            "_model_name": "FloatProgressModel",
            "_view_count": null,
            "_view_module": "@jupyter-widgets/controls",
            "_view_module_version": "1.5.0",
            "_view_name": "ProgressView",
            "bar_style": "success",
            "description": "",
            "description_tooltip": null,
            "layout": "IPY_MODEL_7f21acc587a54215a81204c490dfc94b",
            "max": 1135,
            "min": 0,
            "orientation": "horizontal",
            "style": "IPY_MODEL_c7b683bba583449db188f7ccc20cf62c",
            "value": 1135
          }
        },
        "83749fde530c410aa19d479185fa7ce3": {
          "model_module": "@jupyter-widgets/controls",
          "model_name": "HTMLModel",
          "model_module_version": "1.5.0",
          "state": {
            "_dom_classes": [],
            "_model_module": "@jupyter-widgets/controls",
            "_model_module_version": "1.5.0",
            "_model_name": "HTMLModel",
            "_view_count": null,
            "_view_module": "@jupyter-widgets/controls",
            "_view_module_version": "1.5.0",
            "_view_name": "HTMLView",
            "description": "",
            "description_tooltip": null,
            "layout": "IPY_MODEL_c85de9c1a5634fb3b808553fe880f934",
            "placeholder": "​",
            "style": "IPY_MODEL_ced630b7c26944899ffae74f8773c3a6",
            "value": " 1.11k/1.11k [00:00&lt;00:00, 60.2kB/s]"
          }
        },
        "5187c2205e3a4a72a6c5d3121ba24454": {
          "model_module": "@jupyter-widgets/base",
          "model_name": "LayoutModel",
          "model_module_version": "1.2.0",
          "state": {
            "_model_module": "@jupyter-widgets/base",
            "_model_module_version": "1.2.0",
            "_model_name": "LayoutModel",
            "_view_count": null,
            "_view_module": "@jupyter-widgets/base",
            "_view_module_version": "1.2.0",
            "_view_name": "LayoutView",
            "align_content": null,
            "align_items": null,
            "align_self": null,
            "border": null,
            "bottom": null,
            "display": null,
            "flex": null,
            "flex_flow": null,
            "grid_area": null,
            "grid_auto_columns": null,
            "grid_auto_flow": null,
            "grid_auto_rows": null,
            "grid_column": null,
            "grid_gap": null,
            "grid_row": null,
            "grid_template_areas": null,
            "grid_template_columns": null,
            "grid_template_rows": null,
            "height": null,
            "justify_content": null,
            "justify_items": null,
            "left": null,
            "margin": null,
            "max_height": null,
            "max_width": null,
            "min_height": null,
            "min_width": null,
            "object_fit": null,
            "object_position": null,
            "order": null,
            "overflow": null,
            "overflow_x": null,
            "overflow_y": null,
            "padding": null,
            "right": null,
            "top": null,
            "visibility": null,
            "width": null
          }
        },
        "d8ef2afe59bd46e9b6069e359b97b747": {
          "model_module": "@jupyter-widgets/base",
          "model_name": "LayoutModel",
          "model_module_version": "1.2.0",
          "state": {
            "_model_module": "@jupyter-widgets/base",
            "_model_module_version": "1.2.0",
            "_model_name": "LayoutModel",
            "_view_count": null,
            "_view_module": "@jupyter-widgets/base",
            "_view_module_version": "1.2.0",
            "_view_name": "LayoutView",
            "align_content": null,
            "align_items": null,
            "align_self": null,
            "border": null,
            "bottom": null,
            "display": null,
            "flex": null,
            "flex_flow": null,
            "grid_area": null,
            "grid_auto_columns": null,
            "grid_auto_flow": null,
            "grid_auto_rows": null,
            "grid_column": null,
            "grid_gap": null,
            "grid_row": null,
            "grid_template_areas": null,
            "grid_template_columns": null,
            "grid_template_rows": null,
            "height": null,
            "justify_content": null,
            "justify_items": null,
            "left": null,
            "margin": null,
            "max_height": null,
            "max_width": null,
            "min_height": null,
            "min_width": null,
            "object_fit": null,
            "object_position": null,
            "order": null,
            "overflow": null,
            "overflow_x": null,
            "overflow_y": null,
            "padding": null,
            "right": null,
            "top": null,
            "visibility": null,
            "width": null
          }
        },
        "2b4d2cbe7afb4f44abf4169043ec15eb": {
          "model_module": "@jupyter-widgets/controls",
          "model_name": "DescriptionStyleModel",
          "model_module_version": "1.5.0",
          "state": {
            "_model_module": "@jupyter-widgets/controls",
            "_model_module_version": "1.5.0",
            "_model_name": "DescriptionStyleModel",
            "_view_count": null,
            "_view_module": "@jupyter-widgets/base",
            "_view_module_version": "1.2.0",
            "_view_name": "StyleView",
            "description_width": ""
          }
        },
        "7f21acc587a54215a81204c490dfc94b": {
          "model_module": "@jupyter-widgets/base",
          "model_name": "LayoutModel",
          "model_module_version": "1.2.0",
          "state": {
            "_model_module": "@jupyter-widgets/base",
            "_model_module_version": "1.2.0",
            "_model_name": "LayoutModel",
            "_view_count": null,
            "_view_module": "@jupyter-widgets/base",
            "_view_module_version": "1.2.0",
            "_view_name": "LayoutView",
            "align_content": null,
            "align_items": null,
            "align_self": null,
            "border": null,
            "bottom": null,
            "display": null,
            "flex": null,
            "flex_flow": null,
            "grid_area": null,
            "grid_auto_columns": null,
            "grid_auto_flow": null,
            "grid_auto_rows": null,
            "grid_column": null,
            "grid_gap": null,
            "grid_row": null,
            "grid_template_areas": null,
            "grid_template_columns": null,
            "grid_template_rows": null,
            "height": null,
            "justify_content": null,
            "justify_items": null,
            "left": null,
            "margin": null,
            "max_height": null,
            "max_width": null,
            "min_height": null,
            "min_width": null,
            "object_fit": null,
            "object_position": null,
            "order": null,
            "overflow": null,
            "overflow_x": null,
            "overflow_y": null,
            "padding": null,
            "right": null,
            "top": null,
            "visibility": null,
            "width": null
          }
        },
        "c7b683bba583449db188f7ccc20cf62c": {
          "model_module": "@jupyter-widgets/controls",
          "model_name": "ProgressStyleModel",
          "model_module_version": "1.5.0",
          "state": {
            "_model_module": "@jupyter-widgets/controls",
            "_model_module_version": "1.5.0",
            "_model_name": "ProgressStyleModel",
            "_view_count": null,
            "_view_module": "@jupyter-widgets/base",
            "_view_module_version": "1.2.0",
            "_view_name": "StyleView",
            "bar_color": null,
            "description_width": ""
          }
        },
        "c85de9c1a5634fb3b808553fe880f934": {
          "model_module": "@jupyter-widgets/base",
          "model_name": "LayoutModel",
          "model_module_version": "1.2.0",
          "state": {
            "_model_module": "@jupyter-widgets/base",
            "_model_module_version": "1.2.0",
            "_model_name": "LayoutModel",
            "_view_count": null,
            "_view_module": "@jupyter-widgets/base",
            "_view_module_version": "1.2.0",
            "_view_name": "LayoutView",
            "align_content": null,
            "align_items": null,
            "align_self": null,
            "border": null,
            "bottom": null,
            "display": null,
            "flex": null,
            "flex_flow": null,
            "grid_area": null,
            "grid_auto_columns": null,
            "grid_auto_flow": null,
            "grid_auto_rows": null,
            "grid_column": null,
            "grid_gap": null,
            "grid_row": null,
            "grid_template_areas": null,
            "grid_template_columns": null,
            "grid_template_rows": null,
            "height": null,
            "justify_content": null,
            "justify_items": null,
            "left": null,
            "margin": null,
            "max_height": null,
            "max_width": null,
            "min_height": null,
            "min_width": null,
            "object_fit": null,
            "object_position": null,
            "order": null,
            "overflow": null,
            "overflow_x": null,
            "overflow_y": null,
            "padding": null,
            "right": null,
            "top": null,
            "visibility": null,
            "width": null
          }
        },
        "ced630b7c26944899ffae74f8773c3a6": {
          "model_module": "@jupyter-widgets/controls",
          "model_name": "DescriptionStyleModel",
          "model_module_version": "1.5.0",
          "state": {
            "_model_module": "@jupyter-widgets/controls",
            "_model_module_version": "1.5.0",
            "_model_name": "DescriptionStyleModel",
            "_view_count": null,
            "_view_module": "@jupyter-widgets/base",
            "_view_module_version": "1.2.0",
            "_view_name": "StyleView",
            "description_width": ""
          }
        },
        "026ac5dd7c1246b2b3aaf78812f0d24a": {
          "model_module": "@jupyter-widgets/controls",
          "model_name": "HBoxModel",
          "model_module_version": "1.5.0",
          "state": {
            "_dom_classes": [],
            "_model_module": "@jupyter-widgets/controls",
            "_model_module_version": "1.5.0",
            "_model_name": "HBoxModel",
            "_view_count": null,
            "_view_module": "@jupyter-widgets/controls",
            "_view_module_version": "1.5.0",
            "_view_name": "HBoxView",
            "box_style": "",
            "children": [
              "IPY_MODEL_ec2e6eb8ab484d48b6aa4a714f6f23a6",
              "IPY_MODEL_bdcc4a18f4a64aac82466844c9a2c8a1",
              "IPY_MODEL_9162138e08b1480fba880aabd6979bc4"
            ],
            "layout": "IPY_MODEL_c0a07d09569544dfbe7f01f33547cfcb"
          }
        },
        "ec2e6eb8ab484d48b6aa4a714f6f23a6": {
          "model_module": "@jupyter-widgets/controls",
          "model_name": "HTMLModel",
          "model_module_version": "1.5.0",
          "state": {
            "_dom_classes": [],
            "_model_module": "@jupyter-widgets/controls",
            "_model_module_version": "1.5.0",
            "_model_name": "HTMLModel",
            "_view_count": null,
            "_view_module": "@jupyter-widgets/controls",
            "_view_module_version": "1.5.0",
            "_view_name": "HTMLView",
            "description": "",
            "description_tooltip": null,
            "layout": "IPY_MODEL_5992c56360e44211a43d5befdce9ef0f",
            "placeholder": "​",
            "style": "IPY_MODEL_d7c403a25b354483bf30c500c6d4565c",
            "value": "Downloading config.json: 100%"
          }
        },
        "bdcc4a18f4a64aac82466844c9a2c8a1": {
          "model_module": "@jupyter-widgets/controls",
          "model_name": "FloatProgressModel",
          "model_module_version": "1.5.0",
          "state": {
            "_dom_classes": [],
            "_model_module": "@jupyter-widgets/controls",
            "_model_module_version": "1.5.0",
            "_model_name": "FloatProgressModel",
            "_view_count": null,
            "_view_module": "@jupyter-widgets/controls",
            "_view_module_version": "1.5.0",
            "_view_name": "ProgressView",
            "bar_style": "success",
            "description": "",
            "description_tooltip": null,
            "layout": "IPY_MODEL_4c24a91fe0264dfd95d163b3359fb2e8",
            "max": 660,
            "min": 0,
            "orientation": "horizontal",
            "style": "IPY_MODEL_4a0670c5c45f4981af022f0f06f2d1ce",
            "value": 660
          }
        },
        "9162138e08b1480fba880aabd6979bc4": {
          "model_module": "@jupyter-widgets/controls",
          "model_name": "HTMLModel",
          "model_module_version": "1.5.0",
          "state": {
            "_dom_classes": [],
            "_model_module": "@jupyter-widgets/controls",
            "_model_module_version": "1.5.0",
            "_model_name": "HTMLModel",
            "_view_count": null,
            "_view_module": "@jupyter-widgets/controls",
            "_view_module_version": "1.5.0",
            "_view_name": "HTMLView",
            "description": "",
            "description_tooltip": null,
            "layout": "IPY_MODEL_1fd7a46907ca414faffc89ad4bdddff8",
            "placeholder": "​",
            "style": "IPY_MODEL_5fda7e06c79f4847b98d3b7611a97975",
            "value": " 660/660 [00:00&lt;00:00, 40.1kB/s]"
          }
        },
        "c0a07d09569544dfbe7f01f33547cfcb": {
          "model_module": "@jupyter-widgets/base",
          "model_name": "LayoutModel",
          "model_module_version": "1.2.0",
          "state": {
            "_model_module": "@jupyter-widgets/base",
            "_model_module_version": "1.2.0",
            "_model_name": "LayoutModel",
            "_view_count": null,
            "_view_module": "@jupyter-widgets/base",
            "_view_module_version": "1.2.0",
            "_view_name": "LayoutView",
            "align_content": null,
            "align_items": null,
            "align_self": null,
            "border": null,
            "bottom": null,
            "display": null,
            "flex": null,
            "flex_flow": null,
            "grid_area": null,
            "grid_auto_columns": null,
            "grid_auto_flow": null,
            "grid_auto_rows": null,
            "grid_column": null,
            "grid_gap": null,
            "grid_row": null,
            "grid_template_areas": null,
            "grid_template_columns": null,
            "grid_template_rows": null,
            "height": null,
            "justify_content": null,
            "justify_items": null,
            "left": null,
            "margin": null,
            "max_height": null,
            "max_width": null,
            "min_height": null,
            "min_width": null,
            "object_fit": null,
            "object_position": null,
            "order": null,
            "overflow": null,
            "overflow_x": null,
            "overflow_y": null,
            "padding": null,
            "right": null,
            "top": null,
            "visibility": null,
            "width": null
          }
        },
        "5992c56360e44211a43d5befdce9ef0f": {
          "model_module": "@jupyter-widgets/base",
          "model_name": "LayoutModel",
          "model_module_version": "1.2.0",
          "state": {
            "_model_module": "@jupyter-widgets/base",
            "_model_module_version": "1.2.0",
            "_model_name": "LayoutModel",
            "_view_count": null,
            "_view_module": "@jupyter-widgets/base",
            "_view_module_version": "1.2.0",
            "_view_name": "LayoutView",
            "align_content": null,
            "align_items": null,
            "align_self": null,
            "border": null,
            "bottom": null,
            "display": null,
            "flex": null,
            "flex_flow": null,
            "grid_area": null,
            "grid_auto_columns": null,
            "grid_auto_flow": null,
            "grid_auto_rows": null,
            "grid_column": null,
            "grid_gap": null,
            "grid_row": null,
            "grid_template_areas": null,
            "grid_template_columns": null,
            "grid_template_rows": null,
            "height": null,
            "justify_content": null,
            "justify_items": null,
            "left": null,
            "margin": null,
            "max_height": null,
            "max_width": null,
            "min_height": null,
            "min_width": null,
            "object_fit": null,
            "object_position": null,
            "order": null,
            "overflow": null,
            "overflow_x": null,
            "overflow_y": null,
            "padding": null,
            "right": null,
            "top": null,
            "visibility": null,
            "width": null
          }
        },
        "d7c403a25b354483bf30c500c6d4565c": {
          "model_module": "@jupyter-widgets/controls",
          "model_name": "DescriptionStyleModel",
          "model_module_version": "1.5.0",
          "state": {
            "_model_module": "@jupyter-widgets/controls",
            "_model_module_version": "1.5.0",
            "_model_name": "DescriptionStyleModel",
            "_view_count": null,
            "_view_module": "@jupyter-widgets/base",
            "_view_module_version": "1.2.0",
            "_view_name": "StyleView",
            "description_width": ""
          }
        },
        "4c24a91fe0264dfd95d163b3359fb2e8": {
          "model_module": "@jupyter-widgets/base",
          "model_name": "LayoutModel",
          "model_module_version": "1.2.0",
          "state": {
            "_model_module": "@jupyter-widgets/base",
            "_model_module_version": "1.2.0",
            "_model_name": "LayoutModel",
            "_view_count": null,
            "_view_module": "@jupyter-widgets/base",
            "_view_module_version": "1.2.0",
            "_view_name": "LayoutView",
            "align_content": null,
            "align_items": null,
            "align_self": null,
            "border": null,
            "bottom": null,
            "display": null,
            "flex": null,
            "flex_flow": null,
            "grid_area": null,
            "grid_auto_columns": null,
            "grid_auto_flow": null,
            "grid_auto_rows": null,
            "grid_column": null,
            "grid_gap": null,
            "grid_row": null,
            "grid_template_areas": null,
            "grid_template_columns": null,
            "grid_template_rows": null,
            "height": null,
            "justify_content": null,
            "justify_items": null,
            "left": null,
            "margin": null,
            "max_height": null,
            "max_width": null,
            "min_height": null,
            "min_width": null,
            "object_fit": null,
            "object_position": null,
            "order": null,
            "overflow": null,
            "overflow_x": null,
            "overflow_y": null,
            "padding": null,
            "right": null,
            "top": null,
            "visibility": null,
            "width": null
          }
        },
        "4a0670c5c45f4981af022f0f06f2d1ce": {
          "model_module": "@jupyter-widgets/controls",
          "model_name": "ProgressStyleModel",
          "model_module_version": "1.5.0",
          "state": {
            "_model_module": "@jupyter-widgets/controls",
            "_model_module_version": "1.5.0",
            "_model_name": "ProgressStyleModel",
            "_view_count": null,
            "_view_module": "@jupyter-widgets/base",
            "_view_module_version": "1.2.0",
            "_view_name": "StyleView",
            "bar_color": null,
            "description_width": ""
          }
        },
        "1fd7a46907ca414faffc89ad4bdddff8": {
          "model_module": "@jupyter-widgets/base",
          "model_name": "LayoutModel",
          "model_module_version": "1.2.0",
          "state": {
            "_model_module": "@jupyter-widgets/base",
            "_model_module_version": "1.2.0",
            "_model_name": "LayoutModel",
            "_view_count": null,
            "_view_module": "@jupyter-widgets/base",
            "_view_module_version": "1.2.0",
            "_view_name": "LayoutView",
            "align_content": null,
            "align_items": null,
            "align_self": null,
            "border": null,
            "bottom": null,
            "display": null,
            "flex": null,
            "flex_flow": null,
            "grid_area": null,
            "grid_auto_columns": null,
            "grid_auto_flow": null,
            "grid_auto_rows": null,
            "grid_column": null,
            "grid_gap": null,
            "grid_row": null,
            "grid_template_areas": null,
            "grid_template_columns": null,
            "grid_template_rows": null,
            "height": null,
            "justify_content": null,
            "justify_items": null,
            "left": null,
            "margin": null,
            "max_height": null,
            "max_width": null,
            "min_height": null,
            "min_width": null,
            "object_fit": null,
            "object_position": null,
            "order": null,
            "overflow": null,
            "overflow_x": null,
            "overflow_y": null,
            "padding": null,
            "right": null,
            "top": null,
            "visibility": null,
            "width": null
          }
        },
        "5fda7e06c79f4847b98d3b7611a97975": {
          "model_module": "@jupyter-widgets/controls",
          "model_name": "DescriptionStyleModel",
          "model_module_version": "1.5.0",
          "state": {
            "_model_module": "@jupyter-widgets/controls",
            "_model_module_version": "1.5.0",
            "_model_name": "DescriptionStyleModel",
            "_view_count": null,
            "_view_module": "@jupyter-widgets/base",
            "_view_module_version": "1.2.0",
            "_view_name": "StyleView",
            "description_width": ""
          }
        },
        "15395be943994311b574a44a719c70f8": {
          "model_module": "@jupyter-widgets/controls",
          "model_name": "HBoxModel",
          "model_module_version": "1.5.0",
          "state": {
            "_dom_classes": [],
            "_model_module": "@jupyter-widgets/controls",
            "_model_module_version": "1.5.0",
            "_model_name": "HBoxModel",
            "_view_count": null,
            "_view_module": "@jupyter-widgets/controls",
            "_view_module_version": "1.5.0",
            "_view_name": "HBoxView",
            "box_style": "",
            "children": [
              "IPY_MODEL_fd1aecbff4e54926be095192a60571b1",
              "IPY_MODEL_b5b69e3e47264bf3b8cc3e916e0e34a7",
              "IPY_MODEL_15d4ecd310e94dd19daee36029532154"
            ],
            "layout": "IPY_MODEL_0601d57dade54d67b0775ddc90ff7bd4"
          }
        },
        "fd1aecbff4e54926be095192a60571b1": {
          "model_module": "@jupyter-widgets/controls",
          "model_name": "HTMLModel",
          "model_module_version": "1.5.0",
          "state": {
            "_dom_classes": [],
            "_model_module": "@jupyter-widgets/controls",
            "_model_module_version": "1.5.0",
            "_model_name": "HTMLModel",
            "_view_count": null,
            "_view_module": "@jupyter-widgets/controls",
            "_view_module_version": "1.5.0",
            "_view_name": "HTMLView",
            "description": "",
            "description_tooltip": null,
            "layout": "IPY_MODEL_10be6c4a67e24a719607b6621ca5798c",
            "placeholder": "​",
            "style": "IPY_MODEL_cdd8cf4572404b87b35858c540d67042",
            "value": "Downloading vocab.json: 100%"
          }
        },
        "b5b69e3e47264bf3b8cc3e916e0e34a7": {
          "model_module": "@jupyter-widgets/controls",
          "model_name": "FloatProgressModel",
          "model_module_version": "1.5.0",
          "state": {
            "_dom_classes": [],
            "_model_module": "@jupyter-widgets/controls",
            "_model_module_version": "1.5.0",
            "_model_name": "FloatProgressModel",
            "_view_count": null,
            "_view_module": "@jupyter-widgets/controls",
            "_view_module_version": "1.5.0",
            "_view_name": "ProgressView",
            "bar_style": "success",
            "description": "",
            "description_tooltip": null,
            "layout": "IPY_MODEL_f0b04af8edd14883adf01d41965faaef",
            "max": 732536,
            "min": 0,
            "orientation": "horizontal",
            "style": "IPY_MODEL_dc8f6622ab37442a935af4b08a52d2db",
            "value": 732536
          }
        },
        "15d4ecd310e94dd19daee36029532154": {
          "model_module": "@jupyter-widgets/controls",
          "model_name": "HTMLModel",
          "model_module_version": "1.5.0",
          "state": {
            "_dom_classes": [],
            "_model_module": "@jupyter-widgets/controls",
            "_model_module_version": "1.5.0",
            "_model_name": "HTMLModel",
            "_view_count": null,
            "_view_module": "@jupyter-widgets/controls",
            "_view_module_version": "1.5.0",
            "_view_name": "HTMLView",
            "description": "",
            "description_tooltip": null,
            "layout": "IPY_MODEL_003bd28189664e5ea7a1f20d2e24d6fa",
            "placeholder": "​",
            "style": "IPY_MODEL_ce3d5cfb4319441e94151ead320e9375",
            "value": " 715k/715k [00:00&lt;00:00, 2.30MB/s]"
          }
        },
        "0601d57dade54d67b0775ddc90ff7bd4": {
          "model_module": "@jupyter-widgets/base",
          "model_name": "LayoutModel",
          "model_module_version": "1.2.0",
          "state": {
            "_model_module": "@jupyter-widgets/base",
            "_model_module_version": "1.2.0",
            "_model_name": "LayoutModel",
            "_view_count": null,
            "_view_module": "@jupyter-widgets/base",
            "_view_module_version": "1.2.0",
            "_view_name": "LayoutView",
            "align_content": null,
            "align_items": null,
            "align_self": null,
            "border": null,
            "bottom": null,
            "display": null,
            "flex": null,
            "flex_flow": null,
            "grid_area": null,
            "grid_auto_columns": null,
            "grid_auto_flow": null,
            "grid_auto_rows": null,
            "grid_column": null,
            "grid_gap": null,
            "grid_row": null,
            "grid_template_areas": null,
            "grid_template_columns": null,
            "grid_template_rows": null,
            "height": null,
            "justify_content": null,
            "justify_items": null,
            "left": null,
            "margin": null,
            "max_height": null,
            "max_width": null,
            "min_height": null,
            "min_width": null,
            "object_fit": null,
            "object_position": null,
            "order": null,
            "overflow": null,
            "overflow_x": null,
            "overflow_y": null,
            "padding": null,
            "right": null,
            "top": null,
            "visibility": null,
            "width": null
          }
        },
        "10be6c4a67e24a719607b6621ca5798c": {
          "model_module": "@jupyter-widgets/base",
          "model_name": "LayoutModel",
          "model_module_version": "1.2.0",
          "state": {
            "_model_module": "@jupyter-widgets/base",
            "_model_module_version": "1.2.0",
            "_model_name": "LayoutModel",
            "_view_count": null,
            "_view_module": "@jupyter-widgets/base",
            "_view_module_version": "1.2.0",
            "_view_name": "LayoutView",
            "align_content": null,
            "align_items": null,
            "align_self": null,
            "border": null,
            "bottom": null,
            "display": null,
            "flex": null,
            "flex_flow": null,
            "grid_area": null,
            "grid_auto_columns": null,
            "grid_auto_flow": null,
            "grid_auto_rows": null,
            "grid_column": null,
            "grid_gap": null,
            "grid_row": null,
            "grid_template_areas": null,
            "grid_template_columns": null,
            "grid_template_rows": null,
            "height": null,
            "justify_content": null,
            "justify_items": null,
            "left": null,
            "margin": null,
            "max_height": null,
            "max_width": null,
            "min_height": null,
            "min_width": null,
            "object_fit": null,
            "object_position": null,
            "order": null,
            "overflow": null,
            "overflow_x": null,
            "overflow_y": null,
            "padding": null,
            "right": null,
            "top": null,
            "visibility": null,
            "width": null
          }
        },
        "cdd8cf4572404b87b35858c540d67042": {
          "model_module": "@jupyter-widgets/controls",
          "model_name": "DescriptionStyleModel",
          "model_module_version": "1.5.0",
          "state": {
            "_model_module": "@jupyter-widgets/controls",
            "_model_module_version": "1.5.0",
            "_model_name": "DescriptionStyleModel",
            "_view_count": null,
            "_view_module": "@jupyter-widgets/base",
            "_view_module_version": "1.2.0",
            "_view_name": "StyleView",
            "description_width": ""
          }
        },
        "f0b04af8edd14883adf01d41965faaef": {
          "model_module": "@jupyter-widgets/base",
          "model_name": "LayoutModel",
          "model_module_version": "1.2.0",
          "state": {
            "_model_module": "@jupyter-widgets/base",
            "_model_module_version": "1.2.0",
            "_model_name": "LayoutModel",
            "_view_count": null,
            "_view_module": "@jupyter-widgets/base",
            "_view_module_version": "1.2.0",
            "_view_name": "LayoutView",
            "align_content": null,
            "align_items": null,
            "align_self": null,
            "border": null,
            "bottom": null,
            "display": null,
            "flex": null,
            "flex_flow": null,
            "grid_area": null,
            "grid_auto_columns": null,
            "grid_auto_flow": null,
            "grid_auto_rows": null,
            "grid_column": null,
            "grid_gap": null,
            "grid_row": null,
            "grid_template_areas": null,
            "grid_template_columns": null,
            "grid_template_rows": null,
            "height": null,
            "justify_content": null,
            "justify_items": null,
            "left": null,
            "margin": null,
            "max_height": null,
            "max_width": null,
            "min_height": null,
            "min_width": null,
            "object_fit": null,
            "object_position": null,
            "order": null,
            "overflow": null,
            "overflow_x": null,
            "overflow_y": null,
            "padding": null,
            "right": null,
            "top": null,
            "visibility": null,
            "width": null
          }
        },
        "dc8f6622ab37442a935af4b08a52d2db": {
          "model_module": "@jupyter-widgets/controls",
          "model_name": "ProgressStyleModel",
          "model_module_version": "1.5.0",
          "state": {
            "_model_module": "@jupyter-widgets/controls",
            "_model_module_version": "1.5.0",
            "_model_name": "ProgressStyleModel",
            "_view_count": null,
            "_view_module": "@jupyter-widgets/base",
            "_view_module_version": "1.2.0",
            "_view_name": "StyleView",
            "bar_color": null,
            "description_width": ""
          }
        },
        "003bd28189664e5ea7a1f20d2e24d6fa": {
          "model_module": "@jupyter-widgets/base",
          "model_name": "LayoutModel",
          "model_module_version": "1.2.0",
          "state": {
            "_model_module": "@jupyter-widgets/base",
            "_model_module_version": "1.2.0",
            "_model_name": "LayoutModel",
            "_view_count": null,
            "_view_module": "@jupyter-widgets/base",
            "_view_module_version": "1.2.0",
            "_view_name": "LayoutView",
            "align_content": null,
            "align_items": null,
            "align_self": null,
            "border": null,
            "bottom": null,
            "display": null,
            "flex": null,
            "flex_flow": null,
            "grid_area": null,
            "grid_auto_columns": null,
            "grid_auto_flow": null,
            "grid_auto_rows": null,
            "grid_column": null,
            "grid_gap": null,
            "grid_row": null,
            "grid_template_areas": null,
            "grid_template_columns": null,
            "grid_template_rows": null,
            "height": null,
            "justify_content": null,
            "justify_items": null,
            "left": null,
            "margin": null,
            "max_height": null,
            "max_width": null,
            "min_height": null,
            "min_width": null,
            "object_fit": null,
            "object_position": null,
            "order": null,
            "overflow": null,
            "overflow_x": null,
            "overflow_y": null,
            "padding": null,
            "right": null,
            "top": null,
            "visibility": null,
            "width": null
          }
        },
        "ce3d5cfb4319441e94151ead320e9375": {
          "model_module": "@jupyter-widgets/controls",
          "model_name": "DescriptionStyleModel",
          "model_module_version": "1.5.0",
          "state": {
            "_model_module": "@jupyter-widgets/controls",
            "_model_module_version": "1.5.0",
            "_model_name": "DescriptionStyleModel",
            "_view_count": null,
            "_view_module": "@jupyter-widgets/base",
            "_view_module_version": "1.2.0",
            "_view_name": "StyleView",
            "description_width": ""
          }
        },
        "5cb7494ae0d24b3aaf8582db637e3692": {
          "model_module": "@jupyter-widgets/controls",
          "model_name": "HBoxModel",
          "model_module_version": "1.5.0",
          "state": {
            "_dom_classes": [],
            "_model_module": "@jupyter-widgets/controls",
            "_model_module_version": "1.5.0",
            "_model_name": "HBoxModel",
            "_view_count": null,
            "_view_module": "@jupyter-widgets/controls",
            "_view_module_version": "1.5.0",
            "_view_name": "HBoxView",
            "box_style": "",
            "children": [
              "IPY_MODEL_27b33c22fb474f10b328b73c535b4ebd",
              "IPY_MODEL_6c2c481af8474df590d19a070aee99dc",
              "IPY_MODEL_38a039dba64246b6a2f95f2a57a0e1bc"
            ],
            "layout": "IPY_MODEL_d973b61b8a3a4aff8c567eef27d11ebf"
          }
        },
        "27b33c22fb474f10b328b73c535b4ebd": {
          "model_module": "@jupyter-widgets/controls",
          "model_name": "HTMLModel",
          "model_module_version": "1.5.0",
          "state": {
            "_dom_classes": [],
            "_model_module": "@jupyter-widgets/controls",
            "_model_module_version": "1.5.0",
            "_model_name": "HTMLModel",
            "_view_count": null,
            "_view_module": "@jupyter-widgets/controls",
            "_view_module_version": "1.5.0",
            "_view_name": "HTMLView",
            "description": "",
            "description_tooltip": null,
            "layout": "IPY_MODEL_54a40b692d124badaa5425e97f02f4e4",
            "placeholder": "​",
            "style": "IPY_MODEL_3d9d8d937efd43b2bea0ba7563165cc4",
            "value": "Downloading merges.txt: 100%"
          }
        },
        "6c2c481af8474df590d19a070aee99dc": {
          "model_module": "@jupyter-widgets/controls",
          "model_name": "FloatProgressModel",
          "model_module_version": "1.5.0",
          "state": {
            "_dom_classes": [],
            "_model_module": "@jupyter-widgets/controls",
            "_model_module_version": "1.5.0",
            "_model_name": "FloatProgressModel",
            "_view_count": null,
            "_view_module": "@jupyter-widgets/controls",
            "_view_module_version": "1.5.0",
            "_view_name": "ProgressView",
            "bar_style": "success",
            "description": "",
            "description_tooltip": null,
            "layout": "IPY_MODEL_7dd6389c2d0c4f26924285d548092b03",
            "max": 382677,
            "min": 0,
            "orientation": "horizontal",
            "style": "IPY_MODEL_406f09fd7f0646e398114943c9bc7ba2",
            "value": 382677
          }
        },
        "38a039dba64246b6a2f95f2a57a0e1bc": {
          "model_module": "@jupyter-widgets/controls",
          "model_name": "HTMLModel",
          "model_module_version": "1.5.0",
          "state": {
            "_dom_classes": [],
            "_model_module": "@jupyter-widgets/controls",
            "_model_module_version": "1.5.0",
            "_model_name": "HTMLModel",
            "_view_count": null,
            "_view_module": "@jupyter-widgets/controls",
            "_view_module_version": "1.5.0",
            "_view_name": "HTMLView",
            "description": "",
            "description_tooltip": null,
            "layout": "IPY_MODEL_21f7e2219bb3432cbc2b769fa96674e1",
            "placeholder": "​",
            "style": "IPY_MODEL_bbe437c84de84bce9ed126c6863cdad0",
            "value": " 374k/374k [00:00&lt;00:00, 2.18MB/s]"
          }
        },
        "d973b61b8a3a4aff8c567eef27d11ebf": {
          "model_module": "@jupyter-widgets/base",
          "model_name": "LayoutModel",
          "model_module_version": "1.2.0",
          "state": {
            "_model_module": "@jupyter-widgets/base",
            "_model_module_version": "1.2.0",
            "_model_name": "LayoutModel",
            "_view_count": null,
            "_view_module": "@jupyter-widgets/base",
            "_view_module_version": "1.2.0",
            "_view_name": "LayoutView",
            "align_content": null,
            "align_items": null,
            "align_self": null,
            "border": null,
            "bottom": null,
            "display": null,
            "flex": null,
            "flex_flow": null,
            "grid_area": null,
            "grid_auto_columns": null,
            "grid_auto_flow": null,
            "grid_auto_rows": null,
            "grid_column": null,
            "grid_gap": null,
            "grid_row": null,
            "grid_template_areas": null,
            "grid_template_columns": null,
            "grid_template_rows": null,
            "height": null,
            "justify_content": null,
            "justify_items": null,
            "left": null,
            "margin": null,
            "max_height": null,
            "max_width": null,
            "min_height": null,
            "min_width": null,
            "object_fit": null,
            "object_position": null,
            "order": null,
            "overflow": null,
            "overflow_x": null,
            "overflow_y": null,
            "padding": null,
            "right": null,
            "top": null,
            "visibility": null,
            "width": null
          }
        },
        "54a40b692d124badaa5425e97f02f4e4": {
          "model_module": "@jupyter-widgets/base",
          "model_name": "LayoutModel",
          "model_module_version": "1.2.0",
          "state": {
            "_model_module": "@jupyter-widgets/base",
            "_model_module_version": "1.2.0",
            "_model_name": "LayoutModel",
            "_view_count": null,
            "_view_module": "@jupyter-widgets/base",
            "_view_module_version": "1.2.0",
            "_view_name": "LayoutView",
            "align_content": null,
            "align_items": null,
            "align_self": null,
            "border": null,
            "bottom": null,
            "display": null,
            "flex": null,
            "flex_flow": null,
            "grid_area": null,
            "grid_auto_columns": null,
            "grid_auto_flow": null,
            "grid_auto_rows": null,
            "grid_column": null,
            "grid_gap": null,
            "grid_row": null,
            "grid_template_areas": null,
            "grid_template_columns": null,
            "grid_template_rows": null,
            "height": null,
            "justify_content": null,
            "justify_items": null,
            "left": null,
            "margin": null,
            "max_height": null,
            "max_width": null,
            "min_height": null,
            "min_width": null,
            "object_fit": null,
            "object_position": null,
            "order": null,
            "overflow": null,
            "overflow_x": null,
            "overflow_y": null,
            "padding": null,
            "right": null,
            "top": null,
            "visibility": null,
            "width": null
          }
        },
        "3d9d8d937efd43b2bea0ba7563165cc4": {
          "model_module": "@jupyter-widgets/controls",
          "model_name": "DescriptionStyleModel",
          "model_module_version": "1.5.0",
          "state": {
            "_model_module": "@jupyter-widgets/controls",
            "_model_module_version": "1.5.0",
            "_model_name": "DescriptionStyleModel",
            "_view_count": null,
            "_view_module": "@jupyter-widgets/base",
            "_view_module_version": "1.2.0",
            "_view_name": "StyleView",
            "description_width": ""
          }
        },
        "7dd6389c2d0c4f26924285d548092b03": {
          "model_module": "@jupyter-widgets/base",
          "model_name": "LayoutModel",
          "model_module_version": "1.2.0",
          "state": {
            "_model_module": "@jupyter-widgets/base",
            "_model_module_version": "1.2.0",
            "_model_name": "LayoutModel",
            "_view_count": null,
            "_view_module": "@jupyter-widgets/base",
            "_view_module_version": "1.2.0",
            "_view_name": "LayoutView",
            "align_content": null,
            "align_items": null,
            "align_self": null,
            "border": null,
            "bottom": null,
            "display": null,
            "flex": null,
            "flex_flow": null,
            "grid_area": null,
            "grid_auto_columns": null,
            "grid_auto_flow": null,
            "grid_auto_rows": null,
            "grid_column": null,
            "grid_gap": null,
            "grid_row": null,
            "grid_template_areas": null,
            "grid_template_columns": null,
            "grid_template_rows": null,
            "height": null,
            "justify_content": null,
            "justify_items": null,
            "left": null,
            "margin": null,
            "max_height": null,
            "max_width": null,
            "min_height": null,
            "min_width": null,
            "object_fit": null,
            "object_position": null,
            "order": null,
            "overflow": null,
            "overflow_x": null,
            "overflow_y": null,
            "padding": null,
            "right": null,
            "top": null,
            "visibility": null,
            "width": null
          }
        },
        "406f09fd7f0646e398114943c9bc7ba2": {
          "model_module": "@jupyter-widgets/controls",
          "model_name": "ProgressStyleModel",
          "model_module_version": "1.5.0",
          "state": {
            "_model_module": "@jupyter-widgets/controls",
            "_model_module_version": "1.5.0",
            "_model_name": "ProgressStyleModel",
            "_view_count": null,
            "_view_module": "@jupyter-widgets/base",
            "_view_module_version": "1.2.0",
            "_view_name": "StyleView",
            "bar_color": null,
            "description_width": ""
          }
        },
        "21f7e2219bb3432cbc2b769fa96674e1": {
          "model_module": "@jupyter-widgets/base",
          "model_name": "LayoutModel",
          "model_module_version": "1.2.0",
          "state": {
            "_model_module": "@jupyter-widgets/base",
            "_model_module_version": "1.2.0",
            "_model_name": "LayoutModel",
            "_view_count": null,
            "_view_module": "@jupyter-widgets/base",
            "_view_module_version": "1.2.0",
            "_view_name": "LayoutView",
            "align_content": null,
            "align_items": null,
            "align_self": null,
            "border": null,
            "bottom": null,
            "display": null,
            "flex": null,
            "flex_flow": null,
            "grid_area": null,
            "grid_auto_columns": null,
            "grid_auto_flow": null,
            "grid_auto_rows": null,
            "grid_column": null,
            "grid_gap": null,
            "grid_row": null,
            "grid_template_areas": null,
            "grid_template_columns": null,
            "grid_template_rows": null,
            "height": null,
            "justify_content": null,
            "justify_items": null,
            "left": null,
            "margin": null,
            "max_height": null,
            "max_width": null,
            "min_height": null,
            "min_width": null,
            "object_fit": null,
            "object_position": null,
            "order": null,
            "overflow": null,
            "overflow_x": null,
            "overflow_y": null,
            "padding": null,
            "right": null,
            "top": null,
            "visibility": null,
            "width": null
          }
        },
        "bbe437c84de84bce9ed126c6863cdad0": {
          "model_module": "@jupyter-widgets/controls",
          "model_name": "DescriptionStyleModel",
          "model_module_version": "1.5.0",
          "state": {
            "_model_module": "@jupyter-widgets/controls",
            "_model_module_version": "1.5.0",
            "_model_name": "DescriptionStyleModel",
            "_view_count": null,
            "_view_module": "@jupyter-widgets/base",
            "_view_module_version": "1.2.0",
            "_view_name": "StyleView",
            "description_width": ""
          }
        },
        "d785a33ffa3349f6ba3e4c61b035fa0b": {
          "model_module": "@jupyter-widgets/controls",
          "model_name": "HBoxModel",
          "model_module_version": "1.5.0",
          "state": {
            "_dom_classes": [],
            "_model_module": "@jupyter-widgets/controls",
            "_model_module_version": "1.5.0",
            "_model_name": "HBoxModel",
            "_view_count": null,
            "_view_module": "@jupyter-widgets/controls",
            "_view_module_version": "1.5.0",
            "_view_name": "HBoxView",
            "box_style": "",
            "children": [
              "IPY_MODEL_5ccf3f58fe2d40368a3039d905709635",
              "IPY_MODEL_c0c7c1de4b8b48dfa7acf48dc345c0c1",
              "IPY_MODEL_b822f3f63a854fa18aa4674e0e34cc38"
            ],
            "layout": "IPY_MODEL_d6c550c63be04d5dae951de470869847"
          }
        },
        "5ccf3f58fe2d40368a3039d905709635": {
          "model_module": "@jupyter-widgets/controls",
          "model_name": "HTMLModel",
          "model_module_version": "1.5.0",
          "state": {
            "_dom_classes": [],
            "_model_module": "@jupyter-widgets/controls",
            "_model_module_version": "1.5.0",
            "_model_name": "HTMLModel",
            "_view_count": null,
            "_view_module": "@jupyter-widgets/controls",
            "_view_module_version": "1.5.0",
            "_view_name": "HTMLView",
            "description": "",
            "description_tooltip": null,
            "layout": "IPY_MODEL_410daeba680f4fe38523b2887999b7a8",
            "placeholder": "​",
            "style": "IPY_MODEL_6c4d2bc21bb54446859af060ec7847f8",
            "value": "Downloading tokenizer.json: 100%"
          }
        },
        "c0c7c1de4b8b48dfa7acf48dc345c0c1": {
          "model_module": "@jupyter-widgets/controls",
          "model_name": "FloatProgressModel",
          "model_module_version": "1.5.0",
          "state": {
            "_dom_classes": [],
            "_model_module": "@jupyter-widgets/controls",
            "_model_module_version": "1.5.0",
            "_model_name": "FloatProgressModel",
            "_view_count": null,
            "_view_module": "@jupyter-widgets/controls",
            "_view_module_version": "1.5.0",
            "_view_name": "ProgressView",
            "bar_style": "success",
            "description": "",
            "description_tooltip": null,
            "layout": "IPY_MODEL_bbe681949ff94937a0df31813ace935e",
            "max": 1115741,
            "min": 0,
            "orientation": "horizontal",
            "style": "IPY_MODEL_1c532b2c0d254a919d104a3075cb2433",
            "value": 1115741
          }
        },
        "b822f3f63a854fa18aa4674e0e34cc38": {
          "model_module": "@jupyter-widgets/controls",
          "model_name": "HTMLModel",
          "model_module_version": "1.5.0",
          "state": {
            "_dom_classes": [],
            "_model_module": "@jupyter-widgets/controls",
            "_model_module_version": "1.5.0",
            "_model_name": "HTMLModel",
            "_view_count": null,
            "_view_module": "@jupyter-widgets/controls",
            "_view_module_version": "1.5.0",
            "_view_name": "HTMLView",
            "description": "",
            "description_tooltip": null,
            "layout": "IPY_MODEL_5ad7eadd13484349a462f1adb7f3b2f4",
            "placeholder": "​",
            "style": "IPY_MODEL_07b4d7509e3745d4b7f349e48ee0fbe1",
            "value": " 1.06M/1.06M [00:00&lt;00:00, 2.30MB/s]"
          }
        },
        "d6c550c63be04d5dae951de470869847": {
          "model_module": "@jupyter-widgets/base",
          "model_name": "LayoutModel",
          "model_module_version": "1.2.0",
          "state": {
            "_model_module": "@jupyter-widgets/base",
            "_model_module_version": "1.2.0",
            "_model_name": "LayoutModel",
            "_view_count": null,
            "_view_module": "@jupyter-widgets/base",
            "_view_module_version": "1.2.0",
            "_view_name": "LayoutView",
            "align_content": null,
            "align_items": null,
            "align_self": null,
            "border": null,
            "bottom": null,
            "display": null,
            "flex": null,
            "flex_flow": null,
            "grid_area": null,
            "grid_auto_columns": null,
            "grid_auto_flow": null,
            "grid_auto_rows": null,
            "grid_column": null,
            "grid_gap": null,
            "grid_row": null,
            "grid_template_areas": null,
            "grid_template_columns": null,
            "grid_template_rows": null,
            "height": null,
            "justify_content": null,
            "justify_items": null,
            "left": null,
            "margin": null,
            "max_height": null,
            "max_width": null,
            "min_height": null,
            "min_width": null,
            "object_fit": null,
            "object_position": null,
            "order": null,
            "overflow": null,
            "overflow_x": null,
            "overflow_y": null,
            "padding": null,
            "right": null,
            "top": null,
            "visibility": null,
            "width": null
          }
        },
        "410daeba680f4fe38523b2887999b7a8": {
          "model_module": "@jupyter-widgets/base",
          "model_name": "LayoutModel",
          "model_module_version": "1.2.0",
          "state": {
            "_model_module": "@jupyter-widgets/base",
            "_model_module_version": "1.2.0",
            "_model_name": "LayoutModel",
            "_view_count": null,
            "_view_module": "@jupyter-widgets/base",
            "_view_module_version": "1.2.0",
            "_view_name": "LayoutView",
            "align_content": null,
            "align_items": null,
            "align_self": null,
            "border": null,
            "bottom": null,
            "display": null,
            "flex": null,
            "flex_flow": null,
            "grid_area": null,
            "grid_auto_columns": null,
            "grid_auto_flow": null,
            "grid_auto_rows": null,
            "grid_column": null,
            "grid_gap": null,
            "grid_row": null,
            "grid_template_areas": null,
            "grid_template_columns": null,
            "grid_template_rows": null,
            "height": null,
            "justify_content": null,
            "justify_items": null,
            "left": null,
            "margin": null,
            "max_height": null,
            "max_width": null,
            "min_height": null,
            "min_width": null,
            "object_fit": null,
            "object_position": null,
            "order": null,
            "overflow": null,
            "overflow_x": null,
            "overflow_y": null,
            "padding": null,
            "right": null,
            "top": null,
            "visibility": null,
            "width": null
          }
        },
        "6c4d2bc21bb54446859af060ec7847f8": {
          "model_module": "@jupyter-widgets/controls",
          "model_name": "DescriptionStyleModel",
          "model_module_version": "1.5.0",
          "state": {
            "_model_module": "@jupyter-widgets/controls",
            "_model_module_version": "1.5.0",
            "_model_name": "DescriptionStyleModel",
            "_view_count": null,
            "_view_module": "@jupyter-widgets/base",
            "_view_module_version": "1.2.0",
            "_view_name": "StyleView",
            "description_width": ""
          }
        },
        "bbe681949ff94937a0df31813ace935e": {
          "model_module": "@jupyter-widgets/base",
          "model_name": "LayoutModel",
          "model_module_version": "1.2.0",
          "state": {
            "_model_module": "@jupyter-widgets/base",
            "_model_module_version": "1.2.0",
            "_model_name": "LayoutModel",
            "_view_count": null,
            "_view_module": "@jupyter-widgets/base",
            "_view_module_version": "1.2.0",
            "_view_name": "LayoutView",
            "align_content": null,
            "align_items": null,
            "align_self": null,
            "border": null,
            "bottom": null,
            "display": null,
            "flex": null,
            "flex_flow": null,
            "grid_area": null,
            "grid_auto_columns": null,
            "grid_auto_flow": null,
            "grid_auto_rows": null,
            "grid_column": null,
            "grid_gap": null,
            "grid_row": null,
            "grid_template_areas": null,
            "grid_template_columns": null,
            "grid_template_rows": null,
            "height": null,
            "justify_content": null,
            "justify_items": null,
            "left": null,
            "margin": null,
            "max_height": null,
            "max_width": null,
            "min_height": null,
            "min_width": null,
            "object_fit": null,
            "object_position": null,
            "order": null,
            "overflow": null,
            "overflow_x": null,
            "overflow_y": null,
            "padding": null,
            "right": null,
            "top": null,
            "visibility": null,
            "width": null
          }
        },
        "1c532b2c0d254a919d104a3075cb2433": {
          "model_module": "@jupyter-widgets/controls",
          "model_name": "ProgressStyleModel",
          "model_module_version": "1.5.0",
          "state": {
            "_model_module": "@jupyter-widgets/controls",
            "_model_module_version": "1.5.0",
            "_model_name": "ProgressStyleModel",
            "_view_count": null,
            "_view_module": "@jupyter-widgets/base",
            "_view_module_version": "1.2.0",
            "_view_name": "StyleView",
            "bar_color": null,
            "description_width": ""
          }
        },
        "5ad7eadd13484349a462f1adb7f3b2f4": {
          "model_module": "@jupyter-widgets/base",
          "model_name": "LayoutModel",
          "model_module_version": "1.2.0",
          "state": {
            "_model_module": "@jupyter-widgets/base",
            "_model_module_version": "1.2.0",
            "_model_name": "LayoutModel",
            "_view_count": null,
            "_view_module": "@jupyter-widgets/base",
            "_view_module_version": "1.2.0",
            "_view_name": "LayoutView",
            "align_content": null,
            "align_items": null,
            "align_self": null,
            "border": null,
            "bottom": null,
            "display": null,
            "flex": null,
            "flex_flow": null,
            "grid_area": null,
            "grid_auto_columns": null,
            "grid_auto_flow": null,
            "grid_auto_rows": null,
            "grid_column": null,
            "grid_gap": null,
            "grid_row": null,
            "grid_template_areas": null,
            "grid_template_columns": null,
            "grid_template_rows": null,
            "height": null,
            "justify_content": null,
            "justify_items": null,
            "left": null,
            "margin": null,
            "max_height": null,
            "max_width": null,
            "min_height": null,
            "min_width": null,
            "object_fit": null,
            "object_position": null,
            "order": null,
            "overflow": null,
            "overflow_x": null,
            "overflow_y": null,
            "padding": null,
            "right": null,
            "top": null,
            "visibility": null,
            "width": null
          }
        },
        "07b4d7509e3745d4b7f349e48ee0fbe1": {
          "model_module": "@jupyter-widgets/controls",
          "model_name": "DescriptionStyleModel",
          "model_module_version": "1.5.0",
          "state": {
            "_model_module": "@jupyter-widgets/controls",
            "_model_module_version": "1.5.0",
            "_model_name": "DescriptionStyleModel",
            "_view_count": null,
            "_view_module": "@jupyter-widgets/base",
            "_view_module_version": "1.2.0",
            "_view_name": "StyleView",
            "description_width": ""
          }
        },
        "065baef6a1bc46a89a8fc7c07c545622": {
          "model_module": "@jupyter-widgets/controls",
          "model_name": "HBoxModel",
          "model_module_version": "1.5.0",
          "state": {
            "_dom_classes": [],
            "_model_module": "@jupyter-widgets/controls",
            "_model_module_version": "1.5.0",
            "_model_name": "HBoxModel",
            "_view_count": null,
            "_view_module": "@jupyter-widgets/controls",
            "_view_module_version": "1.5.0",
            "_view_name": "HBoxView",
            "box_style": "",
            "children": [
              "IPY_MODEL_0928f80542f8413f986eba30ff10e8c4",
              "IPY_MODEL_58ecd05514f94d1e8fd2640ee4f9068d",
              "IPY_MODEL_397b8e5156ec4db5939fe7f0bc347d88"
            ],
            "layout": "IPY_MODEL_ae8ca53a83fa48ab927c06ab3f09740c"
          }
        },
        "0928f80542f8413f986eba30ff10e8c4": {
          "model_module": "@jupyter-widgets/controls",
          "model_name": "HTMLModel",
          "model_module_version": "1.5.0",
          "state": {
            "_dom_classes": [],
            "_model_module": "@jupyter-widgets/controls",
            "_model_module_version": "1.5.0",
            "_model_name": "HTMLModel",
            "_view_count": null,
            "_view_module": "@jupyter-widgets/controls",
            "_view_module_version": "1.5.0",
            "_view_name": "HTMLView",
            "description": "",
            "description_tooltip": null,
            "layout": "IPY_MODEL_a0b9c9a3e7b7466196d822a2f539c08a",
            "placeholder": "​",
            "style": "IPY_MODEL_f74e741e60974e6faf848fa6da2e7a47",
            "value": "Downloading special_tokens_map.json: 100%"
          }
        },
        "58ecd05514f94d1e8fd2640ee4f9068d": {
          "model_module": "@jupyter-widgets/controls",
          "model_name": "FloatProgressModel",
          "model_module_version": "1.5.0",
          "state": {
            "_dom_classes": [],
            "_model_module": "@jupyter-widgets/controls",
            "_model_module_version": "1.5.0",
            "_model_name": "FloatProgressModel",
            "_view_count": null,
            "_view_module": "@jupyter-widgets/controls",
            "_view_module_version": "1.5.0",
            "_view_name": "ProgressView",
            "bar_style": "success",
            "description": "",
            "description_tooltip": null,
            "layout": "IPY_MODEL_50a474366d6f44dfb82ffaca66e6c52c",
            "max": 239,
            "min": 0,
            "orientation": "horizontal",
            "style": "IPY_MODEL_9646f431ad4c431c95531056eac0ffb6",
            "value": 239
          }
        },
        "397b8e5156ec4db5939fe7f0bc347d88": {
          "model_module": "@jupyter-widgets/controls",
          "model_name": "HTMLModel",
          "model_module_version": "1.5.0",
          "state": {
            "_dom_classes": [],
            "_model_module": "@jupyter-widgets/controls",
            "_model_module_version": "1.5.0",
            "_model_name": "HTMLModel",
            "_view_count": null,
            "_view_module": "@jupyter-widgets/controls",
            "_view_module_version": "1.5.0",
            "_view_name": "HTMLView",
            "description": "",
            "description_tooltip": null,
            "layout": "IPY_MODEL_03b24d4ac82f41b3b1948ecfdb0f5222",
            "placeholder": "​",
            "style": "IPY_MODEL_fa24726d5a424c3a8797ee3778c891f9",
            "value": " 239/239 [00:00&lt;00:00, 16.2kB/s]"
          }
        },
        "ae8ca53a83fa48ab927c06ab3f09740c": {
          "model_module": "@jupyter-widgets/base",
          "model_name": "LayoutModel",
          "model_module_version": "1.2.0",
          "state": {
            "_model_module": "@jupyter-widgets/base",
            "_model_module_version": "1.2.0",
            "_model_name": "LayoutModel",
            "_view_count": null,
            "_view_module": "@jupyter-widgets/base",
            "_view_module_version": "1.2.0",
            "_view_name": "LayoutView",
            "align_content": null,
            "align_items": null,
            "align_self": null,
            "border": null,
            "bottom": null,
            "display": null,
            "flex": null,
            "flex_flow": null,
            "grid_area": null,
            "grid_auto_columns": null,
            "grid_auto_flow": null,
            "grid_auto_rows": null,
            "grid_column": null,
            "grid_gap": null,
            "grid_row": null,
            "grid_template_areas": null,
            "grid_template_columns": null,
            "grid_template_rows": null,
            "height": null,
            "justify_content": null,
            "justify_items": null,
            "left": null,
            "margin": null,
            "max_height": null,
            "max_width": null,
            "min_height": null,
            "min_width": null,
            "object_fit": null,
            "object_position": null,
            "order": null,
            "overflow": null,
            "overflow_x": null,
            "overflow_y": null,
            "padding": null,
            "right": null,
            "top": null,
            "visibility": null,
            "width": null
          }
        },
        "a0b9c9a3e7b7466196d822a2f539c08a": {
          "model_module": "@jupyter-widgets/base",
          "model_name": "LayoutModel",
          "model_module_version": "1.2.0",
          "state": {
            "_model_module": "@jupyter-widgets/base",
            "_model_module_version": "1.2.0",
            "_model_name": "LayoutModel",
            "_view_count": null,
            "_view_module": "@jupyter-widgets/base",
            "_view_module_version": "1.2.0",
            "_view_name": "LayoutView",
            "align_content": null,
            "align_items": null,
            "align_self": null,
            "border": null,
            "bottom": null,
            "display": null,
            "flex": null,
            "flex_flow": null,
            "grid_area": null,
            "grid_auto_columns": null,
            "grid_auto_flow": null,
            "grid_auto_rows": null,
            "grid_column": null,
            "grid_gap": null,
            "grid_row": null,
            "grid_template_areas": null,
            "grid_template_columns": null,
            "grid_template_rows": null,
            "height": null,
            "justify_content": null,
            "justify_items": null,
            "left": null,
            "margin": null,
            "max_height": null,
            "max_width": null,
            "min_height": null,
            "min_width": null,
            "object_fit": null,
            "object_position": null,
            "order": null,
            "overflow": null,
            "overflow_x": null,
            "overflow_y": null,
            "padding": null,
            "right": null,
            "top": null,
            "visibility": null,
            "width": null
          }
        },
        "f74e741e60974e6faf848fa6da2e7a47": {
          "model_module": "@jupyter-widgets/controls",
          "model_name": "DescriptionStyleModel",
          "model_module_version": "1.5.0",
          "state": {
            "_model_module": "@jupyter-widgets/controls",
            "_model_module_version": "1.5.0",
            "_model_name": "DescriptionStyleModel",
            "_view_count": null,
            "_view_module": "@jupyter-widgets/base",
            "_view_module_version": "1.2.0",
            "_view_name": "StyleView",
            "description_width": ""
          }
        },
        "50a474366d6f44dfb82ffaca66e6c52c": {
          "model_module": "@jupyter-widgets/base",
          "model_name": "LayoutModel",
          "model_module_version": "1.2.0",
          "state": {
            "_model_module": "@jupyter-widgets/base",
            "_model_module_version": "1.2.0",
            "_model_name": "LayoutModel",
            "_view_count": null,
            "_view_module": "@jupyter-widgets/base",
            "_view_module_version": "1.2.0",
            "_view_name": "LayoutView",
            "align_content": null,
            "align_items": null,
            "align_self": null,
            "border": null,
            "bottom": null,
            "display": null,
            "flex": null,
            "flex_flow": null,
            "grid_area": null,
            "grid_auto_columns": null,
            "grid_auto_flow": null,
            "grid_auto_rows": null,
            "grid_column": null,
            "grid_gap": null,
            "grid_row": null,
            "grid_template_areas": null,
            "grid_template_columns": null,
            "grid_template_rows": null,
            "height": null,
            "justify_content": null,
            "justify_items": null,
            "left": null,
            "margin": null,
            "max_height": null,
            "max_width": null,
            "min_height": null,
            "min_width": null,
            "object_fit": null,
            "object_position": null,
            "order": null,
            "overflow": null,
            "overflow_x": null,
            "overflow_y": null,
            "padding": null,
            "right": null,
            "top": null,
            "visibility": null,
            "width": null
          }
        },
        "9646f431ad4c431c95531056eac0ffb6": {
          "model_module": "@jupyter-widgets/controls",
          "model_name": "ProgressStyleModel",
          "model_module_version": "1.5.0",
          "state": {
            "_model_module": "@jupyter-widgets/controls",
            "_model_module_version": "1.5.0",
            "_model_name": "ProgressStyleModel",
            "_view_count": null,
            "_view_module": "@jupyter-widgets/base",
            "_view_module_version": "1.2.0",
            "_view_name": "StyleView",
            "bar_color": null,
            "description_width": ""
          }
        },
        "03b24d4ac82f41b3b1948ecfdb0f5222": {
          "model_module": "@jupyter-widgets/base",
          "model_name": "LayoutModel",
          "model_module_version": "1.2.0",
          "state": {
            "_model_module": "@jupyter-widgets/base",
            "_model_module_version": "1.2.0",
            "_model_name": "LayoutModel",
            "_view_count": null,
            "_view_module": "@jupyter-widgets/base",
            "_view_module_version": "1.2.0",
            "_view_name": "LayoutView",
            "align_content": null,
            "align_items": null,
            "align_self": null,
            "border": null,
            "bottom": null,
            "display": null,
            "flex": null,
            "flex_flow": null,
            "grid_area": null,
            "grid_auto_columns": null,
            "grid_auto_flow": null,
            "grid_auto_rows": null,
            "grid_column": null,
            "grid_gap": null,
            "grid_row": null,
            "grid_template_areas": null,
            "grid_template_columns": null,
            "grid_template_rows": null,
            "height": null,
            "justify_content": null,
            "justify_items": null,
            "left": null,
            "margin": null,
            "max_height": null,
            "max_width": null,
            "min_height": null,
            "min_width": null,
            "object_fit": null,
            "object_position": null,
            "order": null,
            "overflow": null,
            "overflow_x": null,
            "overflow_y": null,
            "padding": null,
            "right": null,
            "top": null,
            "visibility": null,
            "width": null
          }
        },
        "fa24726d5a424c3a8797ee3778c891f9": {
          "model_module": "@jupyter-widgets/controls",
          "model_name": "DescriptionStyleModel",
          "model_module_version": "1.5.0",
          "state": {
            "_model_module": "@jupyter-widgets/controls",
            "_model_module_version": "1.5.0",
            "_model_name": "DescriptionStyleModel",
            "_view_count": null,
            "_view_module": "@jupyter-widgets/base",
            "_view_module_version": "1.2.0",
            "_view_name": "StyleView",
            "description_width": ""
          }
        },
        "33f7f77ef63e40679c562fc755d6d298": {
          "model_module": "@jupyter-widgets/controls",
          "model_name": "HBoxModel",
          "model_module_version": "1.5.0",
          "state": {
            "_dom_classes": [],
            "_model_module": "@jupyter-widgets/controls",
            "_model_module_version": "1.5.0",
            "_model_name": "HBoxModel",
            "_view_count": null,
            "_view_module": "@jupyter-widgets/controls",
            "_view_module_version": "1.5.0",
            "_view_name": "HBoxView",
            "box_style": "",
            "children": [
              "IPY_MODEL_25b9498c0838449fb4a6c846cad37222",
              "IPY_MODEL_af0161549d1f42aa9ba82d7205860bf9",
              "IPY_MODEL_5cd8e39d005d4674ae07bc11f2e5836f"
            ],
            "layout": "IPY_MODEL_e8b01d51d0fb4273815ea5ebe1079a12"
          }
        },
        "25b9498c0838449fb4a6c846cad37222": {
          "model_module": "@jupyter-widgets/controls",
          "model_name": "HTMLModel",
          "model_module_version": "1.5.0",
          "state": {
            "_dom_classes": [],
            "_model_module": "@jupyter-widgets/controls",
            "_model_module_version": "1.5.0",
            "_model_name": "HTMLModel",
            "_view_count": null,
            "_view_module": "@jupyter-widgets/controls",
            "_view_module_version": "1.5.0",
            "_view_name": "HTMLView",
            "description": "",
            "description_tooltip": null,
            "layout": "IPY_MODEL_97f879053fd64e5f90ab8e90d658118e",
            "placeholder": "​",
            "style": "IPY_MODEL_8d4946b073fc4993aa97ffd60b8aaa93",
            "value": "Downloading pytorch_model.bin: 100%"
          }
        },
        "af0161549d1f42aa9ba82d7205860bf9": {
          "model_module": "@jupyter-widgets/controls",
          "model_name": "FloatProgressModel",
          "model_module_version": "1.5.0",
          "state": {
            "_dom_classes": [],
            "_model_module": "@jupyter-widgets/controls",
            "_model_module_version": "1.5.0",
            "_model_name": "FloatProgressModel",
            "_view_count": null,
            "_view_module": "@jupyter-widgets/controls",
            "_view_module_version": "1.5.0",
            "_view_name": "ProgressView",
            "bar_style": "success",
            "description": "",
            "description_tooltip": null,
            "layout": "IPY_MODEL_7e3262de4d904038870b2bb38370855f",
            "max": 467303325,
            "min": 0,
            "orientation": "horizontal",
            "style": "IPY_MODEL_793973a3e8f34197a1838927d33e3074",
            "value": 467303325
          }
        },
        "5cd8e39d005d4674ae07bc11f2e5836f": {
          "model_module": "@jupyter-widgets/controls",
          "model_name": "HTMLModel",
          "model_module_version": "1.5.0",
          "state": {
            "_dom_classes": [],
            "_model_module": "@jupyter-widgets/controls",
            "_model_module_version": "1.5.0",
            "_model_name": "HTMLModel",
            "_view_count": null,
            "_view_module": "@jupyter-widgets/controls",
            "_view_module_version": "1.5.0",
            "_view_name": "HTMLView",
            "description": "",
            "description_tooltip": null,
            "layout": "IPY_MODEL_9a0dc1dcafd84524abab53828be82284",
            "placeholder": "​",
            "style": "IPY_MODEL_1f5afb4d8ee0446a8ac21fb6a571a58c",
            "value": " 446M/446M [00:06&lt;00:00, 100MB/s]"
          }
        },
        "e8b01d51d0fb4273815ea5ebe1079a12": {
          "model_module": "@jupyter-widgets/base",
          "model_name": "LayoutModel",
          "model_module_version": "1.2.0",
          "state": {
            "_model_module": "@jupyter-widgets/base",
            "_model_module_version": "1.2.0",
            "_model_name": "LayoutModel",
            "_view_count": null,
            "_view_module": "@jupyter-widgets/base",
            "_view_module_version": "1.2.0",
            "_view_name": "LayoutView",
            "align_content": null,
            "align_items": null,
            "align_self": null,
            "border": null,
            "bottom": null,
            "display": null,
            "flex": null,
            "flex_flow": null,
            "grid_area": null,
            "grid_auto_columns": null,
            "grid_auto_flow": null,
            "grid_auto_rows": null,
            "grid_column": null,
            "grid_gap": null,
            "grid_row": null,
            "grid_template_areas": null,
            "grid_template_columns": null,
            "grid_template_rows": null,
            "height": null,
            "justify_content": null,
            "justify_items": null,
            "left": null,
            "margin": null,
            "max_height": null,
            "max_width": null,
            "min_height": null,
            "min_width": null,
            "object_fit": null,
            "object_position": null,
            "order": null,
            "overflow": null,
            "overflow_x": null,
            "overflow_y": null,
            "padding": null,
            "right": null,
            "top": null,
            "visibility": null,
            "width": null
          }
        },
        "97f879053fd64e5f90ab8e90d658118e": {
          "model_module": "@jupyter-widgets/base",
          "model_name": "LayoutModel",
          "model_module_version": "1.2.0",
          "state": {
            "_model_module": "@jupyter-widgets/base",
            "_model_module_version": "1.2.0",
            "_model_name": "LayoutModel",
            "_view_count": null,
            "_view_module": "@jupyter-widgets/base",
            "_view_module_version": "1.2.0",
            "_view_name": "LayoutView",
            "align_content": null,
            "align_items": null,
            "align_self": null,
            "border": null,
            "bottom": null,
            "display": null,
            "flex": null,
            "flex_flow": null,
            "grid_area": null,
            "grid_auto_columns": null,
            "grid_auto_flow": null,
            "grid_auto_rows": null,
            "grid_column": null,
            "grid_gap": null,
            "grid_row": null,
            "grid_template_areas": null,
            "grid_template_columns": null,
            "grid_template_rows": null,
            "height": null,
            "justify_content": null,
            "justify_items": null,
            "left": null,
            "margin": null,
            "max_height": null,
            "max_width": null,
            "min_height": null,
            "min_width": null,
            "object_fit": null,
            "object_position": null,
            "order": null,
            "overflow": null,
            "overflow_x": null,
            "overflow_y": null,
            "padding": null,
            "right": null,
            "top": null,
            "visibility": null,
            "width": null
          }
        },
        "8d4946b073fc4993aa97ffd60b8aaa93": {
          "model_module": "@jupyter-widgets/controls",
          "model_name": "DescriptionStyleModel",
          "model_module_version": "1.5.0",
          "state": {
            "_model_module": "@jupyter-widgets/controls",
            "_model_module_version": "1.5.0",
            "_model_name": "DescriptionStyleModel",
            "_view_count": null,
            "_view_module": "@jupyter-widgets/base",
            "_view_module_version": "1.2.0",
            "_view_name": "StyleView",
            "description_width": ""
          }
        },
        "7e3262de4d904038870b2bb38370855f": {
          "model_module": "@jupyter-widgets/base",
          "model_name": "LayoutModel",
          "model_module_version": "1.2.0",
          "state": {
            "_model_module": "@jupyter-widgets/base",
            "_model_module_version": "1.2.0",
            "_model_name": "LayoutModel",
            "_view_count": null,
            "_view_module": "@jupyter-widgets/base",
            "_view_module_version": "1.2.0",
            "_view_name": "LayoutView",
            "align_content": null,
            "align_items": null,
            "align_self": null,
            "border": null,
            "bottom": null,
            "display": null,
            "flex": null,
            "flex_flow": null,
            "grid_area": null,
            "grid_auto_columns": null,
            "grid_auto_flow": null,
            "grid_auto_rows": null,
            "grid_column": null,
            "grid_gap": null,
            "grid_row": null,
            "grid_template_areas": null,
            "grid_template_columns": null,
            "grid_template_rows": null,
            "height": null,
            "justify_content": null,
            "justify_items": null,
            "left": null,
            "margin": null,
            "max_height": null,
            "max_width": null,
            "min_height": null,
            "min_width": null,
            "object_fit": null,
            "object_position": null,
            "order": null,
            "overflow": null,
            "overflow_x": null,
            "overflow_y": null,
            "padding": null,
            "right": null,
            "top": null,
            "visibility": null,
            "width": null
          }
        },
        "793973a3e8f34197a1838927d33e3074": {
          "model_module": "@jupyter-widgets/controls",
          "model_name": "ProgressStyleModel",
          "model_module_version": "1.5.0",
          "state": {
            "_model_module": "@jupyter-widgets/controls",
            "_model_module_version": "1.5.0",
            "_model_name": "ProgressStyleModel",
            "_view_count": null,
            "_view_module": "@jupyter-widgets/base",
            "_view_module_version": "1.2.0",
            "_view_name": "StyleView",
            "bar_color": null,
            "description_width": ""
          }
        },
        "9a0dc1dcafd84524abab53828be82284": {
          "model_module": "@jupyter-widgets/base",
          "model_name": "LayoutModel",
          "model_module_version": "1.2.0",
          "state": {
            "_model_module": "@jupyter-widgets/base",
            "_model_module_version": "1.2.0",
            "_model_name": "LayoutModel",
            "_view_count": null,
            "_view_module": "@jupyter-widgets/base",
            "_view_module_version": "1.2.0",
            "_view_name": "LayoutView",
            "align_content": null,
            "align_items": null,
            "align_self": null,
            "border": null,
            "bottom": null,
            "display": null,
            "flex": null,
            "flex_flow": null,
            "grid_area": null,
            "grid_auto_columns": null,
            "grid_auto_flow": null,
            "grid_auto_rows": null,
            "grid_column": null,
            "grid_gap": null,
            "grid_row": null,
            "grid_template_areas": null,
            "grid_template_columns": null,
            "grid_template_rows": null,
            "height": null,
            "justify_content": null,
            "justify_items": null,
            "left": null,
            "margin": null,
            "max_height": null,
            "max_width": null,
            "min_height": null,
            "min_width": null,
            "object_fit": null,
            "object_position": null,
            "order": null,
            "overflow": null,
            "overflow_x": null,
            "overflow_y": null,
            "padding": null,
            "right": null,
            "top": null,
            "visibility": null,
            "width": null
          }
        },
        "1f5afb4d8ee0446a8ac21fb6a571a58c": {
          "model_module": "@jupyter-widgets/controls",
          "model_name": "DescriptionStyleModel",
          "model_module_version": "1.5.0",
          "state": {
            "_model_module": "@jupyter-widgets/controls",
            "_model_module_version": "1.5.0",
            "_model_name": "DescriptionStyleModel",
            "_view_count": null,
            "_view_module": "@jupyter-widgets/base",
            "_view_module_version": "1.2.0",
            "_view_name": "StyleView",
            "description_width": ""
          }
        },
        "623f6d558b014452b01ddcd0ffd18833": {
          "model_module": "@jupyter-widgets/controls",
          "model_name": "HBoxModel",
          "model_module_version": "1.5.0",
          "state": {
            "_dom_classes": [],
            "_model_module": "@jupyter-widgets/controls",
            "_model_module_version": "1.5.0",
            "_model_name": "HBoxModel",
            "_view_count": null,
            "_view_module": "@jupyter-widgets/controls",
            "_view_module_version": "1.5.0",
            "_view_name": "HBoxView",
            "box_style": "",
            "children": [
              "IPY_MODEL_70836ade33e645838e1f8ca88d32f678",
              "IPY_MODEL_0fc57f0e4f744d6c9d309c443da76eaa",
              "IPY_MODEL_7859fe2f66a5456ba4b2b0c54db8de8a"
            ],
            "layout": "IPY_MODEL_d58b7d405c7f4a4595a4be6d3719481a"
          }
        },
        "70836ade33e645838e1f8ca88d32f678": {
          "model_module": "@jupyter-widgets/controls",
          "model_name": "HTMLModel",
          "model_module_version": "1.5.0",
          "state": {
            "_dom_classes": [],
            "_model_module": "@jupyter-widgets/controls",
            "_model_module_version": "1.5.0",
            "_model_name": "HTMLModel",
            "_view_count": null,
            "_view_module": "@jupyter-widgets/controls",
            "_view_module_version": "1.5.0",
            "_view_name": "HTMLView",
            "description": "",
            "description_tooltip": null,
            "layout": "IPY_MODEL_77af6b21cea249ddaa46aac8116bb5e4",
            "placeholder": "​",
            "style": "IPY_MODEL_6c337468ccfc4b85ad3ce12d5782151b",
            "value": "Downloading data files: 100%"
          }
        },
        "0fc57f0e4f744d6c9d309c443da76eaa": {
          "model_module": "@jupyter-widgets/controls",
          "model_name": "FloatProgressModel",
          "model_module_version": "1.5.0",
          "state": {
            "_dom_classes": [],
            "_model_module": "@jupyter-widgets/controls",
            "_model_module_version": "1.5.0",
            "_model_name": "FloatProgressModel",
            "_view_count": null,
            "_view_module": "@jupyter-widgets/controls",
            "_view_module_version": "1.5.0",
            "_view_name": "ProgressView",
            "bar_style": "success",
            "description": "",
            "description_tooltip": null,
            "layout": "IPY_MODEL_eba350f16228492895a9d17c52762511",
            "max": 1,
            "min": 0,
            "orientation": "horizontal",
            "style": "IPY_MODEL_b022858770af42d7992d6ce15c2c03ed",
            "value": 1
          }
        },
        "7859fe2f66a5456ba4b2b0c54db8de8a": {
          "model_module": "@jupyter-widgets/controls",
          "model_name": "HTMLModel",
          "model_module_version": "1.5.0",
          "state": {
            "_dom_classes": [],
            "_model_module": "@jupyter-widgets/controls",
            "_model_module_version": "1.5.0",
            "_model_name": "HTMLModel",
            "_view_count": null,
            "_view_module": "@jupyter-widgets/controls",
            "_view_module_version": "1.5.0",
            "_view_name": "HTMLView",
            "description": "",
            "description_tooltip": null,
            "layout": "IPY_MODEL_7f603ca211e6415c993b107965c2a761",
            "placeholder": "​",
            "style": "IPY_MODEL_c48c3a70f2b442ee9a6cb86e54c2aa56",
            "value": " 1/1 [00:00&lt;00:00, 55.65it/s]"
          }
        },
        "d58b7d405c7f4a4595a4be6d3719481a": {
          "model_module": "@jupyter-widgets/base",
          "model_name": "LayoutModel",
          "model_module_version": "1.2.0",
          "state": {
            "_model_module": "@jupyter-widgets/base",
            "_model_module_version": "1.2.0",
            "_model_name": "LayoutModel",
            "_view_count": null,
            "_view_module": "@jupyter-widgets/base",
            "_view_module_version": "1.2.0",
            "_view_name": "LayoutView",
            "align_content": null,
            "align_items": null,
            "align_self": null,
            "border": null,
            "bottom": null,
            "display": null,
            "flex": null,
            "flex_flow": null,
            "grid_area": null,
            "grid_auto_columns": null,
            "grid_auto_flow": null,
            "grid_auto_rows": null,
            "grid_column": null,
            "grid_gap": null,
            "grid_row": null,
            "grid_template_areas": null,
            "grid_template_columns": null,
            "grid_template_rows": null,
            "height": null,
            "justify_content": null,
            "justify_items": null,
            "left": null,
            "margin": null,
            "max_height": null,
            "max_width": null,
            "min_height": null,
            "min_width": null,
            "object_fit": null,
            "object_position": null,
            "order": null,
            "overflow": null,
            "overflow_x": null,
            "overflow_y": null,
            "padding": null,
            "right": null,
            "top": null,
            "visibility": null,
            "width": null
          }
        },
        "77af6b21cea249ddaa46aac8116bb5e4": {
          "model_module": "@jupyter-widgets/base",
          "model_name": "LayoutModel",
          "model_module_version": "1.2.0",
          "state": {
            "_model_module": "@jupyter-widgets/base",
            "_model_module_version": "1.2.0",
            "_model_name": "LayoutModel",
            "_view_count": null,
            "_view_module": "@jupyter-widgets/base",
            "_view_module_version": "1.2.0",
            "_view_name": "LayoutView",
            "align_content": null,
            "align_items": null,
            "align_self": null,
            "border": null,
            "bottom": null,
            "display": null,
            "flex": null,
            "flex_flow": null,
            "grid_area": null,
            "grid_auto_columns": null,
            "grid_auto_flow": null,
            "grid_auto_rows": null,
            "grid_column": null,
            "grid_gap": null,
            "grid_row": null,
            "grid_template_areas": null,
            "grid_template_columns": null,
            "grid_template_rows": null,
            "height": null,
            "justify_content": null,
            "justify_items": null,
            "left": null,
            "margin": null,
            "max_height": null,
            "max_width": null,
            "min_height": null,
            "min_width": null,
            "object_fit": null,
            "object_position": null,
            "order": null,
            "overflow": null,
            "overflow_x": null,
            "overflow_y": null,
            "padding": null,
            "right": null,
            "top": null,
            "visibility": null,
            "width": null
          }
        },
        "6c337468ccfc4b85ad3ce12d5782151b": {
          "model_module": "@jupyter-widgets/controls",
          "model_name": "DescriptionStyleModel",
          "model_module_version": "1.5.0",
          "state": {
            "_model_module": "@jupyter-widgets/controls",
            "_model_module_version": "1.5.0",
            "_model_name": "DescriptionStyleModel",
            "_view_count": null,
            "_view_module": "@jupyter-widgets/base",
            "_view_module_version": "1.2.0",
            "_view_name": "StyleView",
            "description_width": ""
          }
        },
        "eba350f16228492895a9d17c52762511": {
          "model_module": "@jupyter-widgets/base",
          "model_name": "LayoutModel",
          "model_module_version": "1.2.0",
          "state": {
            "_model_module": "@jupyter-widgets/base",
            "_model_module_version": "1.2.0",
            "_model_name": "LayoutModel",
            "_view_count": null,
            "_view_module": "@jupyter-widgets/base",
            "_view_module_version": "1.2.0",
            "_view_name": "LayoutView",
            "align_content": null,
            "align_items": null,
            "align_self": null,
            "border": null,
            "bottom": null,
            "display": null,
            "flex": null,
            "flex_flow": null,
            "grid_area": null,
            "grid_auto_columns": null,
            "grid_auto_flow": null,
            "grid_auto_rows": null,
            "grid_column": null,
            "grid_gap": null,
            "grid_row": null,
            "grid_template_areas": null,
            "grid_template_columns": null,
            "grid_template_rows": null,
            "height": null,
            "justify_content": null,
            "justify_items": null,
            "left": null,
            "margin": null,
            "max_height": null,
            "max_width": null,
            "min_height": null,
            "min_width": null,
            "object_fit": null,
            "object_position": null,
            "order": null,
            "overflow": null,
            "overflow_x": null,
            "overflow_y": null,
            "padding": null,
            "right": null,
            "top": null,
            "visibility": null,
            "width": null
          }
        },
        "b022858770af42d7992d6ce15c2c03ed": {
          "model_module": "@jupyter-widgets/controls",
          "model_name": "ProgressStyleModel",
          "model_module_version": "1.5.0",
          "state": {
            "_model_module": "@jupyter-widgets/controls",
            "_model_module_version": "1.5.0",
            "_model_name": "ProgressStyleModel",
            "_view_count": null,
            "_view_module": "@jupyter-widgets/base",
            "_view_module_version": "1.2.0",
            "_view_name": "StyleView",
            "bar_color": null,
            "description_width": ""
          }
        },
        "7f603ca211e6415c993b107965c2a761": {
          "model_module": "@jupyter-widgets/base",
          "model_name": "LayoutModel",
          "model_module_version": "1.2.0",
          "state": {
            "_model_module": "@jupyter-widgets/base",
            "_model_module_version": "1.2.0",
            "_model_name": "LayoutModel",
            "_view_count": null,
            "_view_module": "@jupyter-widgets/base",
            "_view_module_version": "1.2.0",
            "_view_name": "LayoutView",
            "align_content": null,
            "align_items": null,
            "align_self": null,
            "border": null,
            "bottom": null,
            "display": null,
            "flex": null,
            "flex_flow": null,
            "grid_area": null,
            "grid_auto_columns": null,
            "grid_auto_flow": null,
            "grid_auto_rows": null,
            "grid_column": null,
            "grid_gap": null,
            "grid_row": null,
            "grid_template_areas": null,
            "grid_template_columns": null,
            "grid_template_rows": null,
            "height": null,
            "justify_content": null,
            "justify_items": null,
            "left": null,
            "margin": null,
            "max_height": null,
            "max_width": null,
            "min_height": null,
            "min_width": null,
            "object_fit": null,
            "object_position": null,
            "order": null,
            "overflow": null,
            "overflow_x": null,
            "overflow_y": null,
            "padding": null,
            "right": null,
            "top": null,
            "visibility": null,
            "width": null
          }
        },
        "c48c3a70f2b442ee9a6cb86e54c2aa56": {
          "model_module": "@jupyter-widgets/controls",
          "model_name": "DescriptionStyleModel",
          "model_module_version": "1.5.0",
          "state": {
            "_model_module": "@jupyter-widgets/controls",
            "_model_module_version": "1.5.0",
            "_model_name": "DescriptionStyleModel",
            "_view_count": null,
            "_view_module": "@jupyter-widgets/base",
            "_view_module_version": "1.2.0",
            "_view_name": "StyleView",
            "description_width": ""
          }
        },
        "d00b439a75514a8597a53c06f6006f1c": {
          "model_module": "@jupyter-widgets/controls",
          "model_name": "HBoxModel",
          "model_module_version": "1.5.0",
          "state": {
            "_dom_classes": [],
            "_model_module": "@jupyter-widgets/controls",
            "_model_module_version": "1.5.0",
            "_model_name": "HBoxModel",
            "_view_count": null,
            "_view_module": "@jupyter-widgets/controls",
            "_view_module_version": "1.5.0",
            "_view_name": "HBoxView",
            "box_style": "",
            "children": [
              "IPY_MODEL_0effa23b3846488096f729a0c8683512",
              "IPY_MODEL_47e42aec4e544e77b855518ab557073b",
              "IPY_MODEL_a70aa0d131a441fdb66f71ad6e7a021c"
            ],
            "layout": "IPY_MODEL_af19e2b1472148728b789a490bcdea7b"
          }
        },
        "0effa23b3846488096f729a0c8683512": {
          "model_module": "@jupyter-widgets/controls",
          "model_name": "HTMLModel",
          "model_module_version": "1.5.0",
          "state": {
            "_dom_classes": [],
            "_model_module": "@jupyter-widgets/controls",
            "_model_module_version": "1.5.0",
            "_model_name": "HTMLModel",
            "_view_count": null,
            "_view_module": "@jupyter-widgets/controls",
            "_view_module_version": "1.5.0",
            "_view_name": "HTMLView",
            "description": "",
            "description_tooltip": null,
            "layout": "IPY_MODEL_767cc030804f4dd4bd3cca2d1e995965",
            "placeholder": "​",
            "style": "IPY_MODEL_a742072f89f8407a9ed122b4877e1902",
            "value": "Extracting data files: 100%"
          }
        },
        "47e42aec4e544e77b855518ab557073b": {
          "model_module": "@jupyter-widgets/controls",
          "model_name": "FloatProgressModel",
          "model_module_version": "1.5.0",
          "state": {
            "_dom_classes": [],
            "_model_module": "@jupyter-widgets/controls",
            "_model_module_version": "1.5.0",
            "_model_name": "FloatProgressModel",
            "_view_count": null,
            "_view_module": "@jupyter-widgets/controls",
            "_view_module_version": "1.5.0",
            "_view_name": "ProgressView",
            "bar_style": "success",
            "description": "",
            "description_tooltip": null,
            "layout": "IPY_MODEL_92d8e5f3abf74132b2033a386bfbd91d",
            "max": 1,
            "min": 0,
            "orientation": "horizontal",
            "style": "IPY_MODEL_fac9ee68f8584115a5edcbcb06ecb94e",
            "value": 1
          }
        },
        "a70aa0d131a441fdb66f71ad6e7a021c": {
          "model_module": "@jupyter-widgets/controls",
          "model_name": "HTMLModel",
          "model_module_version": "1.5.0",
          "state": {
            "_dom_classes": [],
            "_model_module": "@jupyter-widgets/controls",
            "_model_module_version": "1.5.0",
            "_model_name": "HTMLModel",
            "_view_count": null,
            "_view_module": "@jupyter-widgets/controls",
            "_view_module_version": "1.5.0",
            "_view_name": "HTMLView",
            "description": "",
            "description_tooltip": null,
            "layout": "IPY_MODEL_ca8dbab83cd84824a5732beba6039d04",
            "placeholder": "​",
            "style": "IPY_MODEL_7015ee19254449d798307f44dfc3fb29",
            "value": " 1/1 [00:00&lt;00:00, 51.86it/s]"
          }
        },
        "af19e2b1472148728b789a490bcdea7b": {
          "model_module": "@jupyter-widgets/base",
          "model_name": "LayoutModel",
          "model_module_version": "1.2.0",
          "state": {
            "_model_module": "@jupyter-widgets/base",
            "_model_module_version": "1.2.0",
            "_model_name": "LayoutModel",
            "_view_count": null,
            "_view_module": "@jupyter-widgets/base",
            "_view_module_version": "1.2.0",
            "_view_name": "LayoutView",
            "align_content": null,
            "align_items": null,
            "align_self": null,
            "border": null,
            "bottom": null,
            "display": null,
            "flex": null,
            "flex_flow": null,
            "grid_area": null,
            "grid_auto_columns": null,
            "grid_auto_flow": null,
            "grid_auto_rows": null,
            "grid_column": null,
            "grid_gap": null,
            "grid_row": null,
            "grid_template_areas": null,
            "grid_template_columns": null,
            "grid_template_rows": null,
            "height": null,
            "justify_content": null,
            "justify_items": null,
            "left": null,
            "margin": null,
            "max_height": null,
            "max_width": null,
            "min_height": null,
            "min_width": null,
            "object_fit": null,
            "object_position": null,
            "order": null,
            "overflow": null,
            "overflow_x": null,
            "overflow_y": null,
            "padding": null,
            "right": null,
            "top": null,
            "visibility": null,
            "width": null
          }
        },
        "767cc030804f4dd4bd3cca2d1e995965": {
          "model_module": "@jupyter-widgets/base",
          "model_name": "LayoutModel",
          "model_module_version": "1.2.0",
          "state": {
            "_model_module": "@jupyter-widgets/base",
            "_model_module_version": "1.2.0",
            "_model_name": "LayoutModel",
            "_view_count": null,
            "_view_module": "@jupyter-widgets/base",
            "_view_module_version": "1.2.0",
            "_view_name": "LayoutView",
            "align_content": null,
            "align_items": null,
            "align_self": null,
            "border": null,
            "bottom": null,
            "display": null,
            "flex": null,
            "flex_flow": null,
            "grid_area": null,
            "grid_auto_columns": null,
            "grid_auto_flow": null,
            "grid_auto_rows": null,
            "grid_column": null,
            "grid_gap": null,
            "grid_row": null,
            "grid_template_areas": null,
            "grid_template_columns": null,
            "grid_template_rows": null,
            "height": null,
            "justify_content": null,
            "justify_items": null,
            "left": null,
            "margin": null,
            "max_height": null,
            "max_width": null,
            "min_height": null,
            "min_width": null,
            "object_fit": null,
            "object_position": null,
            "order": null,
            "overflow": null,
            "overflow_x": null,
            "overflow_y": null,
            "padding": null,
            "right": null,
            "top": null,
            "visibility": null,
            "width": null
          }
        },
        "a742072f89f8407a9ed122b4877e1902": {
          "model_module": "@jupyter-widgets/controls",
          "model_name": "DescriptionStyleModel",
          "model_module_version": "1.5.0",
          "state": {
            "_model_module": "@jupyter-widgets/controls",
            "_model_module_version": "1.5.0",
            "_model_name": "DescriptionStyleModel",
            "_view_count": null,
            "_view_module": "@jupyter-widgets/base",
            "_view_module_version": "1.2.0",
            "_view_name": "StyleView",
            "description_width": ""
          }
        },
        "92d8e5f3abf74132b2033a386bfbd91d": {
          "model_module": "@jupyter-widgets/base",
          "model_name": "LayoutModel",
          "model_module_version": "1.2.0",
          "state": {
            "_model_module": "@jupyter-widgets/base",
            "_model_module_version": "1.2.0",
            "_model_name": "LayoutModel",
            "_view_count": null,
            "_view_module": "@jupyter-widgets/base",
            "_view_module_version": "1.2.0",
            "_view_name": "LayoutView",
            "align_content": null,
            "align_items": null,
            "align_self": null,
            "border": null,
            "bottom": null,
            "display": null,
            "flex": null,
            "flex_flow": null,
            "grid_area": null,
            "grid_auto_columns": null,
            "grid_auto_flow": null,
            "grid_auto_rows": null,
            "grid_column": null,
            "grid_gap": null,
            "grid_row": null,
            "grid_template_areas": null,
            "grid_template_columns": null,
            "grid_template_rows": null,
            "height": null,
            "justify_content": null,
            "justify_items": null,
            "left": null,
            "margin": null,
            "max_height": null,
            "max_width": null,
            "min_height": null,
            "min_width": null,
            "object_fit": null,
            "object_position": null,
            "order": null,
            "overflow": null,
            "overflow_x": null,
            "overflow_y": null,
            "padding": null,
            "right": null,
            "top": null,
            "visibility": null,
            "width": null
          }
        },
        "fac9ee68f8584115a5edcbcb06ecb94e": {
          "model_module": "@jupyter-widgets/controls",
          "model_name": "ProgressStyleModel",
          "model_module_version": "1.5.0",
          "state": {
            "_model_module": "@jupyter-widgets/controls",
            "_model_module_version": "1.5.0",
            "_model_name": "ProgressStyleModel",
            "_view_count": null,
            "_view_module": "@jupyter-widgets/base",
            "_view_module_version": "1.2.0",
            "_view_name": "StyleView",
            "bar_color": null,
            "description_width": ""
          }
        },
        "ca8dbab83cd84824a5732beba6039d04": {
          "model_module": "@jupyter-widgets/base",
          "model_name": "LayoutModel",
          "model_module_version": "1.2.0",
          "state": {
            "_model_module": "@jupyter-widgets/base",
            "_model_module_version": "1.2.0",
            "_model_name": "LayoutModel",
            "_view_count": null,
            "_view_module": "@jupyter-widgets/base",
            "_view_module_version": "1.2.0",
            "_view_name": "LayoutView",
            "align_content": null,
            "align_items": null,
            "align_self": null,
            "border": null,
            "bottom": null,
            "display": null,
            "flex": null,
            "flex_flow": null,
            "grid_area": null,
            "grid_auto_columns": null,
            "grid_auto_flow": null,
            "grid_auto_rows": null,
            "grid_column": null,
            "grid_gap": null,
            "grid_row": null,
            "grid_template_areas": null,
            "grid_template_columns": null,
            "grid_template_rows": null,
            "height": null,
            "justify_content": null,
            "justify_items": null,
            "left": null,
            "margin": null,
            "max_height": null,
            "max_width": null,
            "min_height": null,
            "min_width": null,
            "object_fit": null,
            "object_position": null,
            "order": null,
            "overflow": null,
            "overflow_x": null,
            "overflow_y": null,
            "padding": null,
            "right": null,
            "top": null,
            "visibility": null,
            "width": null
          }
        },
        "7015ee19254449d798307f44dfc3fb29": {
          "model_module": "@jupyter-widgets/controls",
          "model_name": "DescriptionStyleModel",
          "model_module_version": "1.5.0",
          "state": {
            "_model_module": "@jupyter-widgets/controls",
            "_model_module_version": "1.5.0",
            "_model_name": "DescriptionStyleModel",
            "_view_count": null,
            "_view_module": "@jupyter-widgets/base",
            "_view_module_version": "1.2.0",
            "_view_name": "StyleView",
            "description_width": ""
          }
        },
        "962edb6845ff473ba5bca5325d197129": {
          "model_module": "@jupyter-widgets/controls",
          "model_name": "HBoxModel",
          "model_module_version": "1.5.0",
          "state": {
            "_dom_classes": [],
            "_model_module": "@jupyter-widgets/controls",
            "_model_module_version": "1.5.0",
            "_model_name": "HBoxModel",
            "_view_count": null,
            "_view_module": "@jupyter-widgets/controls",
            "_view_module_version": "1.5.0",
            "_view_name": "HBoxView",
            "box_style": "",
            "children": [
              "IPY_MODEL_ea4ac77b491242c2b61947aa4bfeb760",
              "IPY_MODEL_c5e38bc19b9045c7baa267ada8c04963",
              "IPY_MODEL_9668c77891014b37af64eae07439d540"
            ],
            "layout": "IPY_MODEL_db53258cbdd343d483462ddf34808d7d"
          }
        },
        "ea4ac77b491242c2b61947aa4bfeb760": {
          "model_module": "@jupyter-widgets/controls",
          "model_name": "HTMLModel",
          "model_module_version": "1.5.0",
          "state": {
            "_dom_classes": [],
            "_model_module": "@jupyter-widgets/controls",
            "_model_module_version": "1.5.0",
            "_model_name": "HTMLModel",
            "_view_count": null,
            "_view_module": "@jupyter-widgets/controls",
            "_view_module_version": "1.5.0",
            "_view_name": "HTMLView",
            "description": "",
            "description_tooltip": null,
            "layout": "IPY_MODEL_33a5f76314ce40b589e46e805d8f7baa",
            "placeholder": "​",
            "style": "IPY_MODEL_cfd560c041964dd0bac500bd839f32c6",
            "value": ""
          }
        },
        "c5e38bc19b9045c7baa267ada8c04963": {
          "model_module": "@jupyter-widgets/controls",
          "model_name": "FloatProgressModel",
          "model_module_version": "1.5.0",
          "state": {
            "_dom_classes": [],
            "_model_module": "@jupyter-widgets/controls",
            "_model_module_version": "1.5.0",
            "_model_name": "FloatProgressModel",
            "_view_count": null,
            "_view_module": "@jupyter-widgets/controls",
            "_view_module_version": "1.5.0",
            "_view_name": "ProgressView",
            "bar_style": "info",
            "description": "",
            "description_tooltip": null,
            "layout": "IPY_MODEL_92b97288780445e0a27df3ce9a105d0c",
            "max": 1,
            "min": 0,
            "orientation": "horizontal",
            "style": "IPY_MODEL_885ea59e3ca94a1ab6e6083902bd4f8a",
            "value": 1
          }
        },
        "9668c77891014b37af64eae07439d540": {
          "model_module": "@jupyter-widgets/controls",
          "model_name": "HTMLModel",
          "model_module_version": "1.5.0",
          "state": {
            "_dom_classes": [],
            "_model_module": "@jupyter-widgets/controls",
            "_model_module_version": "1.5.0",
            "_model_name": "HTMLModel",
            "_view_count": null,
            "_view_module": "@jupyter-widgets/controls",
            "_view_module_version": "1.5.0",
            "_view_name": "HTMLView",
            "description": "",
            "description_tooltip": null,
            "layout": "IPY_MODEL_282a0214a789492baf1d0b9b4bef386c",
            "placeholder": "​",
            "style": "IPY_MODEL_be495031c3aa424ca44f0329d48a3c1e",
            "value": " 0/? [00:00&lt;?, ? tables/s]"
          }
        },
        "db53258cbdd343d483462ddf34808d7d": {
          "model_module": "@jupyter-widgets/base",
          "model_name": "LayoutModel",
          "model_module_version": "1.2.0",
          "state": {
            "_model_module": "@jupyter-widgets/base",
            "_model_module_version": "1.2.0",
            "_model_name": "LayoutModel",
            "_view_count": null,
            "_view_module": "@jupyter-widgets/base",
            "_view_module_version": "1.2.0",
            "_view_name": "LayoutView",
            "align_content": null,
            "align_items": null,
            "align_self": null,
            "border": null,
            "bottom": null,
            "display": null,
            "flex": null,
            "flex_flow": null,
            "grid_area": null,
            "grid_auto_columns": null,
            "grid_auto_flow": null,
            "grid_auto_rows": null,
            "grid_column": null,
            "grid_gap": null,
            "grid_row": null,
            "grid_template_areas": null,
            "grid_template_columns": null,
            "grid_template_rows": null,
            "height": null,
            "justify_content": null,
            "justify_items": null,
            "left": null,
            "margin": null,
            "max_height": null,
            "max_width": null,
            "min_height": null,
            "min_width": null,
            "object_fit": null,
            "object_position": null,
            "order": null,
            "overflow": null,
            "overflow_x": null,
            "overflow_y": null,
            "padding": null,
            "right": null,
            "top": null,
            "visibility": "hidden",
            "width": null
          }
        },
        "33a5f76314ce40b589e46e805d8f7baa": {
          "model_module": "@jupyter-widgets/base",
          "model_name": "LayoutModel",
          "model_module_version": "1.2.0",
          "state": {
            "_model_module": "@jupyter-widgets/base",
            "_model_module_version": "1.2.0",
            "_model_name": "LayoutModel",
            "_view_count": null,
            "_view_module": "@jupyter-widgets/base",
            "_view_module_version": "1.2.0",
            "_view_name": "LayoutView",
            "align_content": null,
            "align_items": null,
            "align_self": null,
            "border": null,
            "bottom": null,
            "display": null,
            "flex": null,
            "flex_flow": null,
            "grid_area": null,
            "grid_auto_columns": null,
            "grid_auto_flow": null,
            "grid_auto_rows": null,
            "grid_column": null,
            "grid_gap": null,
            "grid_row": null,
            "grid_template_areas": null,
            "grid_template_columns": null,
            "grid_template_rows": null,
            "height": null,
            "justify_content": null,
            "justify_items": null,
            "left": null,
            "margin": null,
            "max_height": null,
            "max_width": null,
            "min_height": null,
            "min_width": null,
            "object_fit": null,
            "object_position": null,
            "order": null,
            "overflow": null,
            "overflow_x": null,
            "overflow_y": null,
            "padding": null,
            "right": null,
            "top": null,
            "visibility": null,
            "width": null
          }
        },
        "cfd560c041964dd0bac500bd839f32c6": {
          "model_module": "@jupyter-widgets/controls",
          "model_name": "DescriptionStyleModel",
          "model_module_version": "1.5.0",
          "state": {
            "_model_module": "@jupyter-widgets/controls",
            "_model_module_version": "1.5.0",
            "_model_name": "DescriptionStyleModel",
            "_view_count": null,
            "_view_module": "@jupyter-widgets/base",
            "_view_module_version": "1.2.0",
            "_view_name": "StyleView",
            "description_width": ""
          }
        },
        "92b97288780445e0a27df3ce9a105d0c": {
          "model_module": "@jupyter-widgets/base",
          "model_name": "LayoutModel",
          "model_module_version": "1.2.0",
          "state": {
            "_model_module": "@jupyter-widgets/base",
            "_model_module_version": "1.2.0",
            "_model_name": "LayoutModel",
            "_view_count": null,
            "_view_module": "@jupyter-widgets/base",
            "_view_module_version": "1.2.0",
            "_view_name": "LayoutView",
            "align_content": null,
            "align_items": null,
            "align_self": null,
            "border": null,
            "bottom": null,
            "display": null,
            "flex": null,
            "flex_flow": null,
            "grid_area": null,
            "grid_auto_columns": null,
            "grid_auto_flow": null,
            "grid_auto_rows": null,
            "grid_column": null,
            "grid_gap": null,
            "grid_row": null,
            "grid_template_areas": null,
            "grid_template_columns": null,
            "grid_template_rows": null,
            "height": null,
            "justify_content": null,
            "justify_items": null,
            "left": null,
            "margin": null,
            "max_height": null,
            "max_width": null,
            "min_height": null,
            "min_width": null,
            "object_fit": null,
            "object_position": null,
            "order": null,
            "overflow": null,
            "overflow_x": null,
            "overflow_y": null,
            "padding": null,
            "right": null,
            "top": null,
            "visibility": null,
            "width": "20px"
          }
        },
        "885ea59e3ca94a1ab6e6083902bd4f8a": {
          "model_module": "@jupyter-widgets/controls",
          "model_name": "ProgressStyleModel",
          "model_module_version": "1.5.0",
          "state": {
            "_model_module": "@jupyter-widgets/controls",
            "_model_module_version": "1.5.0",
            "_model_name": "ProgressStyleModel",
            "_view_count": null,
            "_view_module": "@jupyter-widgets/base",
            "_view_module_version": "1.2.0",
            "_view_name": "StyleView",
            "bar_color": null,
            "description_width": ""
          }
        },
        "282a0214a789492baf1d0b9b4bef386c": {
          "model_module": "@jupyter-widgets/base",
          "model_name": "LayoutModel",
          "model_module_version": "1.2.0",
          "state": {
            "_model_module": "@jupyter-widgets/base",
            "_model_module_version": "1.2.0",
            "_model_name": "LayoutModel",
            "_view_count": null,
            "_view_module": "@jupyter-widgets/base",
            "_view_module_version": "1.2.0",
            "_view_name": "LayoutView",
            "align_content": null,
            "align_items": null,
            "align_self": null,
            "border": null,
            "bottom": null,
            "display": null,
            "flex": null,
            "flex_flow": null,
            "grid_area": null,
            "grid_auto_columns": null,
            "grid_auto_flow": null,
            "grid_auto_rows": null,
            "grid_column": null,
            "grid_gap": null,
            "grid_row": null,
            "grid_template_areas": null,
            "grid_template_columns": null,
            "grid_template_rows": null,
            "height": null,
            "justify_content": null,
            "justify_items": null,
            "left": null,
            "margin": null,
            "max_height": null,
            "max_width": null,
            "min_height": null,
            "min_width": null,
            "object_fit": null,
            "object_position": null,
            "order": null,
            "overflow": null,
            "overflow_x": null,
            "overflow_y": null,
            "padding": null,
            "right": null,
            "top": null,
            "visibility": null,
            "width": null
          }
        },
        "be495031c3aa424ca44f0329d48a3c1e": {
          "model_module": "@jupyter-widgets/controls",
          "model_name": "DescriptionStyleModel",
          "model_module_version": "1.5.0",
          "state": {
            "_model_module": "@jupyter-widgets/controls",
            "_model_module_version": "1.5.0",
            "_model_name": "DescriptionStyleModel",
            "_view_count": null,
            "_view_module": "@jupyter-widgets/base",
            "_view_module_version": "1.2.0",
            "_view_name": "StyleView",
            "description_width": ""
          }
        },
        "e3fb497224054d7d9287cd889ba3704e": {
          "model_module": "@jupyter-widgets/controls",
          "model_name": "HBoxModel",
          "model_module_version": "1.5.0",
          "state": {
            "_dom_classes": [],
            "_model_module": "@jupyter-widgets/controls",
            "_model_module_version": "1.5.0",
            "_model_name": "HBoxModel",
            "_view_count": null,
            "_view_module": "@jupyter-widgets/controls",
            "_view_module_version": "1.5.0",
            "_view_name": "HBoxView",
            "box_style": "",
            "children": [
              "IPY_MODEL_1084111a823548c49052b7ddde16609c",
              "IPY_MODEL_c11208ce178d4068b5a36540f3925c1a",
              "IPY_MODEL_24d9f9ad91ea499a81166ee4d615bd27"
            ],
            "layout": "IPY_MODEL_ff7dff83f3834c0a9b7ee7239780f395"
          }
        },
        "1084111a823548c49052b7ddde16609c": {
          "model_module": "@jupyter-widgets/controls",
          "model_name": "HTMLModel",
          "model_module_version": "1.5.0",
          "state": {
            "_dom_classes": [],
            "_model_module": "@jupyter-widgets/controls",
            "_model_module_version": "1.5.0",
            "_model_name": "HTMLModel",
            "_view_count": null,
            "_view_module": "@jupyter-widgets/controls",
            "_view_module_version": "1.5.0",
            "_view_name": "HTMLView",
            "description": "",
            "description_tooltip": null,
            "layout": "IPY_MODEL_37fbd5819a004defadb690d727806f10",
            "placeholder": "​",
            "style": "IPY_MODEL_f6421a1bda254b09ae5ee0973c79c839",
            "value": "100%"
          }
        },
        "c11208ce178d4068b5a36540f3925c1a": {
          "model_module": "@jupyter-widgets/controls",
          "model_name": "FloatProgressModel",
          "model_module_version": "1.5.0",
          "state": {
            "_dom_classes": [],
            "_model_module": "@jupyter-widgets/controls",
            "_model_module_version": "1.5.0",
            "_model_name": "FloatProgressModel",
            "_view_count": null,
            "_view_module": "@jupyter-widgets/controls",
            "_view_module_version": "1.5.0",
            "_view_name": "ProgressView",
            "bar_style": "success",
            "description": "",
            "description_tooltip": null,
            "layout": "IPY_MODEL_ba508e7fe37f4c6086d316caebe4b328",
            "max": 1,
            "min": 0,
            "orientation": "horizontal",
            "style": "IPY_MODEL_ecf0df0ffe0d41959842c263c1f74e64",
            "value": 1
          }
        },
        "24d9f9ad91ea499a81166ee4d615bd27": {
          "model_module": "@jupyter-widgets/controls",
          "model_name": "HTMLModel",
          "model_module_version": "1.5.0",
          "state": {
            "_dom_classes": [],
            "_model_module": "@jupyter-widgets/controls",
            "_model_module_version": "1.5.0",
            "_model_name": "HTMLModel",
            "_view_count": null,
            "_view_module": "@jupyter-widgets/controls",
            "_view_module_version": "1.5.0",
            "_view_name": "HTMLView",
            "description": "",
            "description_tooltip": null,
            "layout": "IPY_MODEL_9ffaf8f3091e40b0be079dda29d40a19",
            "placeholder": "​",
            "style": "IPY_MODEL_6b584a3e7df34f299965a1d783989fa1",
            "value": " 1/1 [00:00&lt;00:00, 54.16it/s]"
          }
        },
        "ff7dff83f3834c0a9b7ee7239780f395": {
          "model_module": "@jupyter-widgets/base",
          "model_name": "LayoutModel",
          "model_module_version": "1.2.0",
          "state": {
            "_model_module": "@jupyter-widgets/base",
            "_model_module_version": "1.2.0",
            "_model_name": "LayoutModel",
            "_view_count": null,
            "_view_module": "@jupyter-widgets/base",
            "_view_module_version": "1.2.0",
            "_view_name": "LayoutView",
            "align_content": null,
            "align_items": null,
            "align_self": null,
            "border": null,
            "bottom": null,
            "display": null,
            "flex": null,
            "flex_flow": null,
            "grid_area": null,
            "grid_auto_columns": null,
            "grid_auto_flow": null,
            "grid_auto_rows": null,
            "grid_column": null,
            "grid_gap": null,
            "grid_row": null,
            "grid_template_areas": null,
            "grid_template_columns": null,
            "grid_template_rows": null,
            "height": null,
            "justify_content": null,
            "justify_items": null,
            "left": null,
            "margin": null,
            "max_height": null,
            "max_width": null,
            "min_height": null,
            "min_width": null,
            "object_fit": null,
            "object_position": null,
            "order": null,
            "overflow": null,
            "overflow_x": null,
            "overflow_y": null,
            "padding": null,
            "right": null,
            "top": null,
            "visibility": null,
            "width": null
          }
        },
        "37fbd5819a004defadb690d727806f10": {
          "model_module": "@jupyter-widgets/base",
          "model_name": "LayoutModel",
          "model_module_version": "1.2.0",
          "state": {
            "_model_module": "@jupyter-widgets/base",
            "_model_module_version": "1.2.0",
            "_model_name": "LayoutModel",
            "_view_count": null,
            "_view_module": "@jupyter-widgets/base",
            "_view_module_version": "1.2.0",
            "_view_name": "LayoutView",
            "align_content": null,
            "align_items": null,
            "align_self": null,
            "border": null,
            "bottom": null,
            "display": null,
            "flex": null,
            "flex_flow": null,
            "grid_area": null,
            "grid_auto_columns": null,
            "grid_auto_flow": null,
            "grid_auto_rows": null,
            "grid_column": null,
            "grid_gap": null,
            "grid_row": null,
            "grid_template_areas": null,
            "grid_template_columns": null,
            "grid_template_rows": null,
            "height": null,
            "justify_content": null,
            "justify_items": null,
            "left": null,
            "margin": null,
            "max_height": null,
            "max_width": null,
            "min_height": null,
            "min_width": null,
            "object_fit": null,
            "object_position": null,
            "order": null,
            "overflow": null,
            "overflow_x": null,
            "overflow_y": null,
            "padding": null,
            "right": null,
            "top": null,
            "visibility": null,
            "width": null
          }
        },
        "f6421a1bda254b09ae5ee0973c79c839": {
          "model_module": "@jupyter-widgets/controls",
          "model_name": "DescriptionStyleModel",
          "model_module_version": "1.5.0",
          "state": {
            "_model_module": "@jupyter-widgets/controls",
            "_model_module_version": "1.5.0",
            "_model_name": "DescriptionStyleModel",
            "_view_count": null,
            "_view_module": "@jupyter-widgets/base",
            "_view_module_version": "1.2.0",
            "_view_name": "StyleView",
            "description_width": ""
          }
        },
        "ba508e7fe37f4c6086d316caebe4b328": {
          "model_module": "@jupyter-widgets/base",
          "model_name": "LayoutModel",
          "model_module_version": "1.2.0",
          "state": {
            "_model_module": "@jupyter-widgets/base",
            "_model_module_version": "1.2.0",
            "_model_name": "LayoutModel",
            "_view_count": null,
            "_view_module": "@jupyter-widgets/base",
            "_view_module_version": "1.2.0",
            "_view_name": "LayoutView",
            "align_content": null,
            "align_items": null,
            "align_self": null,
            "border": null,
            "bottom": null,
            "display": null,
            "flex": null,
            "flex_flow": null,
            "grid_area": null,
            "grid_auto_columns": null,
            "grid_auto_flow": null,
            "grid_auto_rows": null,
            "grid_column": null,
            "grid_gap": null,
            "grid_row": null,
            "grid_template_areas": null,
            "grid_template_columns": null,
            "grid_template_rows": null,
            "height": null,
            "justify_content": null,
            "justify_items": null,
            "left": null,
            "margin": null,
            "max_height": null,
            "max_width": null,
            "min_height": null,
            "min_width": null,
            "object_fit": null,
            "object_position": null,
            "order": null,
            "overflow": null,
            "overflow_x": null,
            "overflow_y": null,
            "padding": null,
            "right": null,
            "top": null,
            "visibility": null,
            "width": null
          }
        },
        "ecf0df0ffe0d41959842c263c1f74e64": {
          "model_module": "@jupyter-widgets/controls",
          "model_name": "ProgressStyleModel",
          "model_module_version": "1.5.0",
          "state": {
            "_model_module": "@jupyter-widgets/controls",
            "_model_module_version": "1.5.0",
            "_model_name": "ProgressStyleModel",
            "_view_count": null,
            "_view_module": "@jupyter-widgets/base",
            "_view_module_version": "1.2.0",
            "_view_name": "StyleView",
            "bar_color": null,
            "description_width": ""
          }
        },
        "9ffaf8f3091e40b0be079dda29d40a19": {
          "model_module": "@jupyter-widgets/base",
          "model_name": "LayoutModel",
          "model_module_version": "1.2.0",
          "state": {
            "_model_module": "@jupyter-widgets/base",
            "_model_module_version": "1.2.0",
            "_model_name": "LayoutModel",
            "_view_count": null,
            "_view_module": "@jupyter-widgets/base",
            "_view_module_version": "1.2.0",
            "_view_name": "LayoutView",
            "align_content": null,
            "align_items": null,
            "align_self": null,
            "border": null,
            "bottom": null,
            "display": null,
            "flex": null,
            "flex_flow": null,
            "grid_area": null,
            "grid_auto_columns": null,
            "grid_auto_flow": null,
            "grid_auto_rows": null,
            "grid_column": null,
            "grid_gap": null,
            "grid_row": null,
            "grid_template_areas": null,
            "grid_template_columns": null,
            "grid_template_rows": null,
            "height": null,
            "justify_content": null,
            "justify_items": null,
            "left": null,
            "margin": null,
            "max_height": null,
            "max_width": null,
            "min_height": null,
            "min_width": null,
            "object_fit": null,
            "object_position": null,
            "order": null,
            "overflow": null,
            "overflow_x": null,
            "overflow_y": null,
            "padding": null,
            "right": null,
            "top": null,
            "visibility": null,
            "width": null
          }
        },
        "6b584a3e7df34f299965a1d783989fa1": {
          "model_module": "@jupyter-widgets/controls",
          "model_name": "DescriptionStyleModel",
          "model_module_version": "1.5.0",
          "state": {
            "_model_module": "@jupyter-widgets/controls",
            "_model_module_version": "1.5.0",
            "_model_name": "DescriptionStyleModel",
            "_view_count": null,
            "_view_module": "@jupyter-widgets/base",
            "_view_module_version": "1.2.0",
            "_view_name": "StyleView",
            "description_width": ""
          }
        },
        "df14754fa8c34f22bd8e5ebad6c0b33b": {
          "model_module": "@jupyter-widgets/controls",
          "model_name": "HBoxModel",
          "model_module_version": "1.5.0",
          "state": {
            "_dom_classes": [],
            "_model_module": "@jupyter-widgets/controls",
            "_model_module_version": "1.5.0",
            "_model_name": "HBoxModel",
            "_view_count": null,
            "_view_module": "@jupyter-widgets/controls",
            "_view_module_version": "1.5.0",
            "_view_name": "HBoxView",
            "box_style": "",
            "children": [
              "IPY_MODEL_2119d23091914776b06249efab51bfa9",
              "IPY_MODEL_1ed80a984198464a9469b585201a2f4c",
              "IPY_MODEL_cc4fa1b20e754b2bb9cd390359f70ebf"
            ],
            "layout": "IPY_MODEL_a945abccf2604ffc8a5b343673821484"
          }
        },
        "2119d23091914776b06249efab51bfa9": {
          "model_module": "@jupyter-widgets/controls",
          "model_name": "HTMLModel",
          "model_module_version": "1.5.0",
          "state": {
            "_dom_classes": [],
            "_model_module": "@jupyter-widgets/controls",
            "_model_module_version": "1.5.0",
            "_model_name": "HTMLModel",
            "_view_count": null,
            "_view_module": "@jupyter-widgets/controls",
            "_view_module_version": "1.5.0",
            "_view_name": "HTMLView",
            "description": "",
            "description_tooltip": null,
            "layout": "IPY_MODEL_27995479212f41208d9a0f2558ed3a04",
            "placeholder": "​",
            "style": "IPY_MODEL_18be2ef4a11a4b8fb334b020169b0d21",
            "value": "100%"
          }
        },
        "1ed80a984198464a9469b585201a2f4c": {
          "model_module": "@jupyter-widgets/controls",
          "model_name": "FloatProgressModel",
          "model_module_version": "1.5.0",
          "state": {
            "_dom_classes": [],
            "_model_module": "@jupyter-widgets/controls",
            "_model_module_version": "1.5.0",
            "_model_name": "FloatProgressModel",
            "_view_count": null,
            "_view_module": "@jupyter-widgets/controls",
            "_view_module_version": "1.5.0",
            "_view_name": "ProgressView",
            "bar_style": "success",
            "description": "",
            "description_tooltip": null,
            "layout": "IPY_MODEL_74cf5c9a258d4a6192d94d9464aaca01",
            "max": 2,
            "min": 0,
            "orientation": "horizontal",
            "style": "IPY_MODEL_ca7a4d211ae746c6b09d62b82a9cf228",
            "value": 2
          }
        },
        "cc4fa1b20e754b2bb9cd390359f70ebf": {
          "model_module": "@jupyter-widgets/controls",
          "model_name": "HTMLModel",
          "model_module_version": "1.5.0",
          "state": {
            "_dom_classes": [],
            "_model_module": "@jupyter-widgets/controls",
            "_model_module_version": "1.5.0",
            "_model_name": "HTMLModel",
            "_view_count": null,
            "_view_module": "@jupyter-widgets/controls",
            "_view_module_version": "1.5.0",
            "_view_name": "HTMLView",
            "description": "",
            "description_tooltip": null,
            "layout": "IPY_MODEL_88d6a42c48d34e56ae202dd05cdda021",
            "placeholder": "​",
            "style": "IPY_MODEL_c9c23d1b51a645a2a969f6a773f76dab",
            "value": " 2/2 [00:00&lt;00:00, 86.24ex/s]"
          }
        },
        "a945abccf2604ffc8a5b343673821484": {
          "model_module": "@jupyter-widgets/base",
          "model_name": "LayoutModel",
          "model_module_version": "1.2.0",
          "state": {
            "_model_module": "@jupyter-widgets/base",
            "_model_module_version": "1.2.0",
            "_model_name": "LayoutModel",
            "_view_count": null,
            "_view_module": "@jupyter-widgets/base",
            "_view_module_version": "1.2.0",
            "_view_name": "LayoutView",
            "align_content": null,
            "align_items": null,
            "align_self": null,
            "border": null,
            "bottom": null,
            "display": null,
            "flex": null,
            "flex_flow": null,
            "grid_area": null,
            "grid_auto_columns": null,
            "grid_auto_flow": null,
            "grid_auto_rows": null,
            "grid_column": null,
            "grid_gap": null,
            "grid_row": null,
            "grid_template_areas": null,
            "grid_template_columns": null,
            "grid_template_rows": null,
            "height": null,
            "justify_content": null,
            "justify_items": null,
            "left": null,
            "margin": null,
            "max_height": null,
            "max_width": null,
            "min_height": null,
            "min_width": null,
            "object_fit": null,
            "object_position": null,
            "order": null,
            "overflow": null,
            "overflow_x": null,
            "overflow_y": null,
            "padding": null,
            "right": null,
            "top": null,
            "visibility": null,
            "width": null
          }
        },
        "27995479212f41208d9a0f2558ed3a04": {
          "model_module": "@jupyter-widgets/base",
          "model_name": "LayoutModel",
          "model_module_version": "1.2.0",
          "state": {
            "_model_module": "@jupyter-widgets/base",
            "_model_module_version": "1.2.0",
            "_model_name": "LayoutModel",
            "_view_count": null,
            "_view_module": "@jupyter-widgets/base",
            "_view_module_version": "1.2.0",
            "_view_name": "LayoutView",
            "align_content": null,
            "align_items": null,
            "align_self": null,
            "border": null,
            "bottom": null,
            "display": null,
            "flex": null,
            "flex_flow": null,
            "grid_area": null,
            "grid_auto_columns": null,
            "grid_auto_flow": null,
            "grid_auto_rows": null,
            "grid_column": null,
            "grid_gap": null,
            "grid_row": null,
            "grid_template_areas": null,
            "grid_template_columns": null,
            "grid_template_rows": null,
            "height": null,
            "justify_content": null,
            "justify_items": null,
            "left": null,
            "margin": null,
            "max_height": null,
            "max_width": null,
            "min_height": null,
            "min_width": null,
            "object_fit": null,
            "object_position": null,
            "order": null,
            "overflow": null,
            "overflow_x": null,
            "overflow_y": null,
            "padding": null,
            "right": null,
            "top": null,
            "visibility": null,
            "width": null
          }
        },
        "18be2ef4a11a4b8fb334b020169b0d21": {
          "model_module": "@jupyter-widgets/controls",
          "model_name": "DescriptionStyleModel",
          "model_module_version": "1.5.0",
          "state": {
            "_model_module": "@jupyter-widgets/controls",
            "_model_module_version": "1.5.0",
            "_model_name": "DescriptionStyleModel",
            "_view_count": null,
            "_view_module": "@jupyter-widgets/base",
            "_view_module_version": "1.2.0",
            "_view_name": "StyleView",
            "description_width": ""
          }
        },
        "74cf5c9a258d4a6192d94d9464aaca01": {
          "model_module": "@jupyter-widgets/base",
          "model_name": "LayoutModel",
          "model_module_version": "1.2.0",
          "state": {
            "_model_module": "@jupyter-widgets/base",
            "_model_module_version": "1.2.0",
            "_model_name": "LayoutModel",
            "_view_count": null,
            "_view_module": "@jupyter-widgets/base",
            "_view_module_version": "1.2.0",
            "_view_name": "LayoutView",
            "align_content": null,
            "align_items": null,
            "align_self": null,
            "border": null,
            "bottom": null,
            "display": null,
            "flex": null,
            "flex_flow": null,
            "grid_area": null,
            "grid_auto_columns": null,
            "grid_auto_flow": null,
            "grid_auto_rows": null,
            "grid_column": null,
            "grid_gap": null,
            "grid_row": null,
            "grid_template_areas": null,
            "grid_template_columns": null,
            "grid_template_rows": null,
            "height": null,
            "justify_content": null,
            "justify_items": null,
            "left": null,
            "margin": null,
            "max_height": null,
            "max_width": null,
            "min_height": null,
            "min_width": null,
            "object_fit": null,
            "object_position": null,
            "order": null,
            "overflow": null,
            "overflow_x": null,
            "overflow_y": null,
            "padding": null,
            "right": null,
            "top": null,
            "visibility": null,
            "width": null
          }
        },
        "ca7a4d211ae746c6b09d62b82a9cf228": {
          "model_module": "@jupyter-widgets/controls",
          "model_name": "ProgressStyleModel",
          "model_module_version": "1.5.0",
          "state": {
            "_model_module": "@jupyter-widgets/controls",
            "_model_module_version": "1.5.0",
            "_model_name": "ProgressStyleModel",
            "_view_count": null,
            "_view_module": "@jupyter-widgets/base",
            "_view_module_version": "1.2.0",
            "_view_name": "StyleView",
            "bar_color": null,
            "description_width": ""
          }
        },
        "88d6a42c48d34e56ae202dd05cdda021": {
          "model_module": "@jupyter-widgets/base",
          "model_name": "LayoutModel",
          "model_module_version": "1.2.0",
          "state": {
            "_model_module": "@jupyter-widgets/base",
            "_model_module_version": "1.2.0",
            "_model_name": "LayoutModel",
            "_view_count": null,
            "_view_module": "@jupyter-widgets/base",
            "_view_module_version": "1.2.0",
            "_view_name": "LayoutView",
            "align_content": null,
            "align_items": null,
            "align_self": null,
            "border": null,
            "bottom": null,
            "display": null,
            "flex": null,
            "flex_flow": null,
            "grid_area": null,
            "grid_auto_columns": null,
            "grid_auto_flow": null,
            "grid_auto_rows": null,
            "grid_column": null,
            "grid_gap": null,
            "grid_row": null,
            "grid_template_areas": null,
            "grid_template_columns": null,
            "grid_template_rows": null,
            "height": null,
            "justify_content": null,
            "justify_items": null,
            "left": null,
            "margin": null,
            "max_height": null,
            "max_width": null,
            "min_height": null,
            "min_width": null,
            "object_fit": null,
            "object_position": null,
            "order": null,
            "overflow": null,
            "overflow_x": null,
            "overflow_y": null,
            "padding": null,
            "right": null,
            "top": null,
            "visibility": null,
            "width": null
          }
        },
        "c9c23d1b51a645a2a969f6a773f76dab": {
          "model_module": "@jupyter-widgets/controls",
          "model_name": "DescriptionStyleModel",
          "model_module_version": "1.5.0",
          "state": {
            "_model_module": "@jupyter-widgets/controls",
            "_model_module_version": "1.5.0",
            "_model_name": "DescriptionStyleModel",
            "_view_count": null,
            "_view_module": "@jupyter-widgets/base",
            "_view_module_version": "1.2.0",
            "_view_name": "StyleView",
            "description_width": ""
          }
        },
        "2821a4c984fd49159e8948043335b9e9": {
          "model_module": "@jupyter-widgets/controls",
          "model_name": "HBoxModel",
          "model_module_version": "1.5.0",
          "state": {
            "_dom_classes": [],
            "_model_module": "@jupyter-widgets/controls",
            "_model_module_version": "1.5.0",
            "_model_name": "HBoxModel",
            "_view_count": null,
            "_view_module": "@jupyter-widgets/controls",
            "_view_module_version": "1.5.0",
            "_view_name": "HBoxView",
            "box_style": "",
            "children": [
              "IPY_MODEL_294b971a5a194364813751ced792f852",
              "IPY_MODEL_68ddcd71157043439fac572ac6bd169d",
              "IPY_MODEL_7e7b8112ea4d4d22991aa5723ccff0ac"
            ],
            "layout": "IPY_MODEL_955dc9c392824d319d263d81fc09d767"
          }
        },
        "294b971a5a194364813751ced792f852": {
          "model_module": "@jupyter-widgets/controls",
          "model_name": "HTMLModel",
          "model_module_version": "1.5.0",
          "state": {
            "_dom_classes": [],
            "_model_module": "@jupyter-widgets/controls",
            "_model_module_version": "1.5.0",
            "_model_name": "HTMLModel",
            "_view_count": null,
            "_view_module": "@jupyter-widgets/controls",
            "_view_module_version": "1.5.0",
            "_view_name": "HTMLView",
            "description": "",
            "description_tooltip": null,
            "layout": "IPY_MODEL_9358244492cd404192f72afc4b45590a",
            "placeholder": "​",
            "style": "IPY_MODEL_7593ec0225844c00ad6476bdd7ff7218",
            "value": "100%"
          }
        },
        "68ddcd71157043439fac572ac6bd169d": {
          "model_module": "@jupyter-widgets/controls",
          "model_name": "FloatProgressModel",
          "model_module_version": "1.5.0",
          "state": {
            "_dom_classes": [],
            "_model_module": "@jupyter-widgets/controls",
            "_model_module_version": "1.5.0",
            "_model_name": "FloatProgressModel",
            "_view_count": null,
            "_view_module": "@jupyter-widgets/controls",
            "_view_module_version": "1.5.0",
            "_view_name": "ProgressView",
            "bar_style": "success",
            "description": "",
            "description_tooltip": null,
            "layout": "IPY_MODEL_81db653c45a641e5af86b838665dd44c",
            "max": 2,
            "min": 0,
            "orientation": "horizontal",
            "style": "IPY_MODEL_3bd94b13751d485b8aa391543d15baf0",
            "value": 2
          }
        },
        "7e7b8112ea4d4d22991aa5723ccff0ac": {
          "model_module": "@jupyter-widgets/controls",
          "model_name": "HTMLModel",
          "model_module_version": "1.5.0",
          "state": {
            "_dom_classes": [],
            "_model_module": "@jupyter-widgets/controls",
            "_model_module_version": "1.5.0",
            "_model_name": "HTMLModel",
            "_view_count": null,
            "_view_module": "@jupyter-widgets/controls",
            "_view_module_version": "1.5.0",
            "_view_name": "HTMLView",
            "description": "",
            "description_tooltip": null,
            "layout": "IPY_MODEL_03a5e31abc1144be94e834213b09ac28",
            "placeholder": "​",
            "style": "IPY_MODEL_ea9dbe681bc74fe2a1a38d72c9443f0a",
            "value": " 2/2 [00:00&lt;00:00, 141.19ex/s]"
          }
        },
        "955dc9c392824d319d263d81fc09d767": {
          "model_module": "@jupyter-widgets/base",
          "model_name": "LayoutModel",
          "model_module_version": "1.2.0",
          "state": {
            "_model_module": "@jupyter-widgets/base",
            "_model_module_version": "1.2.0",
            "_model_name": "LayoutModel",
            "_view_count": null,
            "_view_module": "@jupyter-widgets/base",
            "_view_module_version": "1.2.0",
            "_view_name": "LayoutView",
            "align_content": null,
            "align_items": null,
            "align_self": null,
            "border": null,
            "bottom": null,
            "display": null,
            "flex": null,
            "flex_flow": null,
            "grid_area": null,
            "grid_auto_columns": null,
            "grid_auto_flow": null,
            "grid_auto_rows": null,
            "grid_column": null,
            "grid_gap": null,
            "grid_row": null,
            "grid_template_areas": null,
            "grid_template_columns": null,
            "grid_template_rows": null,
            "height": null,
            "justify_content": null,
            "justify_items": null,
            "left": null,
            "margin": null,
            "max_height": null,
            "max_width": null,
            "min_height": null,
            "min_width": null,
            "object_fit": null,
            "object_position": null,
            "order": null,
            "overflow": null,
            "overflow_x": null,
            "overflow_y": null,
            "padding": null,
            "right": null,
            "top": null,
            "visibility": null,
            "width": null
          }
        },
        "9358244492cd404192f72afc4b45590a": {
          "model_module": "@jupyter-widgets/base",
          "model_name": "LayoutModel",
          "model_module_version": "1.2.0",
          "state": {
            "_model_module": "@jupyter-widgets/base",
            "_model_module_version": "1.2.0",
            "_model_name": "LayoutModel",
            "_view_count": null,
            "_view_module": "@jupyter-widgets/base",
            "_view_module_version": "1.2.0",
            "_view_name": "LayoutView",
            "align_content": null,
            "align_items": null,
            "align_self": null,
            "border": null,
            "bottom": null,
            "display": null,
            "flex": null,
            "flex_flow": null,
            "grid_area": null,
            "grid_auto_columns": null,
            "grid_auto_flow": null,
            "grid_auto_rows": null,
            "grid_column": null,
            "grid_gap": null,
            "grid_row": null,
            "grid_template_areas": null,
            "grid_template_columns": null,
            "grid_template_rows": null,
            "height": null,
            "justify_content": null,
            "justify_items": null,
            "left": null,
            "margin": null,
            "max_height": null,
            "max_width": null,
            "min_height": null,
            "min_width": null,
            "object_fit": null,
            "object_position": null,
            "order": null,
            "overflow": null,
            "overflow_x": null,
            "overflow_y": null,
            "padding": null,
            "right": null,
            "top": null,
            "visibility": null,
            "width": null
          }
        },
        "7593ec0225844c00ad6476bdd7ff7218": {
          "model_module": "@jupyter-widgets/controls",
          "model_name": "DescriptionStyleModel",
          "model_module_version": "1.5.0",
          "state": {
            "_model_module": "@jupyter-widgets/controls",
            "_model_module_version": "1.5.0",
            "_model_name": "DescriptionStyleModel",
            "_view_count": null,
            "_view_module": "@jupyter-widgets/base",
            "_view_module_version": "1.2.0",
            "_view_name": "StyleView",
            "description_width": ""
          }
        },
        "81db653c45a641e5af86b838665dd44c": {
          "model_module": "@jupyter-widgets/base",
          "model_name": "LayoutModel",
          "model_module_version": "1.2.0",
          "state": {
            "_model_module": "@jupyter-widgets/base",
            "_model_module_version": "1.2.0",
            "_model_name": "LayoutModel",
            "_view_count": null,
            "_view_module": "@jupyter-widgets/base",
            "_view_module_version": "1.2.0",
            "_view_name": "LayoutView",
            "align_content": null,
            "align_items": null,
            "align_self": null,
            "border": null,
            "bottom": null,
            "display": null,
            "flex": null,
            "flex_flow": null,
            "grid_area": null,
            "grid_auto_columns": null,
            "grid_auto_flow": null,
            "grid_auto_rows": null,
            "grid_column": null,
            "grid_gap": null,
            "grid_row": null,
            "grid_template_areas": null,
            "grid_template_columns": null,
            "grid_template_rows": null,
            "height": null,
            "justify_content": null,
            "justify_items": null,
            "left": null,
            "margin": null,
            "max_height": null,
            "max_width": null,
            "min_height": null,
            "min_width": null,
            "object_fit": null,
            "object_position": null,
            "order": null,
            "overflow": null,
            "overflow_x": null,
            "overflow_y": null,
            "padding": null,
            "right": null,
            "top": null,
            "visibility": null,
            "width": null
          }
        },
        "3bd94b13751d485b8aa391543d15baf0": {
          "model_module": "@jupyter-widgets/controls",
          "model_name": "ProgressStyleModel",
          "model_module_version": "1.5.0",
          "state": {
            "_model_module": "@jupyter-widgets/controls",
            "_model_module_version": "1.5.0",
            "_model_name": "ProgressStyleModel",
            "_view_count": null,
            "_view_module": "@jupyter-widgets/base",
            "_view_module_version": "1.2.0",
            "_view_name": "StyleView",
            "bar_color": null,
            "description_width": ""
          }
        },
        "03a5e31abc1144be94e834213b09ac28": {
          "model_module": "@jupyter-widgets/base",
          "model_name": "LayoutModel",
          "model_module_version": "1.2.0",
          "state": {
            "_model_module": "@jupyter-widgets/base",
            "_model_module_version": "1.2.0",
            "_model_name": "LayoutModel",
            "_view_count": null,
            "_view_module": "@jupyter-widgets/base",
            "_view_module_version": "1.2.0",
            "_view_name": "LayoutView",
            "align_content": null,
            "align_items": null,
            "align_self": null,
            "border": null,
            "bottom": null,
            "display": null,
            "flex": null,
            "flex_flow": null,
            "grid_area": null,
            "grid_auto_columns": null,
            "grid_auto_flow": null,
            "grid_auto_rows": null,
            "grid_column": null,
            "grid_gap": null,
            "grid_row": null,
            "grid_template_areas": null,
            "grid_template_columns": null,
            "grid_template_rows": null,
            "height": null,
            "justify_content": null,
            "justify_items": null,
            "left": null,
            "margin": null,
            "max_height": null,
            "max_width": null,
            "min_height": null,
            "min_width": null,
            "object_fit": null,
            "object_position": null,
            "order": null,
            "overflow": null,
            "overflow_x": null,
            "overflow_y": null,
            "padding": null,
            "right": null,
            "top": null,
            "visibility": null,
            "width": null
          }
        },
        "ea9dbe681bc74fe2a1a38d72c9443f0a": {
          "model_module": "@jupyter-widgets/controls",
          "model_name": "DescriptionStyleModel",
          "model_module_version": "1.5.0",
          "state": {
            "_model_module": "@jupyter-widgets/controls",
            "_model_module_version": "1.5.0",
            "_model_name": "DescriptionStyleModel",
            "_view_count": null,
            "_view_module": "@jupyter-widgets/base",
            "_view_module_version": "1.2.0",
            "_view_name": "StyleView",
            "description_width": ""
          }
        }
      }
    }
  },
  "cells": [
    {
      "cell_type": "markdown",
      "source": [
        "## Install dependencies"
      ],
      "metadata": {
        "id": "mO9zLviL8faF"
      }
    },
    {
      "cell_type": "markdown",
      "source": [
        "### Check CUDA version"
      ],
      "metadata": {
        "id": "nKp45co9_0eu"
      }
    },
    {
      "cell_type": "code",
      "source": [
        "!nvcc --version"
      ],
      "metadata": {
        "colab": {
          "base_uri": "https://localhost:8080/"
        },
        "id": "M1GNo0oD2NIz",
        "outputId": "23379495-a30f-47a3-d612-14f4a530e99d"
      },
      "execution_count": 1,
      "outputs": [
        {
          "output_type": "stream",
          "name": "stdout",
          "text": [
            "nvcc: NVIDIA (R) Cuda compiler driver\n",
            "Copyright (c) 2005-2022 NVIDIA Corporation\n",
            "Built on Wed_Sep_21_10:33:58_PDT_2022\n",
            "Cuda compilation tools, release 11.8, V11.8.89\n",
            "Build cuda_11.8.r11.8/compiler.31833905_0\n"
          ]
        }
      ]
    },
    {
      "cell_type": "markdown",
      "source": [
        "### Install dependencies\n"
      ],
      "metadata": {
        "id": "kcyMb-mq_2vf"
      }
    },
    {
      "cell_type": "code",
      "execution_count": 2,
      "metadata": {
        "colab": {
          "base_uri": "https://localhost:8080/"
        },
        "id": "QBWFbYZmzoVa",
        "outputId": "dbc168c8-43e8-40e5-efe3-0a329652abfb"
      },
      "outputs": [
        {
          "output_type": "stream",
          "name": "stdout",
          "text": [
            "Looking in indexes: https://pypi.org/simple, https://us-python.pkg.dev/colab-wheels/public/simple/\n",
            "Collecting tokenizers==0.12.1\n",
            "  Downloading tokenizers-0.12.1-cp310-cp310-manylinux_2_12_x86_64.manylinux2010_x86_64.whl (6.6 MB)\n",
            "\u001b[2K     \u001b[90m━━━━━━━━━━━━━━━━━━━━━━━━━━━━━━━━━━━━━━━━\u001b[0m \u001b[32m6.6/6.6 MB\u001b[0m \u001b[31m48.9 MB/s\u001b[0m eta \u001b[36m0:00:00\u001b[0m\n",
            "\u001b[?25hCollecting transformers==4.21.3\n",
            "  Downloading transformers-4.21.3-py3-none-any.whl (4.7 MB)\n",
            "\u001b[2K     \u001b[90m━━━━━━━━━━━━━━━━━━━━━━━━━━━━━━━━━━━━━━━━\u001b[0m \u001b[32m4.7/4.7 MB\u001b[0m \u001b[31m52.3 MB/s\u001b[0m eta \u001b[36m0:00:00\u001b[0m\n",
            "\u001b[?25hRequirement already satisfied: pandas==1.5.3 in /usr/local/lib/python3.10/dist-packages (1.5.3)\n",
            "Collecting datasets==2.4.0\n",
            "  Downloading datasets-2.4.0-py3-none-any.whl (365 kB)\n",
            "\u001b[2K     \u001b[90m━━━━━━━━━━━━━━━━━━━━━━━━━━━━━━━━━━━━━━\u001b[0m \u001b[32m365.7/365.7 kB\u001b[0m \u001b[31m42.9 MB/s\u001b[0m eta \u001b[36m0:00:00\u001b[0m\n",
            "\u001b[?25hRequirement already satisfied: tensorflow==2.12 in /usr/local/lib/python3.10/dist-packages (2.12.0)\n",
            "Requirement already satisfied: filelock in /usr/local/lib/python3.10/dist-packages (from transformers==4.21.3) (3.12.0)\n",
            "Collecting huggingface-hub<1.0,>=0.1.0 (from transformers==4.21.3)\n",
            "  Downloading huggingface_hub-0.14.1-py3-none-any.whl (224 kB)\n",
            "\u001b[2K     \u001b[90m━━━━━━━━━━━━━━━━━━━━━━━━━━━━━━━━━━━━━━\u001b[0m \u001b[32m224.5/224.5 kB\u001b[0m \u001b[31m12.8 MB/s\u001b[0m eta \u001b[36m0:00:00\u001b[0m\n",
            "\u001b[?25hRequirement already satisfied: numpy>=1.17 in /usr/local/lib/python3.10/dist-packages (from transformers==4.21.3) (1.22.4)\n",
            "Requirement already satisfied: packaging>=20.0 in /usr/local/lib/python3.10/dist-packages (from transformers==4.21.3) (23.1)\n",
            "Requirement already satisfied: pyyaml>=5.1 in /usr/local/lib/python3.10/dist-packages (from transformers==4.21.3) (6.0)\n",
            "Requirement already satisfied: regex!=2019.12.17 in /usr/local/lib/python3.10/dist-packages (from transformers==4.21.3) (2022.10.31)\n",
            "Requirement already satisfied: requests in /usr/local/lib/python3.10/dist-packages (from transformers==4.21.3) (2.27.1)\n",
            "Requirement already satisfied: tqdm>=4.27 in /usr/local/lib/python3.10/dist-packages (from transformers==4.21.3) (4.65.0)\n",
            "Requirement already satisfied: python-dateutil>=2.8.1 in /usr/local/lib/python3.10/dist-packages (from pandas==1.5.3) (2.8.2)\n",
            "Requirement already satisfied: pytz>=2020.1 in /usr/local/lib/python3.10/dist-packages (from pandas==1.5.3) (2022.7.1)\n",
            "Requirement already satisfied: pyarrow>=6.0.0 in /usr/local/lib/python3.10/dist-packages (from datasets==2.4.0) (9.0.0)\n",
            "Collecting dill<0.3.6 (from datasets==2.4.0)\n",
            "  Downloading dill-0.3.5.1-py2.py3-none-any.whl (95 kB)\n",
            "\u001b[2K     \u001b[90m━━━━━━━━━━━━━━━━━━━━━━━━━━━━━━━━━━━━━━━━\u001b[0m \u001b[32m95.8/95.8 kB\u001b[0m \u001b[31m14.2 MB/s\u001b[0m eta \u001b[36m0:00:00\u001b[0m\n",
            "\u001b[?25hCollecting xxhash (from datasets==2.4.0)\n",
            "  Downloading xxhash-3.2.0-cp310-cp310-manylinux_2_17_x86_64.manylinux2014_x86_64.whl (212 kB)\n",
            "\u001b[2K     \u001b[90m━━━━━━━━━━━━━━━━━━━━━━━━━━━━━━━━━━━━━━\u001b[0m \u001b[32m212.5/212.5 kB\u001b[0m \u001b[31m25.9 MB/s\u001b[0m eta \u001b[36m0:00:00\u001b[0m\n",
            "\u001b[?25hCollecting multiprocess (from datasets==2.4.0)\n",
            "  Downloading multiprocess-0.70.14-py310-none-any.whl (134 kB)\n",
            "\u001b[2K     \u001b[90m━━━━━━━━━━━━━━━━━━━━━━━━━━━━━━━━━━━━━━\u001b[0m \u001b[32m134.3/134.3 kB\u001b[0m \u001b[31m21.0 MB/s\u001b[0m eta \u001b[36m0:00:00\u001b[0m\n",
            "\u001b[?25hRequirement already satisfied: fsspec[http]>=2021.11.1 in /usr/local/lib/python3.10/dist-packages (from datasets==2.4.0) (2023.4.0)\n",
            "Collecting aiohttp (from datasets==2.4.0)\n",
            "  Downloading aiohttp-3.8.4-cp310-cp310-manylinux_2_17_x86_64.manylinux2014_x86_64.whl (1.0 MB)\n",
            "\u001b[2K     \u001b[90m━━━━━━━━━━━━━━━━━━━━━━━━━━━━━━━━━━━━━━━━\u001b[0m \u001b[32m1.0/1.0 MB\u001b[0m \u001b[31m85.8 MB/s\u001b[0m eta \u001b[36m0:00:00\u001b[0m\n",
            "\u001b[?25hCollecting responses<0.19 (from datasets==2.4.0)\n",
            "  Downloading responses-0.18.0-py3-none-any.whl (38 kB)\n",
            "Requirement already satisfied: absl-py>=1.0.0 in /usr/local/lib/python3.10/dist-packages (from tensorflow==2.12) (1.4.0)\n",
            "Requirement already satisfied: astunparse>=1.6.0 in /usr/local/lib/python3.10/dist-packages (from tensorflow==2.12) (1.6.3)\n",
            "Requirement already satisfied: flatbuffers>=2.0 in /usr/local/lib/python3.10/dist-packages (from tensorflow==2.12) (23.3.3)\n",
            "Requirement already satisfied: gast<=0.4.0,>=0.2.1 in /usr/local/lib/python3.10/dist-packages (from tensorflow==2.12) (0.4.0)\n",
            "Requirement already satisfied: google-pasta>=0.1.1 in /usr/local/lib/python3.10/dist-packages (from tensorflow==2.12) (0.2.0)\n",
            "Requirement already satisfied: grpcio<2.0,>=1.24.3 in /usr/local/lib/python3.10/dist-packages (from tensorflow==2.12) (1.54.0)\n",
            "Requirement already satisfied: h5py>=2.9.0 in /usr/local/lib/python3.10/dist-packages (from tensorflow==2.12) (3.8.0)\n",
            "Requirement already satisfied: jax>=0.3.15 in /usr/local/lib/python3.10/dist-packages (from tensorflow==2.12) (0.4.10)\n",
            "Requirement already satisfied: keras<2.13,>=2.12.0 in /usr/local/lib/python3.10/dist-packages (from tensorflow==2.12) (2.12.0)\n",
            "Requirement already satisfied: libclang>=13.0.0 in /usr/local/lib/python3.10/dist-packages (from tensorflow==2.12) (16.0.0)\n",
            "Requirement already satisfied: opt-einsum>=2.3.2 in /usr/local/lib/python3.10/dist-packages (from tensorflow==2.12) (3.3.0)\n",
            "Requirement already satisfied: protobuf!=4.21.0,!=4.21.1,!=4.21.2,!=4.21.3,!=4.21.4,!=4.21.5,<5.0.0dev,>=3.20.3 in /usr/local/lib/python3.10/dist-packages (from tensorflow==2.12) (3.20.3)\n",
            "Requirement already satisfied: setuptools in /usr/local/lib/python3.10/dist-packages (from tensorflow==2.12) (67.7.2)\n",
            "Requirement already satisfied: six>=1.12.0 in /usr/local/lib/python3.10/dist-packages (from tensorflow==2.12) (1.16.0)\n",
            "Requirement already satisfied: tensorboard<2.13,>=2.12 in /usr/local/lib/python3.10/dist-packages (from tensorflow==2.12) (2.12.2)\n",
            "Requirement already satisfied: tensorflow-estimator<2.13,>=2.12.0 in /usr/local/lib/python3.10/dist-packages (from tensorflow==2.12) (2.12.0)\n",
            "Requirement already satisfied: termcolor>=1.1.0 in /usr/local/lib/python3.10/dist-packages (from tensorflow==2.12) (2.3.0)\n",
            "Requirement already satisfied: typing-extensions>=3.6.6 in /usr/local/lib/python3.10/dist-packages (from tensorflow==2.12) (4.5.0)\n",
            "Requirement already satisfied: wrapt<1.15,>=1.11.0 in /usr/local/lib/python3.10/dist-packages (from tensorflow==2.12) (1.14.1)\n",
            "Requirement already satisfied: tensorflow-io-gcs-filesystem>=0.23.1 in /usr/local/lib/python3.10/dist-packages (from tensorflow==2.12) (0.32.0)\n",
            "Requirement already satisfied: wheel<1.0,>=0.23.0 in /usr/local/lib/python3.10/dist-packages (from astunparse>=1.6.0->tensorflow==2.12) (0.40.0)\n",
            "Requirement already satisfied: attrs>=17.3.0 in /usr/local/lib/python3.10/dist-packages (from aiohttp->datasets==2.4.0) (23.1.0)\n",
            "Requirement already satisfied: charset-normalizer<4.0,>=2.0 in /usr/local/lib/python3.10/dist-packages (from aiohttp->datasets==2.4.0) (2.0.12)\n",
            "Collecting multidict<7.0,>=4.5 (from aiohttp->datasets==2.4.0)\n",
            "  Downloading multidict-6.0.4-cp310-cp310-manylinux_2_17_x86_64.manylinux2014_x86_64.whl (114 kB)\n",
            "\u001b[2K     \u001b[90m━━━━━━━━━━━━━━━━━━━━━━━━━━━━━━━━━━━━━━\u001b[0m \u001b[32m114.5/114.5 kB\u001b[0m \u001b[31m16.9 MB/s\u001b[0m eta \u001b[36m0:00:00\u001b[0m\n",
            "\u001b[?25hCollecting async-timeout<5.0,>=4.0.0a3 (from aiohttp->datasets==2.4.0)\n",
            "  Downloading async_timeout-4.0.2-py3-none-any.whl (5.8 kB)\n",
            "Collecting yarl<2.0,>=1.0 (from aiohttp->datasets==2.4.0)\n",
            "  Downloading yarl-1.9.2-cp310-cp310-manylinux_2_17_x86_64.manylinux2014_x86_64.whl (268 kB)\n",
            "\u001b[2K     \u001b[90m━━━━━━━━━━━━━━━━━━━━━━━━━━━━━━━━━━━━━━\u001b[0m \u001b[32m268.8/268.8 kB\u001b[0m \u001b[31m34.5 MB/s\u001b[0m eta \u001b[36m0:00:00\u001b[0m\n",
            "\u001b[?25hCollecting frozenlist>=1.1.1 (from aiohttp->datasets==2.4.0)\n",
            "  Downloading frozenlist-1.3.3-cp310-cp310-manylinux_2_5_x86_64.manylinux1_x86_64.manylinux_2_17_x86_64.manylinux2014_x86_64.whl (149 kB)\n",
            "\u001b[2K     \u001b[90m━━━━━━━━━━━━━━━━━━━━━━━━━━━━━━━━━━━━━━━\u001b[0m \u001b[32m149.6/149.6 kB\u001b[0m \u001b[31m8.3 MB/s\u001b[0m eta \u001b[36m0:00:00\u001b[0m\n",
            "\u001b[?25hCollecting aiosignal>=1.1.2 (from aiohttp->datasets==2.4.0)\n",
            "  Downloading aiosignal-1.3.1-py3-none-any.whl (7.6 kB)\n",
            "Requirement already satisfied: ml-dtypes>=0.1.0 in /usr/local/lib/python3.10/dist-packages (from jax>=0.3.15->tensorflow==2.12) (0.1.0)\n",
            "Requirement already satisfied: scipy>=1.7 in /usr/local/lib/python3.10/dist-packages (from jax>=0.3.15->tensorflow==2.12) (1.10.1)\n",
            "Requirement already satisfied: urllib3<1.27,>=1.21.1 in /usr/local/lib/python3.10/dist-packages (from requests->transformers==4.21.3) (1.26.15)\n",
            "Requirement already satisfied: certifi>=2017.4.17 in /usr/local/lib/python3.10/dist-packages (from requests->transformers==4.21.3) (2022.12.7)\n",
            "Requirement already satisfied: idna<4,>=2.5 in /usr/local/lib/python3.10/dist-packages (from requests->transformers==4.21.3) (3.4)\n",
            "Requirement already satisfied: google-auth<3,>=1.6.3 in /usr/local/lib/python3.10/dist-packages (from tensorboard<2.13,>=2.12->tensorflow==2.12) (2.17.3)\n",
            "Requirement already satisfied: google-auth-oauthlib<1.1,>=0.5 in /usr/local/lib/python3.10/dist-packages (from tensorboard<2.13,>=2.12->tensorflow==2.12) (1.0.0)\n",
            "Requirement already satisfied: markdown>=2.6.8 in /usr/local/lib/python3.10/dist-packages (from tensorboard<2.13,>=2.12->tensorflow==2.12) (3.4.3)\n",
            "Requirement already satisfied: tensorboard-data-server<0.8.0,>=0.7.0 in /usr/local/lib/python3.10/dist-packages (from tensorboard<2.13,>=2.12->tensorflow==2.12) (0.7.0)\n",
            "Requirement already satisfied: tensorboard-plugin-wit>=1.6.0 in /usr/local/lib/python3.10/dist-packages (from tensorboard<2.13,>=2.12->tensorflow==2.12) (1.8.1)\n",
            "Requirement already satisfied: werkzeug>=1.0.1 in /usr/local/lib/python3.10/dist-packages (from tensorboard<2.13,>=2.12->tensorflow==2.12) (2.3.0)\n",
            "INFO: pip is looking at multiple versions of multiprocess to determine which version is compatible with other requirements. This could take a while.\n",
            "Collecting multiprocess (from datasets==2.4.0)\n",
            "  Downloading multiprocess-0.70.13-py310-none-any.whl (133 kB)\n",
            "\u001b[2K     \u001b[90m━━━━━━━━━━━━━━━━━━━━━━━━━━━━━━━━━━━━━━\u001b[0m \u001b[32m133.1/133.1 kB\u001b[0m \u001b[31m17.1 MB/s\u001b[0m eta \u001b[36m0:00:00\u001b[0m\n",
            "\u001b[?25hRequirement already satisfied: cachetools<6.0,>=2.0.0 in /usr/local/lib/python3.10/dist-packages (from google-auth<3,>=1.6.3->tensorboard<2.13,>=2.12->tensorflow==2.12) (5.3.0)\n",
            "Requirement already satisfied: pyasn1-modules>=0.2.1 in /usr/local/lib/python3.10/dist-packages (from google-auth<3,>=1.6.3->tensorboard<2.13,>=2.12->tensorflow==2.12) (0.3.0)\n",
            "Requirement already satisfied: rsa<5,>=3.1.4 in /usr/local/lib/python3.10/dist-packages (from google-auth<3,>=1.6.3->tensorboard<2.13,>=2.12->tensorflow==2.12) (4.9)\n",
            "Requirement already satisfied: requests-oauthlib>=0.7.0 in /usr/local/lib/python3.10/dist-packages (from google-auth-oauthlib<1.1,>=0.5->tensorboard<2.13,>=2.12->tensorflow==2.12) (1.3.1)\n",
            "Requirement already satisfied: MarkupSafe>=2.1.1 in /usr/local/lib/python3.10/dist-packages (from werkzeug>=1.0.1->tensorboard<2.13,>=2.12->tensorflow==2.12) (2.1.2)\n",
            "Requirement already satisfied: pyasn1<0.6.0,>=0.4.6 in /usr/local/lib/python3.10/dist-packages (from pyasn1-modules>=0.2.1->google-auth<3,>=1.6.3->tensorboard<2.13,>=2.12->tensorflow==2.12) (0.5.0)\n",
            "Requirement already satisfied: oauthlib>=3.0.0 in /usr/local/lib/python3.10/dist-packages (from requests-oauthlib>=0.7.0->google-auth-oauthlib<1.1,>=0.5->tensorboard<2.13,>=2.12->tensorflow==2.12) (3.2.2)\n",
            "Installing collected packages: tokenizers, xxhash, multidict, frozenlist, dill, async-timeout, yarl, responses, multiprocess, huggingface-hub, aiosignal, transformers, aiohttp, datasets\n",
            "Successfully installed aiohttp-3.8.4 aiosignal-1.3.1 async-timeout-4.0.2 datasets-2.4.0 dill-0.3.5.1 frozenlist-1.3.3 huggingface-hub-0.14.1 multidict-6.0.4 multiprocess-0.70.13 responses-0.18.0 tokenizers-0.12.1 transformers-4.21.3 xxhash-3.2.0 yarl-1.9.2\n",
            "Looking in indexes: https://download.pytorch.org/whl/cu118, https://us-python.pkg.dev/colab-wheels/public/simple/\n",
            "Requirement already satisfied: torch in /usr/local/lib/python3.10/dist-packages (2.0.1+cu118)\n",
            "Requirement already satisfied: torchvision in /usr/local/lib/python3.10/dist-packages (0.15.2+cu118)\n",
            "Requirement already satisfied: torchaudio in /usr/local/lib/python3.10/dist-packages (2.0.2+cu118)\n",
            "Requirement already satisfied: filelock in /usr/local/lib/python3.10/dist-packages (from torch) (3.12.0)\n",
            "Requirement already satisfied: typing-extensions in /usr/local/lib/python3.10/dist-packages (from torch) (4.5.0)\n",
            "Requirement already satisfied: sympy in /usr/local/lib/python3.10/dist-packages (from torch) (1.11.1)\n",
            "Requirement already satisfied: networkx in /usr/local/lib/python3.10/dist-packages (from torch) (3.1)\n",
            "Requirement already satisfied: jinja2 in /usr/local/lib/python3.10/dist-packages (from torch) (3.1.2)\n",
            "Requirement already satisfied: triton==2.0.0 in /usr/local/lib/python3.10/dist-packages (from torch) (2.0.0)\n",
            "Requirement already satisfied: cmake in /usr/local/lib/python3.10/dist-packages (from triton==2.0.0->torch) (3.25.2)\n",
            "Requirement already satisfied: lit in /usr/local/lib/python3.10/dist-packages (from triton==2.0.0->torch) (16.0.5)\n",
            "Requirement already satisfied: numpy in /usr/local/lib/python3.10/dist-packages (from torchvision) (1.22.4)\n",
            "Requirement already satisfied: requests in /usr/local/lib/python3.10/dist-packages (from torchvision) (2.27.1)\n",
            "Requirement already satisfied: pillow!=8.3.*,>=5.3.0 in /usr/local/lib/python3.10/dist-packages (from torchvision) (8.4.0)\n",
            "Requirement already satisfied: MarkupSafe>=2.0 in /usr/local/lib/python3.10/dist-packages (from jinja2->torch) (2.1.2)\n",
            "Requirement already satisfied: urllib3<1.27,>=1.21.1 in /usr/local/lib/python3.10/dist-packages (from requests->torchvision) (1.26.15)\n",
            "Requirement already satisfied: certifi>=2017.4.17 in /usr/local/lib/python3.10/dist-packages (from requests->torchvision) (2022.12.7)\n",
            "Requirement already satisfied: charset-normalizer~=2.0.0 in /usr/local/lib/python3.10/dist-packages (from requests->torchvision) (2.0.12)\n",
            "Requirement already satisfied: idna<4,>=2.5 in /usr/local/lib/python3.10/dist-packages (from requests->torchvision) (3.4)\n",
            "Requirement already satisfied: mpmath>=0.19 in /usr/local/lib/python3.10/dist-packages (from sympy->torch) (1.3.0)\n"
          ]
        }
      ],
      "source": [
        "!pip3 install tokenizers==0.12.1 transformers==4.21.3 pandas==1.5.3 datasets==2.4.0 tensorflow==2.12\n",
        "!pip3 install torch torchvision torchaudio --index-url https://download.pytorch.org/whl/cu118"
      ]
    },
    {
      "cell_type": "markdown",
      "source": [
        "# How do we make software understand language?\n",
        "\n",
        "## Download Dutch dataset (news articles)"
      ],
      "metadata": {
        "id": "TaUV6-_b_Psu"
      }
    },
    {
      "cell_type": "code",
      "source": [
        "import os"
      ],
      "metadata": {
        "id": "yT_QflDX0gZc"
      },
      "execution_count": 3,
      "outputs": []
    },
    {
      "cell_type": "code",
      "source": [
        "if not os.path.isfile(\"dutch.csv\"): \n",
        "  !wget https://raw.githubusercontent.com/tijsg/lm-tutorial/main/dutch.csv"
      ],
      "metadata": {
        "id": "bXvGKFj7oMF8",
        "colab": {
          "base_uri": "https://localhost:8080/"
        },
        "outputId": "37fee98c-b227-4564-f27d-eddb2604feb4"
      },
      "execution_count": 4,
      "outputs": [
        {
          "output_type": "stream",
          "name": "stdout",
          "text": [
            "--2023-05-26 06:50:52--  https://raw.githubusercontent.com/tijsg/lm-tutorial/main/dutch.csv\n",
            "Resolving raw.githubusercontent.com (raw.githubusercontent.com)... 185.199.108.133, 185.199.109.133, 185.199.110.133, ...\n",
            "Connecting to raw.githubusercontent.com (raw.githubusercontent.com)|185.199.108.133|:443... connected.\n",
            "HTTP request sent, awaiting response... 200 OK\n",
            "Length: 10965481 (10M) [text/plain]\n",
            "Saving to: ‘dutch.csv’\n",
            "\n",
            "dutch.csv           100%[===================>]  10.46M  --.-KB/s    in 0.06s   \n",
            "\n",
            "2023-05-26 06:50:53 (180 MB/s) - ‘dutch.csv’ saved [10965481/10965481]\n",
            "\n"
          ]
        }
      ]
    },
    {
      "cell_type": "markdown",
      "source": [
        "## Analogy with language tests\n",
        "Fill in the missing word"
      ],
      "metadata": {
        "id": "mbIHuMB9_ade"
      }
    },
    {
      "cell_type": "markdown",
      "source": [
        "## Encoding\n",
        "Every string is already encoded character per character"
      ],
      "metadata": {
        "id": "CziGKAEV_ViM"
      }
    },
    {
      "cell_type": "code",
      "source": [
        "for char in (\"abcdefghijklmnopqrstuvwxyz\"):\n",
        "  print(\"UTF-8 code for char \" + char + \" is: \" + str(ord(char)))"
      ],
      "metadata": {
        "colab": {
          "base_uri": "https://localhost:8080/"
        },
        "id": "GWt4GO0l-0wN",
        "outputId": "b56ef30f-631a-4b18-ebc5-2bf8de559965"
      },
      "execution_count": 5,
      "outputs": [
        {
          "output_type": "stream",
          "name": "stdout",
          "text": [
            "UTF-8 code for char a is: 97\n",
            "UTF-8 code for char b is: 98\n",
            "UTF-8 code for char c is: 99\n",
            "UTF-8 code for char d is: 100\n",
            "UTF-8 code for char e is: 101\n",
            "UTF-8 code for char f is: 102\n",
            "UTF-8 code for char g is: 103\n",
            "UTF-8 code for char h is: 104\n",
            "UTF-8 code for char i is: 105\n",
            "UTF-8 code for char j is: 106\n",
            "UTF-8 code for char k is: 107\n",
            "UTF-8 code for char l is: 108\n",
            "UTF-8 code for char m is: 109\n",
            "UTF-8 code for char n is: 110\n",
            "UTF-8 code for char o is: 111\n",
            "UTF-8 code for char p is: 112\n",
            "UTF-8 code for char q is: 113\n",
            "UTF-8 code for char r is: 114\n",
            "UTF-8 code for char s is: 115\n",
            "UTF-8 code for char t is: 116\n",
            "UTF-8 code for char u is: 117\n",
            "UTF-8 code for char v is: 118\n",
            "UTF-8 code for char w is: 119\n",
            "UTF-8 code for char x is: 120\n",
            "UTF-8 code for char y is: 121\n",
            "UTF-8 code for char z is: 122\n"
          ]
        }
      ]
    },
    {
      "cell_type": "markdown",
      "source": [
        "## Load in data"
      ],
      "metadata": {
        "id": "yQiIaf9YBReN"
      }
    },
    {
      "cell_type": "code",
      "source": [
        "import pandas as pd"
      ],
      "metadata": {
        "id": "4YGZZlg79HfY"
      },
      "execution_count": 6,
      "outputs": []
    },
    {
      "cell_type": "code",
      "source": [
        "df_dutch = pd.read_csv(\"dutch.csv\", delimiter=\";\")"
      ],
      "metadata": {
        "id": "2lTwwlTy8eCV"
      },
      "execution_count": 7,
      "outputs": []
    },
    {
      "cell_type": "code",
      "source": [
        "df_dutch"
      ],
      "metadata": {
        "colab": {
          "base_uri": "https://localhost:8080/",
          "height": 424
        },
        "id": "gyusko8a_YWz",
        "outputId": "29c5ad6b-64ef-42aa-f63d-3b1e938ddc11"
      },
      "execution_count": 8,
      "outputs": [
        {
          "output_type": "execute_result",
          "data": {
            "text/plain": [
              "                                                 labels\n",
              "0     Spanje is met ingang van vandaag voorzitter va...\n",
              "1     Vijf werknemers van het omstreden Amerikaanse ...\n",
              "2     Het Oud en Nieuwfeest op het Museumplein in Am...\n",
              "3     President Obama heeft de eerste rapporten gekr...\n",
              "4     In de hele wereld is het nieuwe jaar feestelij...\n",
              "...                                                 ...\n",
              "9973  Een Chinese trein heeft het snelheidsrecord ge...\n",
              "9974  Een universiteit in de Amerikaanse staat Texas...\n",
              "9975  In Brussel demonstreren tienduizenden mensen v...\n",
              "9976  De NS wil het papieren spoorboekje afschaffen....\n",
              "9977  De Europese Commissie wil zelf gaan beoordelen...\n",
              "\n",
              "[9978 rows x 1 columns]"
            ],
            "text/html": [
              "\n",
              "  <div id=\"df-b27f1f39-cb60-40fa-8610-0a507abe0af4\">\n",
              "    <div class=\"colab-df-container\">\n",
              "      <div>\n",
              "<style scoped>\n",
              "    .dataframe tbody tr th:only-of-type {\n",
              "        vertical-align: middle;\n",
              "    }\n",
              "\n",
              "    .dataframe tbody tr th {\n",
              "        vertical-align: top;\n",
              "    }\n",
              "\n",
              "    .dataframe thead th {\n",
              "        text-align: right;\n",
              "    }\n",
              "</style>\n",
              "<table border=\"1\" class=\"dataframe\">\n",
              "  <thead>\n",
              "    <tr style=\"text-align: right;\">\n",
              "      <th></th>\n",
              "      <th>labels</th>\n",
              "    </tr>\n",
              "  </thead>\n",
              "  <tbody>\n",
              "    <tr>\n",
              "      <th>0</th>\n",
              "      <td>Spanje is met ingang van vandaag voorzitter va...</td>\n",
              "    </tr>\n",
              "    <tr>\n",
              "      <th>1</th>\n",
              "      <td>Vijf werknemers van het omstreden Amerikaanse ...</td>\n",
              "    </tr>\n",
              "    <tr>\n",
              "      <th>2</th>\n",
              "      <td>Het Oud en Nieuwfeest op het Museumplein in Am...</td>\n",
              "    </tr>\n",
              "    <tr>\n",
              "      <th>3</th>\n",
              "      <td>President Obama heeft de eerste rapporten gekr...</td>\n",
              "    </tr>\n",
              "    <tr>\n",
              "      <th>4</th>\n",
              "      <td>In de hele wereld is het nieuwe jaar feestelij...</td>\n",
              "    </tr>\n",
              "    <tr>\n",
              "      <th>...</th>\n",
              "      <td>...</td>\n",
              "    </tr>\n",
              "    <tr>\n",
              "      <th>9973</th>\n",
              "      <td>Een Chinese trein heeft het snelheidsrecord ge...</td>\n",
              "    </tr>\n",
              "    <tr>\n",
              "      <th>9974</th>\n",
              "      <td>Een universiteit in de Amerikaanse staat Texas...</td>\n",
              "    </tr>\n",
              "    <tr>\n",
              "      <th>9975</th>\n",
              "      <td>In Brussel demonstreren tienduizenden mensen v...</td>\n",
              "    </tr>\n",
              "    <tr>\n",
              "      <th>9976</th>\n",
              "      <td>De NS wil het papieren spoorboekje afschaffen....</td>\n",
              "    </tr>\n",
              "    <tr>\n",
              "      <th>9977</th>\n",
              "      <td>De Europese Commissie wil zelf gaan beoordelen...</td>\n",
              "    </tr>\n",
              "  </tbody>\n",
              "</table>\n",
              "<p>9978 rows × 1 columns</p>\n",
              "</div>\n",
              "      <button class=\"colab-df-convert\" onclick=\"convertToInteractive('df-b27f1f39-cb60-40fa-8610-0a507abe0af4')\"\n",
              "              title=\"Convert this dataframe to an interactive table.\"\n",
              "              style=\"display:none;\">\n",
              "        \n",
              "  <svg xmlns=\"http://www.w3.org/2000/svg\" height=\"24px\"viewBox=\"0 0 24 24\"\n",
              "       width=\"24px\">\n",
              "    <path d=\"M0 0h24v24H0V0z\" fill=\"none\"/>\n",
              "    <path d=\"M18.56 5.44l.94 2.06.94-2.06 2.06-.94-2.06-.94-.94-2.06-.94 2.06-2.06.94zm-11 1L8.5 8.5l.94-2.06 2.06-.94-2.06-.94L8.5 2.5l-.94 2.06-2.06.94zm10 10l.94 2.06.94-2.06 2.06-.94-2.06-.94-.94-2.06-.94 2.06-2.06.94z\"/><path d=\"M17.41 7.96l-1.37-1.37c-.4-.4-.92-.59-1.43-.59-.52 0-1.04.2-1.43.59L10.3 9.45l-7.72 7.72c-.78.78-.78 2.05 0 2.83L4 21.41c.39.39.9.59 1.41.59.51 0 1.02-.2 1.41-.59l7.78-7.78 2.81-2.81c.8-.78.8-2.07 0-2.86zM5.41 20L4 18.59l7.72-7.72 1.47 1.35L5.41 20z\"/>\n",
              "  </svg>\n",
              "      </button>\n",
              "      \n",
              "  <style>\n",
              "    .colab-df-container {\n",
              "      display:flex;\n",
              "      flex-wrap:wrap;\n",
              "      gap: 12px;\n",
              "    }\n",
              "\n",
              "    .colab-df-convert {\n",
              "      background-color: #E8F0FE;\n",
              "      border: none;\n",
              "      border-radius: 50%;\n",
              "      cursor: pointer;\n",
              "      display: none;\n",
              "      fill: #1967D2;\n",
              "      height: 32px;\n",
              "      padding: 0 0 0 0;\n",
              "      width: 32px;\n",
              "    }\n",
              "\n",
              "    .colab-df-convert:hover {\n",
              "      background-color: #E2EBFA;\n",
              "      box-shadow: 0px 1px 2px rgba(60, 64, 67, 0.3), 0px 1px 3px 1px rgba(60, 64, 67, 0.15);\n",
              "      fill: #174EA6;\n",
              "    }\n",
              "\n",
              "    [theme=dark] .colab-df-convert {\n",
              "      background-color: #3B4455;\n",
              "      fill: #D2E3FC;\n",
              "    }\n",
              "\n",
              "    [theme=dark] .colab-df-convert:hover {\n",
              "      background-color: #434B5C;\n",
              "      box-shadow: 0px 1px 3px 1px rgba(0, 0, 0, 0.15);\n",
              "      filter: drop-shadow(0px 1px 2px rgba(0, 0, 0, 0.3));\n",
              "      fill: #FFFFFF;\n",
              "    }\n",
              "  </style>\n",
              "\n",
              "      <script>\n",
              "        const buttonEl =\n",
              "          document.querySelector('#df-b27f1f39-cb60-40fa-8610-0a507abe0af4 button.colab-df-convert');\n",
              "        buttonEl.style.display =\n",
              "          google.colab.kernel.accessAllowed ? 'block' : 'none';\n",
              "\n",
              "        async function convertToInteractive(key) {\n",
              "          const element = document.querySelector('#df-b27f1f39-cb60-40fa-8610-0a507abe0af4');\n",
              "          const dataTable =\n",
              "            await google.colab.kernel.invokeFunction('convertToInteractive',\n",
              "                                                     [key], {});\n",
              "          if (!dataTable) return;\n",
              "\n",
              "          const docLinkHtml = 'Like what you see? Visit the ' +\n",
              "            '<a target=\"_blank\" href=https://colab.research.google.com/notebooks/data_table.ipynb>data table notebook</a>'\n",
              "            + ' to learn more about interactive tables.';\n",
              "          element.innerHTML = '';\n",
              "          dataTable['output_type'] = 'display_data';\n",
              "          await google.colab.output.renderOutput(dataTable, element);\n",
              "          const docLink = document.createElement('div');\n",
              "          docLink.innerHTML = docLinkHtml;\n",
              "          element.appendChild(docLink);\n",
              "        }\n",
              "      </script>\n",
              "    </div>\n",
              "  </div>\n",
              "  "
            ]
          },
          "metadata": {},
          "execution_count": 8
        }
      ]
    },
    {
      "cell_type": "markdown",
      "source": [
        "## Split by space"
      ],
      "metadata": {
        "id": "3v5jG94wBVj3"
      }
    },
    {
      "cell_type": "code",
      "source": [
        "sentence = df_dutch.iloc[0]\n",
        "sentence = sentence[0]"
      ],
      "metadata": {
        "id": "x0Z5txtjzSu5"
      },
      "execution_count": 9,
      "outputs": []
    },
    {
      "cell_type": "code",
      "source": [
        "sentence.split(\" \")[:10]"
      ],
      "metadata": {
        "colab": {
          "base_uri": "https://localhost:8080/"
        },
        "id": "t7b5Ju7X0t0P",
        "outputId": "28c08a5b-451a-4734-e521-433d6eb1ec35"
      },
      "execution_count": 10,
      "outputs": [
        {
          "output_type": "execute_result",
          "data": {
            "text/plain": [
              "['Spanje',\n",
              " 'is',\n",
              " 'met',\n",
              " 'ingang',\n",
              " 'van',\n",
              " 'vandaag',\n",
              " 'voorzitter',\n",
              " 'van',\n",
              " 'de',\n",
              " 'EU.']"
            ]
          },
          "metadata": {},
          "execution_count": 10
        }
      ]
    },
    {
      "cell_type": "markdown",
      "source": [
        "## Tokenizers \n",
        "### Byte pair encoding"
      ],
      "metadata": {
        "id": "UuCBETa3BYhA"
      }
    },
    {
      "cell_type": "markdown",
      "source": [
        "![tokenizer2.webp](data:image/webp;base64,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)"
      ],
      "metadata": {
        "id": "27xVQ-aTNTa_"
      }
    },
    {
      "cell_type": "code",
      "source": [
        "from tokenizers import ByteLevelBPETokenizer\n",
        "\n",
        "tokenizer = ByteLevelBPETokenizer()\n",
        "\n",
        "tokenizer.train(files=\"dutch.csv\", vocab_size=50265, min_frequency=3, \n",
        "                show_progress=True,\n",
        "                special_tokens=[\"<s>\", \"<pad>\", \"</s>\", \"<unk>\", \"<mask>\"])"
      ],
      "metadata": {
        "id": "tbYjqtYl1uz_"
      },
      "execution_count": 11,
      "outputs": []
    },
    {
      "cell_type": "code",
      "source": [
        "import os\n",
        "\n",
        "if not os.path.exists(\"tokenizer\"): os.mkdir(\"tokenizer\")\n",
        "tokenizer.save_model(\"tokenizer\")"
      ],
      "metadata": {
        "colab": {
          "base_uri": "https://localhost:8080/"
        },
        "id": "fEBsKuWR2b1z",
        "outputId": "3ba41379-3319-4dc6-d28f-798b30144eb5"
      },
      "execution_count": 12,
      "outputs": [
        {
          "output_type": "execute_result",
          "data": {
            "text/plain": [
              "['tokenizer/vocab.json', 'tokenizer/merges.txt']"
            ]
          },
          "metadata": {},
          "execution_count": 12
        }
      ]
    },
    {
      "cell_type": "code",
      "source": [
        "from transformers import RobertaTokenizerFast\n",
        "\n",
        "tokenizer = RobertaTokenizerFast.from_pretrained(\"tokenizer\", max_len=512)"
      ],
      "metadata": {
        "id": "zTB9ykts26WP"
      },
      "execution_count": 13,
      "outputs": []
    },
    {
      "cell_type": "markdown",
      "source": [
        "![tokenizer.webp](data:image/webp;base64,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)"
      ],
      "metadata": {
        "id": "NmvMDeGcFdxW"
      }
    },
    {
      "cell_type": "code",
      "source": [
        "tokens = tokenizer.encode(sentence[:100])\n",
        "print(sentence[:100])\n",
        "print(tokens)"
      ],
      "metadata": {
        "colab": {
          "base_uri": "https://localhost:8080/"
        },
        "id": "IfHf7iH02LUl",
        "outputId": "604d1a3a-e3a7-4ba0-9be7-01dff5f60a06"
      },
      "execution_count": 14,
      "outputs": [
        {
          "output_type": "stream",
          "name": "stdout",
          "text": [
            "Spanje is met ingang van vandaag voorzitter van de EU. De Zweedse premier Fredrik Reinfeldt heeft he\n",
            "[0, 17121, 321, 351, 8590, 284, 880, 2079, 284, 268, 2025, 18, 328, 4668, 1070, 10555, 1137, 17786, 402, 425, 2]\n"
          ]
        }
      ]
    },
    {
      "cell_type": "code",
      "source": [
        "print(tokenizer.decode([0, 55, 84, 264, 546, 321, 351, 289, 75, 466, 284, 880, 329, 844, 472, 284, 268, 385, 57, 18, 328, 437, 461, 72, 347, 304, 848, 529, 300, 72, 86, 394, 426, 73, 266, 74, 389, 88, 402, 425, 2]))"
      ],
      "metadata": {
        "colab": {
          "base_uri": "https://localhost:8080/"
        },
        "id": "0WJ0lR432XER",
        "outputId": "49227e73-cc36-4361-abd4-8861f4c3a3f3"
      },
      "execution_count": 15,
      "outputs": [
        {
          "output_type": "stream",
          "name": "stdout",
          "text": [
            "<s>Spanje is met ingang van vandaag voorzitter van de EU. De Zweedse premier Fredrik Reinfeldt heeft he</s>\n"
          ]
        }
      ]
    },
    {
      "cell_type": "markdown",
      "source": [
        "![wordpiece.png](data:image/png;base64,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)"
      ],
      "metadata": {
        "id": "4Wc5o2AOGj8v"
      }
    },
    {
      "cell_type": "markdown",
      "source": [
        "## Configure RoBERTa model\n",
        "\n",
        "This is defined by a research team"
      ],
      "metadata": {
        "id": "sXJETFvRN9Hz"
      }
    },
    {
      "cell_type": "code",
      "source": [
        "from transformers import RobertaConfig\n",
        "from transformers import RobertaForMaskedLM\n",
        "\n",
        "# Set a configuration for our RoBERTa model\n",
        "config = RobertaConfig(\n",
        "    vocab_size=50265,\n",
        "    max_position_embeddings=514,\n",
        "    num_attention_heads=12,\n",
        "    num_hidden_layers=6,\n",
        "    type_vocab_size=1,\n",
        ")\n",
        "# Initialize the model from a configuration without pretrained weights\n",
        "model = RobertaForMaskedLM(config=config)\n",
        "print('Num parameters: ',model.num_parameters())"
      ],
      "metadata": {
        "colab": {
          "base_uri": "https://localhost:8080/"
        },
        "id": "gDxfksumN7cN",
        "outputId": "26905f67-ce4c-4175-ae0a-ebec3ab63f04"
      },
      "execution_count": 16,
      "outputs": [
        {
          "output_type": "stream",
          "name": "stdout",
          "text": [
            "Num parameters:  82170201\n"
          ]
        }
      ]
    },
    {
      "cell_type": "markdown",
      "source": [
        "### Data collator to mask words with 15 percent probability"
      ],
      "metadata": {
        "id": "5ofQBFXQAiyv"
      }
    },
    {
      "cell_type": "code",
      "source": [
        "from transformers import DataCollatorForLanguageModeling\n",
        "\n",
        "# Define the Data Collator\n",
        "data_collator = DataCollatorForLanguageModeling(\n",
        "    tokenizer=tokenizer, mlm=True, mlm_probability=0.15,\n",
        ")"
      ],
      "metadata": {
        "id": "03VtYq4hTzTK"
      },
      "execution_count": 17,
      "outputs": []
    },
    {
      "cell_type": "markdown",
      "source": [
        "![masking.PNG](data:image/png;base64,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)"
      ],
      "metadata": {
        "id": "eyXym46cG2PA"
      }
    },
    {
      "cell_type": "markdown",
      "source": [
        "### Check if a GPU is available"
      ],
      "metadata": {
        "id": "ogLPqmokApES"
      }
    },
    {
      "cell_type": "code",
      "source": [
        "import torch\n",
        "\n",
        "train_on_gpu = torch.cuda.is_available()\n",
        "\n",
        "if not train_on_gpu:\n",
        "    print('CUDA is not available.  Training on CPU ...')\n",
        "else:\n",
        "    c = torch.cuda.device_count()\n",
        "    print(f\"CUDA is available!\\nNumber of gpu's detected: {c}\" )\n",
        "    print('Training on GPU ...\\n\\n')\n",
        "    for i in range(c):\n",
        "        print(f'Device name {i}== {torch.cuda.get_device_name(i)}')"
      ],
      "metadata": {
        "colab": {
          "base_uri": "https://localhost:8080/"
        },
        "id": "qTkEks7nVFJC",
        "outputId": "48128097-c540-4b39-dc36-0679b8b182ce"
      },
      "execution_count": 18,
      "outputs": [
        {
          "output_type": "stream",
          "name": "stdout",
          "text": [
            "CUDA is available!\n",
            "Number of gpu's detected: 1\n",
            "Training on GPU ...\n",
            "\n",
            "\n",
            "Device name 0== Tesla T4\n"
          ]
        }
      ]
    },
    {
      "cell_type": "markdown",
      "source": [
        "### Set up a tokenizer function to prepare for on-the-fly tokenizing"
      ],
      "metadata": {
        "id": "0XrWqLxLAs46"
      }
    },
    {
      "cell_type": "code",
      "source": [
        "def encode(batch):\n",
        "    return tokenizer(batch['labels'], padding=\"max_length\", truncation=True, max_length=512,return_tensors=\"pt\")"
      ],
      "metadata": {
        "id": "5k-TQt-QjGXS"
      },
      "execution_count": 19,
      "outputs": []
    },
    {
      "cell_type": "markdown",
      "source": [
        "### Load in the dataset, this time using Hugging Face's \"datasets\" instead of \"pandas\""
      ],
      "metadata": {
        "id": "tq6Y4bUFAxya"
      }
    },
    {
      "cell_type": "code",
      "source": [
        "from datasets import load_dataset\n",
        "dataset = load_dataset(\"csv\", data_files=\"dutch.csv\", delimiter=\";\")"
      ],
      "metadata": {
        "colab": {
          "base_uri": "https://localhost:8080/",
          "height": 200,
          "referenced_widgets": [
            "6d9a92efb4504273bfeb536038cfad95",
            "5f3a94f887924c97a7c0320b79626884",
            "b4902fb5350948c5ba0489bd1c778444",
            "ec547edb9ec54381b418d6c0ec1a5793",
            "8341d49ab0f747bf99e2d1e685459687",
            "268a40e6a16a403a933361fe945ecbd5",
            "fcbb01ef09174985907f73b21ad4b480",
            "5f150dca02554486b7b665256250a8c5",
            "82146d8d01294654b13ddc6dee2ed420",
            "d83d7afdde134cbaa827251a8d251ff4",
            "4c11136c235e429cad19011bcea731da",
            "34d49e18fdc84b559e3c53a04afd6be0",
            "d87ebea472514ddeab1b121690e89eeb",
            "fbf11d4efb1d451281c8c88df4fb4b55",
            "f9be1f8b87a34843935afbabeafc36ec",
            "da14e1808bdb42b99e7fecfd86836c8f",
            "ac73552c51794dc4b1241c051108dddc",
            "81acee189ee947ffb13d935fb0bc52d1",
            "f3164ef4a010484cbb14b7b441f2c502",
            "6b537955370e4734bf68b57cae76b971",
            "0fef9ce4b9ab4edab66e463b13f04fd7",
            "8bb2e9b06664407e822bd48d33e86aaf",
            "36eed820937b4238a31ce5d917956e23",
            "85785b581b2d4b6b9872eb5392573dd5",
            "52881ea9acb44bea8d01c61fde8a1135",
            "11e2e2db5a8a492782b6432b1070f9b0",
            "0cb6302055b64086b63590d249439ea8",
            "a16aae38d3524811bcbf9e524128e559",
            "3bdaf9b101ce43c59a940ad31f47791b",
            "530ae36c33ca4cebab91e6105f498a59",
            "f40af017dfbd49d3b0aedf1e433e3467",
            "8cbf2a6f901c44578816ea8c2c64ca29",
            "a0c1a4f44d944e9b8c9d61e4b717bc50",
            "698f7c1201354474978ab9cbacea5eb6",
            "b7a6bb008165420f95e297e5e2ce05c2",
            "6c19b2d5aa0f4182a60781e9b82aebf2",
            "c040b1be738547859fe2a36d28beb8f1",
            "16567a0f301e45e39c7f36178424a48e",
            "60a0b2812b414ffa865ae48c210307ca",
            "21f468f1da834c7390a8b222c64b6dd6",
            "0a79a0c3a2a945499ff30da620ccccfa",
            "50bf53ca0a4143fc84a90a5bcf9a341f",
            "b8b903d15bc740d8a32975d8433c63f2",
            "71135102a37244ecadb5840271615576"
          ]
        },
        "id": "kFUP_SnkrwML",
        "outputId": "30c935e5-d422-41d0-d6e6-3dad979404c0"
      },
      "execution_count": 20,
      "outputs": [
        {
          "output_type": "stream",
          "name": "stderr",
          "text": [
            "WARNING:datasets.builder:Using custom data configuration default-144099f73cfbce4c\n"
          ]
        },
        {
          "output_type": "stream",
          "name": "stdout",
          "text": [
            "Downloading and preparing dataset csv/default to /root/.cache/huggingface/datasets/csv/default-144099f73cfbce4c/0.0.0/652c3096f041ee27b04d2232d41f10547a8fecda3e284a79a0ec4053c916ef7a...\n"
          ]
        },
        {
          "output_type": "display_data",
          "data": {
            "text/plain": [
              "Downloading data files:   0%|          | 0/1 [00:00<?, ?it/s]"
            ],
            "application/vnd.jupyter.widget-view+json": {
              "version_major": 2,
              "version_minor": 0,
              "model_id": "6d9a92efb4504273bfeb536038cfad95"
            }
          },
          "metadata": {}
        },
        {
          "output_type": "display_data",
          "data": {
            "text/plain": [
              "Extracting data files:   0%|          | 0/1 [00:00<?, ?it/s]"
            ],
            "application/vnd.jupyter.widget-view+json": {
              "version_major": 2,
              "version_minor": 0,
              "model_id": "34d49e18fdc84b559e3c53a04afd6be0"
            }
          },
          "metadata": {}
        },
        {
          "output_type": "display_data",
          "data": {
            "text/plain": [
              "0 tables [00:00, ? tables/s]"
            ],
            "application/vnd.jupyter.widget-view+json": {
              "version_major": 2,
              "version_minor": 0,
              "model_id": "36eed820937b4238a31ce5d917956e23"
            }
          },
          "metadata": {}
        },
        {
          "output_type": "stream",
          "name": "stderr",
          "text": [
            "/usr/local/lib/python3.10/dist-packages/datasets/download/streaming_download_manager.py:695: FutureWarning: the 'mangle_dupe_cols' keyword is deprecated and will be removed in a future version. Please take steps to stop the use of 'mangle_dupe_cols'\n",
            "  return pd.read_csv(xopen(filepath_or_buffer, \"rb\", use_auth_token=use_auth_token), **kwargs)\n"
          ]
        },
        {
          "output_type": "stream",
          "name": "stdout",
          "text": [
            "Dataset csv downloaded and prepared to /root/.cache/huggingface/datasets/csv/default-144099f73cfbce4c/0.0.0/652c3096f041ee27b04d2232d41f10547a8fecda3e284a79a0ec4053c916ef7a. Subsequent calls will reuse this data.\n"
          ]
        },
        {
          "output_type": "display_data",
          "data": {
            "text/plain": [
              "  0%|          | 0/1 [00:00<?, ?it/s]"
            ],
            "application/vnd.jupyter.widget-view+json": {
              "version_major": 2,
              "version_minor": 0,
              "model_id": "698f7c1201354474978ab9cbacea5eb6"
            }
          },
          "metadata": {}
        }
      ]
    },
    {
      "cell_type": "code",
      "source": [
        "dataset"
      ],
      "metadata": {
        "colab": {
          "base_uri": "https://localhost:8080/"
        },
        "id": "sTelWbLer_au",
        "outputId": "4c8bd15c-db6d-4ab1-c33c-ee08cf11d400"
      },
      "execution_count": 21,
      "outputs": [
        {
          "output_type": "execute_result",
          "data": {
            "text/plain": [
              "DatasetDict({\n",
              "    train: Dataset({\n",
              "        features: ['labels'],\n",
              "        num_rows: 9978\n",
              "    })\n",
              "})"
            ]
          },
          "metadata": {},
          "execution_count": 21
        }
      ]
    },
    {
      "cell_type": "markdown",
      "source": [
        "### Shuffle the dataset, and do a train/test split with 70/30 ratio"
      ],
      "metadata": {
        "id": "aOrx4bwjA5Kj"
      }
    },
    {
      "cell_type": "code",
      "source": [
        "dataset = dataset.shuffle(seed=42)\n",
        "dataset = dataset[\"train\"]\n",
        "dataset = dataset.train_test_split(train_size=0.7)"
      ],
      "metadata": {
        "id": "-iDag0U3sJJA"
      },
      "execution_count": 22,
      "outputs": []
    },
    {
      "cell_type": "markdown",
      "source": [
        "### Check if data is loaded correctly"
      ],
      "metadata": {
        "id": "kM7ZnkPFBBop"
      }
    },
    {
      "cell_type": "code",
      "source": [
        "dataset"
      ],
      "metadata": {
        "colab": {
          "base_uri": "https://localhost:8080/"
        },
        "id": "Qqi3hplcsN69",
        "outputId": "db56ff34-b1a7-4c4b-ba4a-49d69352bbec"
      },
      "execution_count": 23,
      "outputs": [
        {
          "output_type": "execute_result",
          "data": {
            "text/plain": [
              "DatasetDict({\n",
              "    train: Dataset({\n",
              "        features: ['labels'],\n",
              "        num_rows: 6984\n",
              "    })\n",
              "    test: Dataset({\n",
              "        features: ['labels'],\n",
              "        num_rows: 2994\n",
              "    })\n",
              "})"
            ]
          },
          "metadata": {},
          "execution_count": 23
        }
      ]
    },
    {
      "cell_type": "code",
      "source": [
        "dataset[\"train\"][100]"
      ],
      "metadata": {
        "colab": {
          "base_uri": "https://localhost:8080/"
        },
        "id": "HVh02YWjsfZ_",
        "outputId": "53011569-2c0b-40e8-e60a-0e5d9015f7c4"
      },
      "execution_count": 24,
      "outputs": [
        {
          "output_type": "execute_result",
          "data": {
            "text/plain": [
              "{'labels': 'De prijzen van koopwoningen zijn in augustus opnieuw gedaald. Ten opzichte van juli waren koopwoningen gemiddeld 0,2 procent goedkoper. Vergeleken met dezelfde maand een jaar eerder was de daling gemiddeld 0,4 procent, blijkt uit cijfers van het Centraal Bureau voor de Statistiek. Al sinds februari 2009 zijn de prijzen lager dan een jaar eerder, maar de prijsdaling is in de loop van dit jaar geleidelijk kleiner geworden. De prijs van vrijstaande huizen is vergeleken met augustus 2009 juist gestegen'}"
            ]
          },
          "metadata": {},
          "execution_count": 24
        }
      ]
    },
    {
      "cell_type": "code",
      "source": [
        "dataset[\"test\"][100]"
      ],
      "metadata": {
        "colab": {
          "base_uri": "https://localhost:8080/"
        },
        "id": "tRxBalJ6tltH",
        "outputId": "f8a61cff-6c23-459e-9c3b-a543a353bd08"
      },
      "execution_count": 25,
      "outputs": [
        {
          "output_type": "execute_result",
          "data": {
            "text/plain": [
              "{'labels': 'VS-minister Clinton heeft Noord-Korea opgeroepen zijn oorlogszuchtige beleid te staken. Clinton is in Zuid-Korea voor overleg over de oplopende spanningen op het Koreaanse schiereiland. Seoul houdt Pyongyang verantwoordelijk voor het zinken van een Zuid-Koreaans marineschip. Clinton noemt het bewijs overweldigend en zegt dat de wereld de plicht heeft om de provocatie krachtig maar afgewogen te beantwoorden. Seoul stapt naar de VN-Veiligheidsraad. Pyongyang spreekt de aantijging tegen en verbrak gisteren alle banden met het zuiden. Noord-Korea zegt dat maatregelen tegen het land tot oorlog leiden. '}"
            ]
          },
          "metadata": {},
          "execution_count": 25
        }
      ]
    },
    {
      "cell_type": "markdown",
      "source": [
        "### Set up on-the-fly tokenizing/encoding"
      ],
      "metadata": {
        "id": "Hh3lNLJ7BG3o"
      }
    },
    {
      "cell_type": "code",
      "source": [
        "ds_train = dataset[\"train\"]\n",
        "ds_train.set_transform(encode)\n",
        "ds_test = dataset[\"test\"]\n",
        "ds_test.set_transform(encode)"
      ],
      "metadata": {
        "id": "BjTqAFWOtvcZ"
      },
      "execution_count": 26,
      "outputs": []
    },
    {
      "cell_type": "markdown",
      "source": [
        "Now when fetching a sentence, it returns the tokens instead of the sentence"
      ],
      "metadata": {
        "id": "0neJ60ZCBJvw"
      }
    },
    {
      "cell_type": "code",
      "source": [
        "ds_train"
      ],
      "metadata": {
        "id": "9bDXqdW5QG8z",
        "outputId": "1b7e24ac-e037-41bd-d05d-15951d7560e3",
        "colab": {
          "base_uri": "https://localhost:8080/"
        }
      },
      "execution_count": 27,
      "outputs": [
        {
          "output_type": "execute_result",
          "data": {
            "text/plain": [
              "Dataset({\n",
              "    features: ['labels'],\n",
              "    num_rows: 6984\n",
              "})"
            ]
          },
          "metadata": {},
          "execution_count": 27
        }
      ]
    },
    {
      "cell_type": "code",
      "source": [
        "ds_train[20]"
      ],
      "metadata": {
        "colab": {
          "base_uri": "https://localhost:8080/"
        },
        "id": "rusolW7Yt-w1",
        "outputId": "717ceaa4-0c22-4c09-df0f-86556c834f36"
      },
      "execution_count": 28,
      "outputs": [
        {
          "output_type": "execute_result",
          "data": {
            "text/plain": [
              "{'input_ids': tensor([    0,   542,  1625,  5170, 10115,   402,   268,  1302,  2461,   268,\n",
              "          3952,  7950,   284,   268,  6454,    18,   419,  1289,   581,   319,\n",
              "           268,  1672,  1940,   420,   268,  3952, 30813,   790,   321,    18,\n",
              "          1550,   268,  3952,   490, 10115,   880,  8520,  2782,  7045,    16,\n",
              "           656, 22112,   309,  1496,   725,   637,  3583,    18,   328,  6454,\n",
              "         21053,  1331,   852,   299, 42829,  3952,   338,   356,   299,  2551,\n",
              "          7220,   307,   293, 10937,   284,   732,   457,   320,  8091,    18,\n",
              "          4198,  3725,  6454,  7604,  1331,   852,   329,   293,  2862,   356,\n",
              "           289,  3952,   320,   672,    18,   419,  2851, 27736,   329,   299,\n",
              "          6029,   321,  6696,    18,   674,   637,    16,  2273,   293,  7220,\n",
              "           284,  7350,  6915,   410, 29659,    18,   674,   637,  2857,    18,\n",
              "             2,     1,     1,     1,     1,     1,     1,     1,     1,     1,\n",
              "             1,     1,     1,     1,     1,     1,     1,     1,     1,     1,\n",
              "             1,     1,     1,     1,     1,     1,     1,     1,     1,     1,\n",
              "             1,     1,     1,     1,     1,     1,     1,     1,     1,     1,\n",
              "             1,     1,     1,     1,     1,     1,     1,     1,     1,     1,\n",
              "             1,     1,     1,     1,     1,     1,     1,     1,     1,     1,\n",
              "             1,     1,     1,     1,     1,     1,     1,     1,     1,     1,\n",
              "             1,     1,     1,     1,     1,     1,     1,     1,     1,     1,\n",
              "             1,     1,     1,     1,     1,     1,     1,     1,     1,     1,\n",
              "             1,     1,     1,     1,     1,     1,     1,     1,     1,     1,\n",
              "             1,     1,     1,     1,     1,     1,     1,     1,     1,     1,\n",
              "             1,     1,     1,     1,     1,     1,     1,     1,     1,     1,\n",
              "             1,     1,     1,     1,     1,     1,     1,     1,     1,     1,\n",
              "             1,     1,     1,     1,     1,     1,     1,     1,     1,     1,\n",
              "             1,     1,     1,     1,     1,     1,     1,     1,     1,     1,\n",
              "             1,     1,     1,     1,     1,     1,     1,     1,     1,     1,\n",
              "             1,     1,     1,     1,     1,     1,     1,     1,     1,     1,\n",
              "             1,     1,     1,     1,     1,     1,     1,     1,     1,     1,\n",
              "             1,     1,     1,     1,     1,     1,     1,     1,     1,     1,\n",
              "             1,     1,     1,     1,     1,     1,     1,     1,     1,     1,\n",
              "             1,     1,     1,     1,     1,     1,     1,     1,     1,     1,\n",
              "             1,     1,     1,     1,     1,     1,     1,     1,     1,     1,\n",
              "             1,     1,     1,     1,     1,     1,     1,     1,     1,     1,\n",
              "             1,     1,     1,     1,     1,     1,     1,     1,     1,     1,\n",
              "             1,     1,     1,     1,     1,     1,     1,     1,     1,     1,\n",
              "             1,     1,     1,     1,     1,     1,     1,     1,     1,     1,\n",
              "             1,     1,     1,     1,     1,     1,     1,     1,     1,     1,\n",
              "             1,     1,     1,     1,     1,     1,     1,     1,     1,     1,\n",
              "             1,     1,     1,     1,     1,     1,     1,     1,     1,     1,\n",
              "             1,     1,     1,     1,     1,     1,     1,     1,     1,     1,\n",
              "             1,     1,     1,     1,     1,     1,     1,     1,     1,     1,\n",
              "             1,     1,     1,     1,     1,     1,     1,     1,     1,     1,\n",
              "             1,     1,     1,     1,     1,     1,     1,     1,     1,     1,\n",
              "             1,     1,     1,     1,     1,     1,     1,     1,     1,     1,\n",
              "             1,     1,     1,     1,     1,     1,     1,     1,     1,     1,\n",
              "             1,     1,     1,     1,     1,     1,     1,     1,     1,     1,\n",
              "             1,     1,     1,     1,     1,     1,     1,     1,     1,     1,\n",
              "             1,     1,     1,     1,     1,     1,     1,     1,     1,     1,\n",
              "             1,     1,     1,     1,     1,     1,     1,     1,     1,     1,\n",
              "             1,     1,     1,     1,     1,     1,     1,     1,     1,     1,\n",
              "             1,     1]),\n",
              " 'attention_mask': tensor([1, 1, 1, 1, 1, 1, 1, 1, 1, 1, 1, 1, 1, 1, 1, 1, 1, 1, 1, 1, 1, 1, 1, 1,\n",
              "         1, 1, 1, 1, 1, 1, 1, 1, 1, 1, 1, 1, 1, 1, 1, 1, 1, 1, 1, 1, 1, 1, 1, 1,\n",
              "         1, 1, 1, 1, 1, 1, 1, 1, 1, 1, 1, 1, 1, 1, 1, 1, 1, 1, 1, 1, 1, 1, 1, 1,\n",
              "         1, 1, 1, 1, 1, 1, 1, 1, 1, 1, 1, 1, 1, 1, 1, 1, 1, 1, 1, 1, 1, 1, 1, 1,\n",
              "         1, 1, 1, 1, 1, 1, 1, 1, 1, 1, 1, 1, 1, 1, 1, 0, 0, 0, 0, 0, 0, 0, 0, 0,\n",
              "         0, 0, 0, 0, 0, 0, 0, 0, 0, 0, 0, 0, 0, 0, 0, 0, 0, 0, 0, 0, 0, 0, 0, 0,\n",
              "         0, 0, 0, 0, 0, 0, 0, 0, 0, 0, 0, 0, 0, 0, 0, 0, 0, 0, 0, 0, 0, 0, 0, 0,\n",
              "         0, 0, 0, 0, 0, 0, 0, 0, 0, 0, 0, 0, 0, 0, 0, 0, 0, 0, 0, 0, 0, 0, 0, 0,\n",
              "         0, 0, 0, 0, 0, 0, 0, 0, 0, 0, 0, 0, 0, 0, 0, 0, 0, 0, 0, 0, 0, 0, 0, 0,\n",
              "         0, 0, 0, 0, 0, 0, 0, 0, 0, 0, 0, 0, 0, 0, 0, 0, 0, 0, 0, 0, 0, 0, 0, 0,\n",
              "         0, 0, 0, 0, 0, 0, 0, 0, 0, 0, 0, 0, 0, 0, 0, 0, 0, 0, 0, 0, 0, 0, 0, 0,\n",
              "         0, 0, 0, 0, 0, 0, 0, 0, 0, 0, 0, 0, 0, 0, 0, 0, 0, 0, 0, 0, 0, 0, 0, 0,\n",
              "         0, 0, 0, 0, 0, 0, 0, 0, 0, 0, 0, 0, 0, 0, 0, 0, 0, 0, 0, 0, 0, 0, 0, 0,\n",
              "         0, 0, 0, 0, 0, 0, 0, 0, 0, 0, 0, 0, 0, 0, 0, 0, 0, 0, 0, 0, 0, 0, 0, 0,\n",
              "         0, 0, 0, 0, 0, 0, 0, 0, 0, 0, 0, 0, 0, 0, 0, 0, 0, 0, 0, 0, 0, 0, 0, 0,\n",
              "         0, 0, 0, 0, 0, 0, 0, 0, 0, 0, 0, 0, 0, 0, 0, 0, 0, 0, 0, 0, 0, 0, 0, 0,\n",
              "         0, 0, 0, 0, 0, 0, 0, 0, 0, 0, 0, 0, 0, 0, 0, 0, 0, 0, 0, 0, 0, 0, 0, 0,\n",
              "         0, 0, 0, 0, 0, 0, 0, 0, 0, 0, 0, 0, 0, 0, 0, 0, 0, 0, 0, 0, 0, 0, 0, 0,\n",
              "         0, 0, 0, 0, 0, 0, 0, 0, 0, 0, 0, 0, 0, 0, 0, 0, 0, 0, 0, 0, 0, 0, 0, 0,\n",
              "         0, 0, 0, 0, 0, 0, 0, 0, 0, 0, 0, 0, 0, 0, 0, 0, 0, 0, 0, 0, 0, 0, 0, 0,\n",
              "         0, 0, 0, 0, 0, 0, 0, 0, 0, 0, 0, 0, 0, 0, 0, 0, 0, 0, 0, 0, 0, 0, 0, 0,\n",
              "         0, 0, 0, 0, 0, 0, 0, 0])}"
            ]
          },
          "metadata": {},
          "execution_count": 28
        }
      ]
    },
    {
      "cell_type": "markdown",
      "source": [
        "### Set up the training parameters"
      ],
      "metadata": {
        "id": "Ne_zViHnBRS2"
      }
    },
    {
      "cell_type": "code",
      "source": [
        "from transformers import TrainingArguments, Trainer\n",
        "\n",
        "if not os.path.exists(\"models\"): os.mkdir(\"models\")\n",
        "if not os.path.exists(\"models/roberta\"): os.mkdir(\"models/roberta\")\n",
        "\n",
        "training_args = TrainingArguments(\n",
        "    output_dir='./models/roberta',\n",
        "    overwrite_output_dir=True,\n",
        "    evaluation_strategy = 'steps',\n",
        "    num_train_epochs=5,\n",
        "    learning_rate=1e-5,\n",
        "    lr_scheduler_type=\"constant\",\n",
        "    weight_decay=0.01,\n",
        "    per_device_train_batch_size=8,\n",
        "    per_device_eval_batch_size=8,\n",
        "    save_steps=500,\n",
        "    eval_steps=500,\n",
        "    save_total_limit=3,\n",
        "    ignore_data_skip=True,\n",
        "    gradient_accumulation_steps=4,\n",
        "    gradient_checkpointing=True,\n",
        "    fp16=True\n",
        ")\n",
        "# Create the trainer for our model\n",
        "trainer = Trainer(\n",
        "    model=model,\n",
        "    args=training_args,\n",
        "    data_collator=data_collator,\n",
        "    train_dataset=ds_train,\n",
        "    eval_dataset=ds_test,\n",
        "    #prediction_loss_only=True,\n",
        ")"
      ],
      "metadata": {
        "colab": {
          "base_uri": "https://localhost:8080/"
        },
        "id": "H9Ha42xPTlgC",
        "outputId": "91fbf77f-0e69-4293-ae6d-81960d6eb836"
      },
      "execution_count": 29,
      "outputs": [
        {
          "output_type": "stream",
          "name": "stderr",
          "text": [
            "Using cuda_amp half precision backend\n"
          ]
        }
      ]
    },
    {
      "cell_type": "markdown",
      "source": [
        "### Start the training script"
      ],
      "metadata": {
        "id": "BqBHkqruBUuM"
      }
    },
    {
      "cell_type": "code",
      "source": [
        "trainer.train()\n",
        "trainer.save_model(\"models/roberta/roberta_dutch\")"
      ],
      "metadata": {
        "id": "NccyZzhorX-u"
      },
      "execution_count": null,
      "outputs": []
    },
    {
      "cell_type": "markdown",
      "source": [
        "# Load the model\n",
        "## Load in the newly trained model"
      ],
      "metadata": {
        "id": "RO-hQrFeBX2n"
      }
    },
    {
      "cell_type": "code",
      "source": [
        "from transformers import RobertaForMaskedLM\n",
        "model = RobertaForMaskedLM.from_pretrained(\"models/roberta/roberta_dutch\")"
      ],
      "metadata": {
        "id": "Cqbeb7wM8JM_"
      },
      "execution_count": null,
      "outputs": []
    },
    {
      "cell_type": "markdown",
      "source": [
        "## Set up a script to check the model with masked words"
      ],
      "metadata": {
        "id": "2wBcEXSABciZ"
      }
    },
    {
      "cell_type": "code",
      "source": [
        "from transformers import pipeline\n",
        "\n",
        "fill_mask = pipeline(\n",
        "    \"fill-mask\",\n",
        "    model = model,\n",
        "    tokenizer = tokenizer\n",
        ")"
      ],
      "metadata": {
        "id": "hpm-NEipwS7I"
      },
      "execution_count": null,
      "outputs": []
    },
    {
      "cell_type": "markdown",
      "source": [
        "### Test the model"
      ],
      "metadata": {
        "id": "qES9sChWBitZ"
      }
    },
    {
      "cell_type": "code",
      "source": [
        "fill_mask(\"Hij doet zijn <mask> om goed te presteren.\")"
      ],
      "metadata": {
        "id": "Mmlatb0qA2v2"
      },
      "execution_count": null,
      "outputs": []
    },
    {
      "cell_type": "markdown",
      "source": [
        "### Comparison with pretrained model"
      ],
      "metadata": {
        "id": "Gmaamw7zN71I"
      }
    },
    {
      "cell_type": "code",
      "source": [
        "from transformers import AutoTokenizer, AutoModelForMaskedLM\n",
        "\n",
        "tokenizer = AutoTokenizer.from_pretrained(\"pdelobelle/robbert-v2-dutch-base\")\n",
        "model = AutoModelForMaskedLM.from_pretrained(\"pdelobelle/robbert-v2-dutch-base\")"
      ],
      "metadata": {
        "id": "qcnJkkRLL81A",
        "outputId": "c873244d-8c27-4486-e0cb-6c2c35c108c2",
        "colab": {
          "base_uri": "https://localhost:8080/",
          "height": 1000,
          "referenced_widgets": [
            "4f0d61d2622548e28aff32381338248e",
            "0ae47c8d3b6a40f6b536a3d11c577117",
            "43eb3e4eea56418b87cf225aa6580ed1",
            "83749fde530c410aa19d479185fa7ce3",
            "5187c2205e3a4a72a6c5d3121ba24454",
            "d8ef2afe59bd46e9b6069e359b97b747",
            "2b4d2cbe7afb4f44abf4169043ec15eb",
            "7f21acc587a54215a81204c490dfc94b",
            "c7b683bba583449db188f7ccc20cf62c",
            "c85de9c1a5634fb3b808553fe880f934",
            "ced630b7c26944899ffae74f8773c3a6",
            "026ac5dd7c1246b2b3aaf78812f0d24a",
            "ec2e6eb8ab484d48b6aa4a714f6f23a6",
            "bdcc4a18f4a64aac82466844c9a2c8a1",
            "9162138e08b1480fba880aabd6979bc4",
            "c0a07d09569544dfbe7f01f33547cfcb",
            "5992c56360e44211a43d5befdce9ef0f",
            "d7c403a25b354483bf30c500c6d4565c",
            "4c24a91fe0264dfd95d163b3359fb2e8",
            "4a0670c5c45f4981af022f0f06f2d1ce",
            "1fd7a46907ca414faffc89ad4bdddff8",
            "5fda7e06c79f4847b98d3b7611a97975",
            "15395be943994311b574a44a719c70f8",
            "fd1aecbff4e54926be095192a60571b1",
            "b5b69e3e47264bf3b8cc3e916e0e34a7",
            "15d4ecd310e94dd19daee36029532154",
            "0601d57dade54d67b0775ddc90ff7bd4",
            "10be6c4a67e24a719607b6621ca5798c",
            "cdd8cf4572404b87b35858c540d67042",
            "f0b04af8edd14883adf01d41965faaef",
            "dc8f6622ab37442a935af4b08a52d2db",
            "003bd28189664e5ea7a1f20d2e24d6fa",
            "ce3d5cfb4319441e94151ead320e9375",
            "5cb7494ae0d24b3aaf8582db637e3692",
            "27b33c22fb474f10b328b73c535b4ebd",
            "6c2c481af8474df590d19a070aee99dc",
            "38a039dba64246b6a2f95f2a57a0e1bc",
            "d973b61b8a3a4aff8c567eef27d11ebf",
            "54a40b692d124badaa5425e97f02f4e4",
            "3d9d8d937efd43b2bea0ba7563165cc4",
            "7dd6389c2d0c4f26924285d548092b03",
            "406f09fd7f0646e398114943c9bc7ba2",
            "21f7e2219bb3432cbc2b769fa96674e1",
            "bbe437c84de84bce9ed126c6863cdad0",
            "d785a33ffa3349f6ba3e4c61b035fa0b",
            "5ccf3f58fe2d40368a3039d905709635",
            "c0c7c1de4b8b48dfa7acf48dc345c0c1",
            "b822f3f63a854fa18aa4674e0e34cc38",
            "d6c550c63be04d5dae951de470869847",
            "410daeba680f4fe38523b2887999b7a8",
            "6c4d2bc21bb54446859af060ec7847f8",
            "bbe681949ff94937a0df31813ace935e",
            "1c532b2c0d254a919d104a3075cb2433",
            "5ad7eadd13484349a462f1adb7f3b2f4",
            "07b4d7509e3745d4b7f349e48ee0fbe1",
            "065baef6a1bc46a89a8fc7c07c545622",
            "0928f80542f8413f986eba30ff10e8c4",
            "58ecd05514f94d1e8fd2640ee4f9068d",
            "397b8e5156ec4db5939fe7f0bc347d88",
            "ae8ca53a83fa48ab927c06ab3f09740c",
            "a0b9c9a3e7b7466196d822a2f539c08a",
            "f74e741e60974e6faf848fa6da2e7a47",
            "50a474366d6f44dfb82ffaca66e6c52c",
            "9646f431ad4c431c95531056eac0ffb6",
            "03b24d4ac82f41b3b1948ecfdb0f5222",
            "fa24726d5a424c3a8797ee3778c891f9",
            "33f7f77ef63e40679c562fc755d6d298",
            "25b9498c0838449fb4a6c846cad37222",
            "af0161549d1f42aa9ba82d7205860bf9",
            "5cd8e39d005d4674ae07bc11f2e5836f",
            "e8b01d51d0fb4273815ea5ebe1079a12",
            "97f879053fd64e5f90ab8e90d658118e",
            "8d4946b073fc4993aa97ffd60b8aaa93",
            "7e3262de4d904038870b2bb38370855f",
            "793973a3e8f34197a1838927d33e3074",
            "9a0dc1dcafd84524abab53828be82284",
            "1f5afb4d8ee0446a8ac21fb6a571a58c"
          ]
        }
      },
      "execution_count": 32,
      "outputs": [
        {
          "output_type": "stream",
          "name": "stderr",
          "text": [
            "https://huggingface.co/pdelobelle/robbert-v2-dutch-base/resolve/main/tokenizer_config.json not found in cache or force_download set to True, downloading to /root/.cache/huggingface/transformers/tmpub0xn_oh\n"
          ]
        },
        {
          "output_type": "display_data",
          "data": {
            "text/plain": [
              "Downloading tokenizer_config.json:   0%|          | 0.00/1.11k [00:00<?, ?B/s]"
            ],
            "application/vnd.jupyter.widget-view+json": {
              "version_major": 2,
              "version_minor": 0,
              "model_id": "4f0d61d2622548e28aff32381338248e"
            }
          },
          "metadata": {}
        },
        {
          "output_type": "stream",
          "name": "stderr",
          "text": [
            "storing https://huggingface.co/pdelobelle/robbert-v2-dutch-base/resolve/main/tokenizer_config.json in cache at /root/.cache/huggingface/transformers/0e574c682eea0c331bacb169b024661d2c630bcc95fb929dffaecbc6e3d5e83e.b25ac1f3bc538e061573df45561f46b234ba553cd567a9a487bf0c20e09447b5\n",
            "creating metadata file for /root/.cache/huggingface/transformers/0e574c682eea0c331bacb169b024661d2c630bcc95fb929dffaecbc6e3d5e83e.b25ac1f3bc538e061573df45561f46b234ba553cd567a9a487bf0c20e09447b5\n",
            "https://huggingface.co/pdelobelle/robbert-v2-dutch-base/resolve/main/config.json not found in cache or force_download set to True, downloading to /root/.cache/huggingface/transformers/tmp8x7tpi4n\n"
          ]
        },
        {
          "output_type": "display_data",
          "data": {
            "text/plain": [
              "Downloading config.json:   0%|          | 0.00/660 [00:00<?, ?B/s]"
            ],
            "application/vnd.jupyter.widget-view+json": {
              "version_major": 2,
              "version_minor": 0,
              "model_id": "026ac5dd7c1246b2b3aaf78812f0d24a"
            }
          },
          "metadata": {}
        },
        {
          "output_type": "stream",
          "name": "stderr",
          "text": [
            "storing https://huggingface.co/pdelobelle/robbert-v2-dutch-base/resolve/main/config.json in cache at /root/.cache/huggingface/transformers/4dc1751f7036aa151e84b548c6c2a90c679132d8e7b35c81a217140ca5409f6a.45b4090752cbcdfa3b06574023ad242f1b2c25a31c6390b81325b2f43ee506ca\n",
            "creating metadata file for /root/.cache/huggingface/transformers/4dc1751f7036aa151e84b548c6c2a90c679132d8e7b35c81a217140ca5409f6a.45b4090752cbcdfa3b06574023ad242f1b2c25a31c6390b81325b2f43ee506ca\n",
            "loading configuration file https://huggingface.co/pdelobelle/robbert-v2-dutch-base/resolve/main/config.json from cache at /root/.cache/huggingface/transformers/4dc1751f7036aa151e84b548c6c2a90c679132d8e7b35c81a217140ca5409f6a.45b4090752cbcdfa3b06574023ad242f1b2c25a31c6390b81325b2f43ee506ca\n",
            "Model config RobertaConfig {\n",
            "  \"_name_or_path\": \"pdelobelle/robbert-v2-dutch-base\",\n",
            "  \"architectures\": [\n",
            "    \"RobertaForMaskedLM\"\n",
            "  ],\n",
            "  \"attention_probs_dropout_prob\": 0.1,\n",
            "  \"bos_token_id\": 0,\n",
            "  \"classifier_dropout\": null,\n",
            "  \"eos_token_id\": 2,\n",
            "  \"gradient_checkpointing\": false,\n",
            "  \"hidden_act\": \"gelu\",\n",
            "  \"hidden_dropout_prob\": 0.1,\n",
            "  \"hidden_size\": 768,\n",
            "  \"initializer_range\": 0.02,\n",
            "  \"intermediate_size\": 3072,\n",
            "  \"layer_norm_eps\": 1e-05,\n",
            "  \"max_position_embeddings\": 514,\n",
            "  \"model_type\": \"roberta\",\n",
            "  \"num_attention_heads\": 12,\n",
            "  \"num_hidden_layers\": 12,\n",
            "  \"output_past\": true,\n",
            "  \"pad_token_id\": 1,\n",
            "  \"position_embedding_type\": \"absolute\",\n",
            "  \"transformers_version\": \"4.21.3\",\n",
            "  \"type_vocab_size\": 1,\n",
            "  \"use_cache\": true,\n",
            "  \"vocab_size\": 40000\n",
            "}\n",
            "\n",
            "https://huggingface.co/pdelobelle/robbert-v2-dutch-base/resolve/main/vocab.json not found in cache or force_download set to True, downloading to /root/.cache/huggingface/transformers/tmp1_a4n9uu\n"
          ]
        },
        {
          "output_type": "display_data",
          "data": {
            "text/plain": [
              "Downloading vocab.json:   0%|          | 0.00/715k [00:00<?, ?B/s]"
            ],
            "application/vnd.jupyter.widget-view+json": {
              "version_major": 2,
              "version_minor": 0,
              "model_id": "15395be943994311b574a44a719c70f8"
            }
          },
          "metadata": {}
        },
        {
          "output_type": "stream",
          "name": "stderr",
          "text": [
            "storing https://huggingface.co/pdelobelle/robbert-v2-dutch-base/resolve/main/vocab.json in cache at /root/.cache/huggingface/transformers/e338cb20bd645675d888a6469d1b7bfe472e69a5c93052006528c9ae4f856e44.43004df1e5c2251acdd15f077a74063dea7f0082e895ca8978bc6876d97c918b\n",
            "creating metadata file for /root/.cache/huggingface/transformers/e338cb20bd645675d888a6469d1b7bfe472e69a5c93052006528c9ae4f856e44.43004df1e5c2251acdd15f077a74063dea7f0082e895ca8978bc6876d97c918b\n",
            "https://huggingface.co/pdelobelle/robbert-v2-dutch-base/resolve/main/merges.txt not found in cache or force_download set to True, downloading to /root/.cache/huggingface/transformers/tmpvmw2ftzi\n"
          ]
        },
        {
          "output_type": "display_data",
          "data": {
            "text/plain": [
              "Downloading merges.txt:   0%|          | 0.00/374k [00:00<?, ?B/s]"
            ],
            "application/vnd.jupyter.widget-view+json": {
              "version_major": 2,
              "version_minor": 0,
              "model_id": "5cb7494ae0d24b3aaf8582db637e3692"
            }
          },
          "metadata": {}
        },
        {
          "output_type": "stream",
          "name": "stderr",
          "text": [
            "storing https://huggingface.co/pdelobelle/robbert-v2-dutch-base/resolve/main/merges.txt in cache at /root/.cache/huggingface/transformers/0cc0d13f8f47c5f67868f6ea3638b66b788e833af7323164ba7d3e1c92f49f42.15e46d82fe3fef52038bdadabeb8cca392378e0966fa780352e52eaa8301f2ba\n",
            "creating metadata file for /root/.cache/huggingface/transformers/0cc0d13f8f47c5f67868f6ea3638b66b788e833af7323164ba7d3e1c92f49f42.15e46d82fe3fef52038bdadabeb8cca392378e0966fa780352e52eaa8301f2ba\n",
            "https://huggingface.co/pdelobelle/robbert-v2-dutch-base/resolve/main/tokenizer.json not found in cache or force_download set to True, downloading to /root/.cache/huggingface/transformers/tmpfhus6a81\n"
          ]
        },
        {
          "output_type": "display_data",
          "data": {
            "text/plain": [
              "Downloading tokenizer.json:   0%|          | 0.00/1.06M [00:00<?, ?B/s]"
            ],
            "application/vnd.jupyter.widget-view+json": {
              "version_major": 2,
              "version_minor": 0,
              "model_id": "d785a33ffa3349f6ba3e4c61b035fa0b"
            }
          },
          "metadata": {}
        },
        {
          "output_type": "stream",
          "name": "stderr",
          "text": [
            "storing https://huggingface.co/pdelobelle/robbert-v2-dutch-base/resolve/main/tokenizer.json in cache at /root/.cache/huggingface/transformers/b6e14a9efbaeee4d226418b9813e16d677b2206c4ad6969330b1da533a498109.c5bc98517fe2880f158d4f5c671d9a2a25f0d14fbe5ccaeeee68c4d7c7b4dd75\n",
            "creating metadata file for /root/.cache/huggingface/transformers/b6e14a9efbaeee4d226418b9813e16d677b2206c4ad6969330b1da533a498109.c5bc98517fe2880f158d4f5c671d9a2a25f0d14fbe5ccaeeee68c4d7c7b4dd75\n",
            "https://huggingface.co/pdelobelle/robbert-v2-dutch-base/resolve/main/special_tokens_map.json not found in cache or force_download set to True, downloading to /root/.cache/huggingface/transformers/tmp571vqkz3\n"
          ]
        },
        {
          "output_type": "display_data",
          "data": {
            "text/plain": [
              "Downloading special_tokens_map.json:   0%|          | 0.00/239 [00:00<?, ?B/s]"
            ],
            "application/vnd.jupyter.widget-view+json": {
              "version_major": 2,
              "version_minor": 0,
              "model_id": "065baef6a1bc46a89a8fc7c07c545622"
            }
          },
          "metadata": {}
        },
        {
          "output_type": "stream",
          "name": "stderr",
          "text": [
            "storing https://huggingface.co/pdelobelle/robbert-v2-dutch-base/resolve/main/special_tokens_map.json in cache at /root/.cache/huggingface/transformers/fc901152bccc6123aa5ca59de0c36b6e68e0796b4d7875a0e4e9744aab712cd2.a11ebb04664c067c8fe5ef8f8068b0f721263414a26058692f7b2e4ba2a1b342\n",
            "creating metadata file for /root/.cache/huggingface/transformers/fc901152bccc6123aa5ca59de0c36b6e68e0796b4d7875a0e4e9744aab712cd2.a11ebb04664c067c8fe5ef8f8068b0f721263414a26058692f7b2e4ba2a1b342\n",
            "loading file https://huggingface.co/pdelobelle/robbert-v2-dutch-base/resolve/main/vocab.json from cache at /root/.cache/huggingface/transformers/e338cb20bd645675d888a6469d1b7bfe472e69a5c93052006528c9ae4f856e44.43004df1e5c2251acdd15f077a74063dea7f0082e895ca8978bc6876d97c918b\n",
            "loading file https://huggingface.co/pdelobelle/robbert-v2-dutch-base/resolve/main/merges.txt from cache at /root/.cache/huggingface/transformers/0cc0d13f8f47c5f67868f6ea3638b66b788e833af7323164ba7d3e1c92f49f42.15e46d82fe3fef52038bdadabeb8cca392378e0966fa780352e52eaa8301f2ba\n",
            "loading file https://huggingface.co/pdelobelle/robbert-v2-dutch-base/resolve/main/tokenizer.json from cache at /root/.cache/huggingface/transformers/b6e14a9efbaeee4d226418b9813e16d677b2206c4ad6969330b1da533a498109.c5bc98517fe2880f158d4f5c671d9a2a25f0d14fbe5ccaeeee68c4d7c7b4dd75\n",
            "loading file https://huggingface.co/pdelobelle/robbert-v2-dutch-base/resolve/main/added_tokens.json from cache at None\n",
            "loading file https://huggingface.co/pdelobelle/robbert-v2-dutch-base/resolve/main/special_tokens_map.json from cache at /root/.cache/huggingface/transformers/fc901152bccc6123aa5ca59de0c36b6e68e0796b4d7875a0e4e9744aab712cd2.a11ebb04664c067c8fe5ef8f8068b0f721263414a26058692f7b2e4ba2a1b342\n",
            "loading file https://huggingface.co/pdelobelle/robbert-v2-dutch-base/resolve/main/tokenizer_config.json from cache at /root/.cache/huggingface/transformers/0e574c682eea0c331bacb169b024661d2c630bcc95fb929dffaecbc6e3d5e83e.b25ac1f3bc538e061573df45561f46b234ba553cd567a9a487bf0c20e09447b5\n",
            "loading configuration file https://huggingface.co/pdelobelle/robbert-v2-dutch-base/resolve/main/config.json from cache at /root/.cache/huggingface/transformers/4dc1751f7036aa151e84b548c6c2a90c679132d8e7b35c81a217140ca5409f6a.45b4090752cbcdfa3b06574023ad242f1b2c25a31c6390b81325b2f43ee506ca\n",
            "Model config RobertaConfig {\n",
            "  \"_name_or_path\": \"pdelobelle/robbert-v2-dutch-base\",\n",
            "  \"architectures\": [\n",
            "    \"RobertaForMaskedLM\"\n",
            "  ],\n",
            "  \"attention_probs_dropout_prob\": 0.1,\n",
            "  \"bos_token_id\": 0,\n",
            "  \"classifier_dropout\": null,\n",
            "  \"eos_token_id\": 2,\n",
            "  \"gradient_checkpointing\": false,\n",
            "  \"hidden_act\": \"gelu\",\n",
            "  \"hidden_dropout_prob\": 0.1,\n",
            "  \"hidden_size\": 768,\n",
            "  \"initializer_range\": 0.02,\n",
            "  \"intermediate_size\": 3072,\n",
            "  \"layer_norm_eps\": 1e-05,\n",
            "  \"max_position_embeddings\": 514,\n",
            "  \"model_type\": \"roberta\",\n",
            "  \"num_attention_heads\": 12,\n",
            "  \"num_hidden_layers\": 12,\n",
            "  \"output_past\": true,\n",
            "  \"pad_token_id\": 1,\n",
            "  \"position_embedding_type\": \"absolute\",\n",
            "  \"transformers_version\": \"4.21.3\",\n",
            "  \"type_vocab_size\": 1,\n",
            "  \"use_cache\": true,\n",
            "  \"vocab_size\": 40000\n",
            "}\n",
            "\n",
            "loading configuration file https://huggingface.co/pdelobelle/robbert-v2-dutch-base/resolve/main/config.json from cache at /root/.cache/huggingface/transformers/4dc1751f7036aa151e84b548c6c2a90c679132d8e7b35c81a217140ca5409f6a.45b4090752cbcdfa3b06574023ad242f1b2c25a31c6390b81325b2f43ee506ca\n",
            "Model config RobertaConfig {\n",
            "  \"_name_or_path\": \"pdelobelle/robbert-v2-dutch-base\",\n",
            "  \"architectures\": [\n",
            "    \"RobertaForMaskedLM\"\n",
            "  ],\n",
            "  \"attention_probs_dropout_prob\": 0.1,\n",
            "  \"bos_token_id\": 0,\n",
            "  \"classifier_dropout\": null,\n",
            "  \"eos_token_id\": 2,\n",
            "  \"gradient_checkpointing\": false,\n",
            "  \"hidden_act\": \"gelu\",\n",
            "  \"hidden_dropout_prob\": 0.1,\n",
            "  \"hidden_size\": 768,\n",
            "  \"initializer_range\": 0.02,\n",
            "  \"intermediate_size\": 3072,\n",
            "  \"layer_norm_eps\": 1e-05,\n",
            "  \"max_position_embeddings\": 514,\n",
            "  \"model_type\": \"roberta\",\n",
            "  \"num_attention_heads\": 12,\n",
            "  \"num_hidden_layers\": 12,\n",
            "  \"output_past\": true,\n",
            "  \"pad_token_id\": 1,\n",
            "  \"position_embedding_type\": \"absolute\",\n",
            "  \"transformers_version\": \"4.21.3\",\n",
            "  \"type_vocab_size\": 1,\n",
            "  \"use_cache\": true,\n",
            "  \"vocab_size\": 40000\n",
            "}\n",
            "\n",
            "https://huggingface.co/pdelobelle/robbert-v2-dutch-base/resolve/main/pytorch_model.bin not found in cache or force_download set to True, downloading to /root/.cache/huggingface/transformers/tmp6jov5rqn\n"
          ]
        },
        {
          "output_type": "display_data",
          "data": {
            "text/plain": [
              "Downloading pytorch_model.bin:   0%|          | 0.00/446M [00:00<?, ?B/s]"
            ],
            "application/vnd.jupyter.widget-view+json": {
              "version_major": 2,
              "version_minor": 0,
              "model_id": "33f7f77ef63e40679c562fc755d6d298"
            }
          },
          "metadata": {}
        },
        {
          "output_type": "stream",
          "name": "stderr",
          "text": [
            "storing https://huggingface.co/pdelobelle/robbert-v2-dutch-base/resolve/main/pytorch_model.bin in cache at /root/.cache/huggingface/transformers/c31e6760edff047d1ad96282ce23dfbb34df6345d75aeba9f2582d850d4e15cd.b55a5e4d2c50b155b135f84a9defcbb2b34000d9341525f61e089a70170acb09\n",
            "creating metadata file for /root/.cache/huggingface/transformers/c31e6760edff047d1ad96282ce23dfbb34df6345d75aeba9f2582d850d4e15cd.b55a5e4d2c50b155b135f84a9defcbb2b34000d9341525f61e089a70170acb09\n",
            "loading weights file https://huggingface.co/pdelobelle/robbert-v2-dutch-base/resolve/main/pytorch_model.bin from cache at /root/.cache/huggingface/transformers/c31e6760edff047d1ad96282ce23dfbb34df6345d75aeba9f2582d850d4e15cd.b55a5e4d2c50b155b135f84a9defcbb2b34000d9341525f61e089a70170acb09\n",
            "All model checkpoint weights were used when initializing RobertaForMaskedLM.\n",
            "\n",
            "All the weights of RobertaForMaskedLM were initialized from the model checkpoint at pdelobelle/robbert-v2-dutch-base.\n",
            "If your task is similar to the task the model of the checkpoint was trained on, you can already use RobertaForMaskedLM for predictions without further training.\n"
          ]
        }
      ]
    },
    {
      "cell_type": "code",
      "source": [
        "from transformers import pipeline\n",
        "\n",
        "fill_mask = pipeline(\n",
        "    \"fill-mask\",\n",
        "    model = model,\n",
        "    tokenizer = tokenizer\n",
        ")"
      ],
      "metadata": {
        "id": "Anjbq8-lL7Dg"
      },
      "execution_count": 33,
      "outputs": []
    },
    {
      "cell_type": "code",
      "source": [
        "fill_mask(\"Hij doet zijn <mask> om goed te presteren.\")"
      ],
      "metadata": {
        "id": "AB8FGoiZMB5N",
        "outputId": "974781cf-120c-457d-813a-34f6cd9b29cf",
        "colab": {
          "base_uri": "https://localhost:8080/"
        }
      },
      "execution_count": 34,
      "outputs": [
        {
          "output_type": "execute_result",
          "data": {
            "text/plain": [
              "[{'score': 0.9428013563156128,\n",
              "  'token': 577,\n",
              "  'token_str': ' best',\n",
              "  'sequence': 'Hij doet zijn best om goed te presteren.'},\n",
              " {'score': 0.018668249249458313,\n",
              "  'token': 12387,\n",
              "  'token_str': ' plicht',\n",
              "  'sequence': 'Hij doet zijn plicht om goed te presteren.'},\n",
              " {'score': 0.01555696316063404,\n",
              "  'token': 190,\n",
              "  'token_str': ' werk',\n",
              "  'sequence': 'Hij doet zijn werk om goed te presteren.'},\n",
              " {'score': 0.0053873625583946705,\n",
              "  'token': 301,\n",
              "  'token_str': ' beste',\n",
              "  'sequence': 'Hij doet zijn beste om goed te presteren.'},\n",
              " {'score': 0.0014700808096677065,\n",
              "  'token': 8212,\n",
              "  'token_str': ' inspanning',\n",
              "  'sequence': 'Hij doet zijn inspanning om goed te presteren.'}]"
            ]
          },
          "metadata": {},
          "execution_count": 34
        }
      ]
    },
    {
      "cell_type": "markdown",
      "source": [
        "# Model finetuning\n",
        "\n",
        "## Load in data for sentiment analysis task\n",
        "\n",
        "### Download annotations"
      ],
      "metadata": {
        "id": "VNcdJMM8BlJ5"
      }
    },
    {
      "cell_type": "code",
      "source": [
        "import os\n",
        "if not os.path.isfile(\"sentiment.json\"): \n",
        "  !wget https://raw.githubusercontent.com/tijsg/lm-tutorial/main/sentiment.json"
      ],
      "metadata": {
        "id": "pzbjvID--cVm",
        "outputId": "8b942654-2a15-4d2f-ba22-23c092001d33",
        "colab": {
          "base_uri": "https://localhost:8080/"
        }
      },
      "execution_count": 35,
      "outputs": [
        {
          "output_type": "stream",
          "name": "stdout",
          "text": [
            "--2023-05-26 06:52:18--  https://raw.githubusercontent.com/tijsg/lm-tutorial/main/sentiment.json\n",
            "Resolving raw.githubusercontent.com (raw.githubusercontent.com)... 185.199.108.133, 185.199.109.133, 185.199.110.133, ...\n",
            "Connecting to raw.githubusercontent.com (raw.githubusercontent.com)|185.199.108.133|:443... connected.\n",
            "HTTP request sent, awaiting response... 200 OK\n",
            "Length: 371 [text/plain]\n",
            "Saving to: ‘sentiment.json’\n",
            "\n",
            "\rsentiment.json        0%[                    ]       0  --.-KB/s               \rsentiment.json      100%[===================>]     371  --.-KB/s    in 0s      \n",
            "\n",
            "2023-05-26 06:52:19 (21.3 MB/s) - ‘sentiment.json’ saved [371/371]\n",
            "\n"
          ]
        }
      ]
    },
    {
      "cell_type": "markdown",
      "source": [
        "### Load annotations"
      ],
      "metadata": {
        "id": "gIIeNdE8Bs9q"
      }
    },
    {
      "cell_type": "code",
      "source": [
        "from datasets import load_dataset\n",
        "ds_sentiment = load_dataset(\"json\", data_files=[\"sentiment.json\"], field=\"data\")"
      ],
      "metadata": {
        "colab": {
          "base_uri": "https://localhost:8080/",
          "height": 165,
          "referenced_widgets": [
            "623f6d558b014452b01ddcd0ffd18833",
            "70836ade33e645838e1f8ca88d32f678",
            "0fc57f0e4f744d6c9d309c443da76eaa",
            "7859fe2f66a5456ba4b2b0c54db8de8a",
            "d58b7d405c7f4a4595a4be6d3719481a",
            "77af6b21cea249ddaa46aac8116bb5e4",
            "6c337468ccfc4b85ad3ce12d5782151b",
            "eba350f16228492895a9d17c52762511",
            "b022858770af42d7992d6ce15c2c03ed",
            "7f603ca211e6415c993b107965c2a761",
            "c48c3a70f2b442ee9a6cb86e54c2aa56",
            "d00b439a75514a8597a53c06f6006f1c",
            "0effa23b3846488096f729a0c8683512",
            "47e42aec4e544e77b855518ab557073b",
            "a70aa0d131a441fdb66f71ad6e7a021c",
            "af19e2b1472148728b789a490bcdea7b",
            "767cc030804f4dd4bd3cca2d1e995965",
            "a742072f89f8407a9ed122b4877e1902",
            "92d8e5f3abf74132b2033a386bfbd91d",
            "fac9ee68f8584115a5edcbcb06ecb94e",
            "ca8dbab83cd84824a5732beba6039d04",
            "7015ee19254449d798307f44dfc3fb29",
            "962edb6845ff473ba5bca5325d197129",
            "ea4ac77b491242c2b61947aa4bfeb760",
            "c5e38bc19b9045c7baa267ada8c04963",
            "9668c77891014b37af64eae07439d540",
            "db53258cbdd343d483462ddf34808d7d",
            "33a5f76314ce40b589e46e805d8f7baa",
            "cfd560c041964dd0bac500bd839f32c6",
            "92b97288780445e0a27df3ce9a105d0c",
            "885ea59e3ca94a1ab6e6083902bd4f8a",
            "282a0214a789492baf1d0b9b4bef386c",
            "be495031c3aa424ca44f0329d48a3c1e",
            "e3fb497224054d7d9287cd889ba3704e",
            "1084111a823548c49052b7ddde16609c",
            "c11208ce178d4068b5a36540f3925c1a",
            "24d9f9ad91ea499a81166ee4d615bd27",
            "ff7dff83f3834c0a9b7ee7239780f395",
            "37fbd5819a004defadb690d727806f10",
            "f6421a1bda254b09ae5ee0973c79c839",
            "ba508e7fe37f4c6086d316caebe4b328",
            "ecf0df0ffe0d41959842c263c1f74e64",
            "9ffaf8f3091e40b0be079dda29d40a19",
            "6b584a3e7df34f299965a1d783989fa1"
          ]
        },
        "id": "ykc6WWsm-Pj8",
        "outputId": "619d41f5-b3f5-41f0-f33d-53c7b82d2c5f"
      },
      "execution_count": 36,
      "outputs": [
        {
          "output_type": "stream",
          "name": "stderr",
          "text": [
            "WARNING:datasets.builder:Using custom data configuration default-69730345ffaa1651\n"
          ]
        },
        {
          "output_type": "stream",
          "name": "stdout",
          "text": [
            "Downloading and preparing dataset json/default to /root/.cache/huggingface/datasets/json/default-69730345ffaa1651/0.0.0/a3e658c4731e59120d44081ac10bf85dc7e1388126b92338344ce9661907f253...\n"
          ]
        },
        {
          "output_type": "display_data",
          "data": {
            "text/plain": [
              "Downloading data files:   0%|          | 0/1 [00:00<?, ?it/s]"
            ],
            "application/vnd.jupyter.widget-view+json": {
              "version_major": 2,
              "version_minor": 0,
              "model_id": "623f6d558b014452b01ddcd0ffd18833"
            }
          },
          "metadata": {}
        },
        {
          "output_type": "display_data",
          "data": {
            "text/plain": [
              "Extracting data files:   0%|          | 0/1 [00:00<?, ?it/s]"
            ],
            "application/vnd.jupyter.widget-view+json": {
              "version_major": 2,
              "version_minor": 0,
              "model_id": "d00b439a75514a8597a53c06f6006f1c"
            }
          },
          "metadata": {}
        },
        {
          "output_type": "display_data",
          "data": {
            "text/plain": [
              "0 tables [00:00, ? tables/s]"
            ],
            "application/vnd.jupyter.widget-view+json": {
              "version_major": 2,
              "version_minor": 0,
              "model_id": "962edb6845ff473ba5bca5325d197129"
            }
          },
          "metadata": {}
        },
        {
          "output_type": "stream",
          "name": "stdout",
          "text": [
            "Dataset json downloaded and prepared to /root/.cache/huggingface/datasets/json/default-69730345ffaa1651/0.0.0/a3e658c4731e59120d44081ac10bf85dc7e1388126b92338344ce9661907f253. Subsequent calls will reuse this data.\n"
          ]
        },
        {
          "output_type": "display_data",
          "data": {
            "text/plain": [
              "  0%|          | 0/1 [00:00<?, ?it/s]"
            ],
            "application/vnd.jupyter.widget-view+json": {
              "version_major": 2,
              "version_minor": 0,
              "model_id": "e3fb497224054d7d9287cd889ba3704e"
            }
          },
          "metadata": {}
        }
      ]
    },
    {
      "cell_type": "markdown",
      "source": [
        "4 annotations in dataset"
      ],
      "metadata": {
        "id": "AgyjRBSRBub8"
      }
    },
    {
      "cell_type": "code",
      "source": [
        "ds_sentiment"
      ],
      "metadata": {
        "colab": {
          "base_uri": "https://localhost:8080/"
        },
        "id": "oUlagPtU_I0s",
        "outputId": "b9fa742f-b82b-47c8-d6b3-9361f7401d13"
      },
      "execution_count": 37,
      "outputs": [
        {
          "output_type": "execute_result",
          "data": {
            "text/plain": [
              "DatasetDict({\n",
              "    train: Dataset({\n",
              "        features: ['label', 'text'],\n",
              "        num_rows: 4\n",
              "    })\n",
              "})"
            ]
          },
          "metadata": {},
          "execution_count": 37
        }
      ]
    },
    {
      "cell_type": "code",
      "source": [
        "ds_sentiment = ds_sentiment[\"train\"]\n",
        "ds_sentiment = ds_sentiment.train_test_split(train_size=0.7)"
      ],
      "metadata": {
        "id": "yvk4LBV5CTqX"
      },
      "execution_count": 38,
      "outputs": []
    },
    {
      "cell_type": "code",
      "source": [
        "ds_sentiment"
      ],
      "metadata": {
        "colab": {
          "base_uri": "https://localhost:8080/"
        },
        "id": "cgW5zsaNCcoW",
        "outputId": "5e0ac64b-83d8-4092-9d83-7e42d1298565"
      },
      "execution_count": 39,
      "outputs": [
        {
          "output_type": "execute_result",
          "data": {
            "text/plain": [
              "DatasetDict({\n",
              "    train: Dataset({\n",
              "        features: ['label', 'text'],\n",
              "        num_rows: 2\n",
              "    })\n",
              "    test: Dataset({\n",
              "        features: ['label', 'text'],\n",
              "        num_rows: 2\n",
              "    })\n",
              "})"
            ]
          },
          "metadata": {},
          "execution_count": 39
        }
      ]
    },
    {
      "cell_type": "markdown",
      "source": [
        "#### Set up tokenizing/encoding"
      ],
      "metadata": {
        "id": "qVcwUAcIBwET"
      }
    },
    {
      "cell_type": "code",
      "source": [
        "def encode(batch):\n",
        "    return tokenizer(batch['text'], padding=\"max_length\", truncation=True, max_length=512)"
      ],
      "metadata": {
        "id": "g0h90qTRO6_8"
      },
      "execution_count": 40,
      "outputs": []
    },
    {
      "cell_type": "code",
      "source": [
        "ds_sentiment_train = ds_sentiment[\"train\"]\n",
        "ds_sentiment_train_enc = ds_sentiment_train.map(encode)\n",
        "ds_sentiment_test = ds_sentiment[\"test\"]\n",
        "ds_sentiment_test_enc = ds_sentiment_test.map(encode)"
      ],
      "metadata": {
        "colab": {
          "base_uri": "https://localhost:8080/",
          "height": 81,
          "referenced_widgets": [
            "df14754fa8c34f22bd8e5ebad6c0b33b",
            "2119d23091914776b06249efab51bfa9",
            "1ed80a984198464a9469b585201a2f4c",
            "cc4fa1b20e754b2bb9cd390359f70ebf",
            "a945abccf2604ffc8a5b343673821484",
            "27995479212f41208d9a0f2558ed3a04",
            "18be2ef4a11a4b8fb334b020169b0d21",
            "74cf5c9a258d4a6192d94d9464aaca01",
            "ca7a4d211ae746c6b09d62b82a9cf228",
            "88d6a42c48d34e56ae202dd05cdda021",
            "c9c23d1b51a645a2a969f6a773f76dab",
            "2821a4c984fd49159e8948043335b9e9",
            "294b971a5a194364813751ced792f852",
            "68ddcd71157043439fac572ac6bd169d",
            "7e7b8112ea4d4d22991aa5723ccff0ac",
            "955dc9c392824d319d263d81fc09d767",
            "9358244492cd404192f72afc4b45590a",
            "7593ec0225844c00ad6476bdd7ff7218",
            "81db653c45a641e5af86b838665dd44c",
            "3bd94b13751d485b8aa391543d15baf0",
            "03a5e31abc1144be94e834213b09ac28",
            "ea9dbe681bc74fe2a1a38d72c9443f0a"
          ]
        },
        "id": "yFTtePpT_Y4r",
        "outputId": "8e5fefc9-6263-414e-c5f1-9c84dd8d26a5"
      },
      "execution_count": 41,
      "outputs": [
        {
          "output_type": "display_data",
          "data": {
            "text/plain": [
              "  0%|          | 0/2 [00:00<?, ?ex/s]"
            ],
            "application/vnd.jupyter.widget-view+json": {
              "version_major": 2,
              "version_minor": 0,
              "model_id": "df14754fa8c34f22bd8e5ebad6c0b33b"
            }
          },
          "metadata": {}
        },
        {
          "output_type": "display_data",
          "data": {
            "text/plain": [
              "  0%|          | 0/2 [00:00<?, ?ex/s]"
            ],
            "application/vnd.jupyter.widget-view+json": {
              "version_major": 2,
              "version_minor": 0,
              "model_id": "2821a4c984fd49159e8948043335b9e9"
            }
          },
          "metadata": {}
        }
      ]
    },
    {
      "cell_type": "code",
      "source": [
        "ds_sentiment_train_enc"
      ],
      "metadata": {
        "id": "aMIUa-oQPAGw",
        "outputId": "cdec7a32-ee72-4531-836b-8521f8f8e039",
        "colab": {
          "base_uri": "https://localhost:8080/"
        }
      },
      "execution_count": 42,
      "outputs": [
        {
          "output_type": "execute_result",
          "data": {
            "text/plain": [
              "Dataset({\n",
              "    features: ['label', 'text', 'input_ids', 'attention_mask'],\n",
              "    num_rows: 2\n",
              "})"
            ]
          },
          "metadata": {},
          "execution_count": 42
        }
      ]
    },
    {
      "cell_type": "markdown",
      "source": [
        "### Load in base model, this time for classification instead of filling a mask\n",
        "\n",
        "There are two labels: 0 and 1 (negative and positive)"
      ],
      "metadata": {
        "id": "hzsuBK5UB2oQ"
      }
    },
    {
      "cell_type": "code",
      "source": [
        "from transformers import TrainingArguments, Trainer\n",
        "from transformers import AutoTokenizer, AutoModelForSequenceClassification\n",
        "\n",
        "tokenizer = AutoTokenizer.from_pretrained(\"pdelobelle/robbert-v2-dutch-base\")\n",
        "model = AutoModelForSequenceClassification.from_pretrained(\"pdelobelle/robbert-v2-dutch-base\", num_labels=2)"
      ],
      "metadata": {
        "colab": {
          "base_uri": "https://localhost:8080/"
        },
        "id": "SNW-kNRg_mkY",
        "outputId": "98a27864-6299-47b7-dabf-cd7bdd36b3d1"
      },
      "execution_count": 43,
      "outputs": [
        {
          "output_type": "stream",
          "name": "stderr",
          "text": [
            "loading configuration file https://huggingface.co/pdelobelle/robbert-v2-dutch-base/resolve/main/config.json from cache at /root/.cache/huggingface/transformers/4dc1751f7036aa151e84b548c6c2a90c679132d8e7b35c81a217140ca5409f6a.45b4090752cbcdfa3b06574023ad242f1b2c25a31c6390b81325b2f43ee506ca\n",
            "Model config RobertaConfig {\n",
            "  \"_name_or_path\": \"pdelobelle/robbert-v2-dutch-base\",\n",
            "  \"architectures\": [\n",
            "    \"RobertaForMaskedLM\"\n",
            "  ],\n",
            "  \"attention_probs_dropout_prob\": 0.1,\n",
            "  \"bos_token_id\": 0,\n",
            "  \"classifier_dropout\": null,\n",
            "  \"eos_token_id\": 2,\n",
            "  \"gradient_checkpointing\": false,\n",
            "  \"hidden_act\": \"gelu\",\n",
            "  \"hidden_dropout_prob\": 0.1,\n",
            "  \"hidden_size\": 768,\n",
            "  \"initializer_range\": 0.02,\n",
            "  \"intermediate_size\": 3072,\n",
            "  \"layer_norm_eps\": 1e-05,\n",
            "  \"max_position_embeddings\": 514,\n",
            "  \"model_type\": \"roberta\",\n",
            "  \"num_attention_heads\": 12,\n",
            "  \"num_hidden_layers\": 12,\n",
            "  \"output_past\": true,\n",
            "  \"pad_token_id\": 1,\n",
            "  \"position_embedding_type\": \"absolute\",\n",
            "  \"transformers_version\": \"4.21.3\",\n",
            "  \"type_vocab_size\": 1,\n",
            "  \"use_cache\": true,\n",
            "  \"vocab_size\": 40000\n",
            "}\n",
            "\n",
            "loading file https://huggingface.co/pdelobelle/robbert-v2-dutch-base/resolve/main/vocab.json from cache at /root/.cache/huggingface/transformers/e338cb20bd645675d888a6469d1b7bfe472e69a5c93052006528c9ae4f856e44.43004df1e5c2251acdd15f077a74063dea7f0082e895ca8978bc6876d97c918b\n",
            "loading file https://huggingface.co/pdelobelle/robbert-v2-dutch-base/resolve/main/merges.txt from cache at /root/.cache/huggingface/transformers/0cc0d13f8f47c5f67868f6ea3638b66b788e833af7323164ba7d3e1c92f49f42.15e46d82fe3fef52038bdadabeb8cca392378e0966fa780352e52eaa8301f2ba\n",
            "loading file https://huggingface.co/pdelobelle/robbert-v2-dutch-base/resolve/main/tokenizer.json from cache at /root/.cache/huggingface/transformers/b6e14a9efbaeee4d226418b9813e16d677b2206c4ad6969330b1da533a498109.c5bc98517fe2880f158d4f5c671d9a2a25f0d14fbe5ccaeeee68c4d7c7b4dd75\n",
            "loading file https://huggingface.co/pdelobelle/robbert-v2-dutch-base/resolve/main/added_tokens.json from cache at None\n",
            "loading file https://huggingface.co/pdelobelle/robbert-v2-dutch-base/resolve/main/special_tokens_map.json from cache at /root/.cache/huggingface/transformers/fc901152bccc6123aa5ca59de0c36b6e68e0796b4d7875a0e4e9744aab712cd2.a11ebb04664c067c8fe5ef8f8068b0f721263414a26058692f7b2e4ba2a1b342\n",
            "loading file https://huggingface.co/pdelobelle/robbert-v2-dutch-base/resolve/main/tokenizer_config.json from cache at /root/.cache/huggingface/transformers/0e574c682eea0c331bacb169b024661d2c630bcc95fb929dffaecbc6e3d5e83e.b25ac1f3bc538e061573df45561f46b234ba553cd567a9a487bf0c20e09447b5\n",
            "loading configuration file https://huggingface.co/pdelobelle/robbert-v2-dutch-base/resolve/main/config.json from cache at /root/.cache/huggingface/transformers/4dc1751f7036aa151e84b548c6c2a90c679132d8e7b35c81a217140ca5409f6a.45b4090752cbcdfa3b06574023ad242f1b2c25a31c6390b81325b2f43ee506ca\n",
            "Model config RobertaConfig {\n",
            "  \"_name_or_path\": \"pdelobelle/robbert-v2-dutch-base\",\n",
            "  \"architectures\": [\n",
            "    \"RobertaForMaskedLM\"\n",
            "  ],\n",
            "  \"attention_probs_dropout_prob\": 0.1,\n",
            "  \"bos_token_id\": 0,\n",
            "  \"classifier_dropout\": null,\n",
            "  \"eos_token_id\": 2,\n",
            "  \"gradient_checkpointing\": false,\n",
            "  \"hidden_act\": \"gelu\",\n",
            "  \"hidden_dropout_prob\": 0.1,\n",
            "  \"hidden_size\": 768,\n",
            "  \"initializer_range\": 0.02,\n",
            "  \"intermediate_size\": 3072,\n",
            "  \"layer_norm_eps\": 1e-05,\n",
            "  \"max_position_embeddings\": 514,\n",
            "  \"model_type\": \"roberta\",\n",
            "  \"num_attention_heads\": 12,\n",
            "  \"num_hidden_layers\": 12,\n",
            "  \"output_past\": true,\n",
            "  \"pad_token_id\": 1,\n",
            "  \"position_embedding_type\": \"absolute\",\n",
            "  \"transformers_version\": \"4.21.3\",\n",
            "  \"type_vocab_size\": 1,\n",
            "  \"use_cache\": true,\n",
            "  \"vocab_size\": 40000\n",
            "}\n",
            "\n",
            "loading configuration file https://huggingface.co/pdelobelle/robbert-v2-dutch-base/resolve/main/config.json from cache at /root/.cache/huggingface/transformers/4dc1751f7036aa151e84b548c6c2a90c679132d8e7b35c81a217140ca5409f6a.45b4090752cbcdfa3b06574023ad242f1b2c25a31c6390b81325b2f43ee506ca\n",
            "Model config RobertaConfig {\n",
            "  \"_name_or_path\": \"pdelobelle/robbert-v2-dutch-base\",\n",
            "  \"architectures\": [\n",
            "    \"RobertaForMaskedLM\"\n",
            "  ],\n",
            "  \"attention_probs_dropout_prob\": 0.1,\n",
            "  \"bos_token_id\": 0,\n",
            "  \"classifier_dropout\": null,\n",
            "  \"eos_token_id\": 2,\n",
            "  \"gradient_checkpointing\": false,\n",
            "  \"hidden_act\": \"gelu\",\n",
            "  \"hidden_dropout_prob\": 0.1,\n",
            "  \"hidden_size\": 768,\n",
            "  \"initializer_range\": 0.02,\n",
            "  \"intermediate_size\": 3072,\n",
            "  \"layer_norm_eps\": 1e-05,\n",
            "  \"max_position_embeddings\": 514,\n",
            "  \"model_type\": \"roberta\",\n",
            "  \"num_attention_heads\": 12,\n",
            "  \"num_hidden_layers\": 12,\n",
            "  \"output_past\": true,\n",
            "  \"pad_token_id\": 1,\n",
            "  \"position_embedding_type\": \"absolute\",\n",
            "  \"transformers_version\": \"4.21.3\",\n",
            "  \"type_vocab_size\": 1,\n",
            "  \"use_cache\": true,\n",
            "  \"vocab_size\": 40000\n",
            "}\n",
            "\n",
            "loading weights file https://huggingface.co/pdelobelle/robbert-v2-dutch-base/resolve/main/pytorch_model.bin from cache at /root/.cache/huggingface/transformers/c31e6760edff047d1ad96282ce23dfbb34df6345d75aeba9f2582d850d4e15cd.b55a5e4d2c50b155b135f84a9defcbb2b34000d9341525f61e089a70170acb09\n",
            "Some weights of the model checkpoint at pdelobelle/robbert-v2-dutch-base were not used when initializing RobertaForSequenceClassification: ['lm_head.dense.bias', 'lm_head.layer_norm.weight', 'lm_head.dense.weight', 'lm_head.bias', 'lm_head.decoder.bias', 'lm_head.decoder.weight', 'lm_head.layer_norm.bias']\n",
            "- This IS expected if you are initializing RobertaForSequenceClassification from the checkpoint of a model trained on another task or with another architecture (e.g. initializing a BertForSequenceClassification model from a BertForPreTraining model).\n",
            "- This IS NOT expected if you are initializing RobertaForSequenceClassification from the checkpoint of a model that you expect to be exactly identical (initializing a BertForSequenceClassification model from a BertForSequenceClassification model).\n",
            "Some weights of RobertaForSequenceClassification were not initialized from the model checkpoint at pdelobelle/robbert-v2-dutch-base and are newly initialized: ['classifier.out_proj.weight', 'classifier.dense.bias', 'classifier.dense.weight', 'classifier.out_proj.bias']\n",
            "You should probably TRAIN this model on a down-stream task to be able to use it for predictions and inference.\n"
          ]
        }
      ]
    },
    {
      "cell_type": "code",
      "source": [
        "from transformers import DataCollatorWithPadding\n",
        "data_collator = DataCollatorWithPadding(tokenizer=tokenizer)"
      ],
      "metadata": {
        "id": "buw17etZRgYn"
      },
      "execution_count": 44,
      "outputs": []
    },
    {
      "cell_type": "code",
      "source": [
        "if not os.path.exists(\"models\"): os.mkdir(\"models\")\n",
        "if not os.path.exists(\"models/sentiment_analysis\"): os.mkdir(\"models/sentiment_analysis\")\n",
        "\n",
        "training_args = TrainingArguments(\n",
        "    output_dir=\"models/sentiment_analysis\",\n",
        "    learning_rate=1e-5,\n",
        "    evaluation_strategy=\"steps\",\n",
        "    per_device_train_batch_size=16,\n",
        "    per_device_eval_batch_size=16,\n",
        "    num_train_epochs=2,\n",
        "    weight_decay=0.01,\n",
        "    save_steps=200,\n",
        "    eval_steps=500,\n",
        "    save_total_limit=3,\n",
        "    report_to=None,\n",
        "    # fp16=True\n",
        ")\n",
        "\n",
        "trainer = Trainer(\n",
        "    model=model,\n",
        "    args=training_args,\n",
        "    train_dataset=ds_sentiment_train_enc,\n",
        "    eval_dataset=ds_sentiment_test_enc,\n",
        "    tokenizer=tokenizer,\n",
        "    data_collator=data_collator,\n",
        ")"
      ],
      "metadata": {
        "colab": {
          "base_uri": "https://localhost:8080/"
        },
        "id": "YPdDGRLqCKzN",
        "outputId": "1a36dada-a67e-4871-90af-1c0a838efe60"
      },
      "execution_count": 45,
      "outputs": [
        {
          "output_type": "stream",
          "name": "stderr",
          "text": [
            "PyTorch: setting up devices\n",
            "The default value for the training argument `--report_to` will change in v5 (from all installed integrations to none). In v5, you will need to use `--report_to all` to get the same behavior as now. You should start updating your code and make this info disappear :-).\n"
          ]
        }
      ]
    },
    {
      "cell_type": "code",
      "source": [
        "trainer.train()\n",
        "trainer.save_model('models/sentiment_analysis')"
      ],
      "metadata": {
        "id": "QSrOPl4XDf43"
      },
      "execution_count": null,
      "outputs": []
    }
  ]
}