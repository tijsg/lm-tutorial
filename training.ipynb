{
  "nbformat": 4,
  "nbformat_minor": 0,
  "metadata": {
    "colab": {
      "provenance": [],
      "gpuType": "T4",
      "authorship_tag": "ABX9TyM36FGPaziM2IKYo7coBhbW"
    },
    "kernelspec": {
      "name": "python3",
      "display_name": "Python 3"
    },
    "language_info": {
      "name": "python"
    },
    "accelerator": "GPU",
    "gpuClass": "standard",
    "widgets": {
      "application/vnd.jupyter.widget-state+json": {
        "68178d6438ef4b16a5f551c4abe81a54": {
          "model_module": "@jupyter-widgets/controls",
          "model_name": "HBoxModel",
          "model_module_version": "1.5.0",
          "state": {
            "_dom_classes": [],
            "_model_module": "@jupyter-widgets/controls",
            "_model_module_version": "1.5.0",
            "_model_name": "HBoxModel",
            "_view_count": null,
            "_view_module": "@jupyter-widgets/controls",
            "_view_module_version": "1.5.0",
            "_view_name": "HBoxView",
            "box_style": "",
            "children": [
              "IPY_MODEL_8ea19059c1774991b3b826af013e349f",
              "IPY_MODEL_f66616c67b7e4c9f908e2d657382d5f3",
              "IPY_MODEL_516f764aea1a477c8414641c72980dbe"
            ],
            "layout": "IPY_MODEL_ac4ce3fe19f548a8b1c7234aede8cdd0"
          }
        },
        "8ea19059c1774991b3b826af013e349f": {
          "model_module": "@jupyter-widgets/controls",
          "model_name": "HTMLModel",
          "model_module_version": "1.5.0",
          "state": {
            "_dom_classes": [],
            "_model_module": "@jupyter-widgets/controls",
            "_model_module_version": "1.5.0",
            "_model_name": "HTMLModel",
            "_view_count": null,
            "_view_module": "@jupyter-widgets/controls",
            "_view_module_version": "1.5.0",
            "_view_name": "HTMLView",
            "description": "",
            "description_tooltip": null,
            "layout": "IPY_MODEL_6b733a17528845d6869ee6fbbd34dbac",
            "placeholder": "​",
            "style": "IPY_MODEL_37ae6f7e2f6a4c52955f8160bd30e852",
            "value": "100%"
          }
        },
        "f66616c67b7e4c9f908e2d657382d5f3": {
          "model_module": "@jupyter-widgets/controls",
          "model_name": "FloatProgressModel",
          "model_module_version": "1.5.0",
          "state": {
            "_dom_classes": [],
            "_model_module": "@jupyter-widgets/controls",
            "_model_module_version": "1.5.0",
            "_model_name": "FloatProgressModel",
            "_view_count": null,
            "_view_module": "@jupyter-widgets/controls",
            "_view_module_version": "1.5.0",
            "_view_name": "ProgressView",
            "bar_style": "success",
            "description": "",
            "description_tooltip": null,
            "layout": "IPY_MODEL_543508a3a2e94c819b3f13ef6480813d",
            "max": 1,
            "min": 0,
            "orientation": "horizontal",
            "style": "IPY_MODEL_35a7e37bfd8f4e79a522ecb4b400286a",
            "value": 1
          }
        },
        "516f764aea1a477c8414641c72980dbe": {
          "model_module": "@jupyter-widgets/controls",
          "model_name": "HTMLModel",
          "model_module_version": "1.5.0",
          "state": {
            "_dom_classes": [],
            "_model_module": "@jupyter-widgets/controls",
            "_model_module_version": "1.5.0",
            "_model_name": "HTMLModel",
            "_view_count": null,
            "_view_module": "@jupyter-widgets/controls",
            "_view_module_version": "1.5.0",
            "_view_name": "HTMLView",
            "description": "",
            "description_tooltip": null,
            "layout": "IPY_MODEL_5e2eeeed2b4f40e3a7997fb9d6874a15",
            "placeholder": "​",
            "style": "IPY_MODEL_119853cc3fa14efb9ed791577c8f521c",
            "value": " 1/1 [00:00&lt;00:00, 54.86it/s]"
          }
        },
        "ac4ce3fe19f548a8b1c7234aede8cdd0": {
          "model_module": "@jupyter-widgets/base",
          "model_name": "LayoutModel",
          "model_module_version": "1.2.0",
          "state": {
            "_model_module": "@jupyter-widgets/base",
            "_model_module_version": "1.2.0",
            "_model_name": "LayoutModel",
            "_view_count": null,
            "_view_module": "@jupyter-widgets/base",
            "_view_module_version": "1.2.0",
            "_view_name": "LayoutView",
            "align_content": null,
            "align_items": null,
            "align_self": null,
            "border": null,
            "bottom": null,
            "display": null,
            "flex": null,
            "flex_flow": null,
            "grid_area": null,
            "grid_auto_columns": null,
            "grid_auto_flow": null,
            "grid_auto_rows": null,
            "grid_column": null,
            "grid_gap": null,
            "grid_row": null,
            "grid_template_areas": null,
            "grid_template_columns": null,
            "grid_template_rows": null,
            "height": null,
            "justify_content": null,
            "justify_items": null,
            "left": null,
            "margin": null,
            "max_height": null,
            "max_width": null,
            "min_height": null,
            "min_width": null,
            "object_fit": null,
            "object_position": null,
            "order": null,
            "overflow": null,
            "overflow_x": null,
            "overflow_y": null,
            "padding": null,
            "right": null,
            "top": null,
            "visibility": null,
            "width": null
          }
        },
        "6b733a17528845d6869ee6fbbd34dbac": {
          "model_module": "@jupyter-widgets/base",
          "model_name": "LayoutModel",
          "model_module_version": "1.2.0",
          "state": {
            "_model_module": "@jupyter-widgets/base",
            "_model_module_version": "1.2.0",
            "_model_name": "LayoutModel",
            "_view_count": null,
            "_view_module": "@jupyter-widgets/base",
            "_view_module_version": "1.2.0",
            "_view_name": "LayoutView",
            "align_content": null,
            "align_items": null,
            "align_self": null,
            "border": null,
            "bottom": null,
            "display": null,
            "flex": null,
            "flex_flow": null,
            "grid_area": null,
            "grid_auto_columns": null,
            "grid_auto_flow": null,
            "grid_auto_rows": null,
            "grid_column": null,
            "grid_gap": null,
            "grid_row": null,
            "grid_template_areas": null,
            "grid_template_columns": null,
            "grid_template_rows": null,
            "height": null,
            "justify_content": null,
            "justify_items": null,
            "left": null,
            "margin": null,
            "max_height": null,
            "max_width": null,
            "min_height": null,
            "min_width": null,
            "object_fit": null,
            "object_position": null,
            "order": null,
            "overflow": null,
            "overflow_x": null,
            "overflow_y": null,
            "padding": null,
            "right": null,
            "top": null,
            "visibility": null,
            "width": null
          }
        },
        "37ae6f7e2f6a4c52955f8160bd30e852": {
          "model_module": "@jupyter-widgets/controls",
          "model_name": "DescriptionStyleModel",
          "model_module_version": "1.5.0",
          "state": {
            "_model_module": "@jupyter-widgets/controls",
            "_model_module_version": "1.5.0",
            "_model_name": "DescriptionStyleModel",
            "_view_count": null,
            "_view_module": "@jupyter-widgets/base",
            "_view_module_version": "1.2.0",
            "_view_name": "StyleView",
            "description_width": ""
          }
        },
        "543508a3a2e94c819b3f13ef6480813d": {
          "model_module": "@jupyter-widgets/base",
          "model_name": "LayoutModel",
          "model_module_version": "1.2.0",
          "state": {
            "_model_module": "@jupyter-widgets/base",
            "_model_module_version": "1.2.0",
            "_model_name": "LayoutModel",
            "_view_count": null,
            "_view_module": "@jupyter-widgets/base",
            "_view_module_version": "1.2.0",
            "_view_name": "LayoutView",
            "align_content": null,
            "align_items": null,
            "align_self": null,
            "border": null,
            "bottom": null,
            "display": null,
            "flex": null,
            "flex_flow": null,
            "grid_area": null,
            "grid_auto_columns": null,
            "grid_auto_flow": null,
            "grid_auto_rows": null,
            "grid_column": null,
            "grid_gap": null,
            "grid_row": null,
            "grid_template_areas": null,
            "grid_template_columns": null,
            "grid_template_rows": null,
            "height": null,
            "justify_content": null,
            "justify_items": null,
            "left": null,
            "margin": null,
            "max_height": null,
            "max_width": null,
            "min_height": null,
            "min_width": null,
            "object_fit": null,
            "object_position": null,
            "order": null,
            "overflow": null,
            "overflow_x": null,
            "overflow_y": null,
            "padding": null,
            "right": null,
            "top": null,
            "visibility": null,
            "width": null
          }
        },
        "35a7e37bfd8f4e79a522ecb4b400286a": {
          "model_module": "@jupyter-widgets/controls",
          "model_name": "ProgressStyleModel",
          "model_module_version": "1.5.0",
          "state": {
            "_model_module": "@jupyter-widgets/controls",
            "_model_module_version": "1.5.0",
            "_model_name": "ProgressStyleModel",
            "_view_count": null,
            "_view_module": "@jupyter-widgets/base",
            "_view_module_version": "1.2.0",
            "_view_name": "StyleView",
            "bar_color": null,
            "description_width": ""
          }
        },
        "5e2eeeed2b4f40e3a7997fb9d6874a15": {
          "model_module": "@jupyter-widgets/base",
          "model_name": "LayoutModel",
          "model_module_version": "1.2.0",
          "state": {
            "_model_module": "@jupyter-widgets/base",
            "_model_module_version": "1.2.0",
            "_model_name": "LayoutModel",
            "_view_count": null,
            "_view_module": "@jupyter-widgets/base",
            "_view_module_version": "1.2.0",
            "_view_name": "LayoutView",
            "align_content": null,
            "align_items": null,
            "align_self": null,
            "border": null,
            "bottom": null,
            "display": null,
            "flex": null,
            "flex_flow": null,
            "grid_area": null,
            "grid_auto_columns": null,
            "grid_auto_flow": null,
            "grid_auto_rows": null,
            "grid_column": null,
            "grid_gap": null,
            "grid_row": null,
            "grid_template_areas": null,
            "grid_template_columns": null,
            "grid_template_rows": null,
            "height": null,
            "justify_content": null,
            "justify_items": null,
            "left": null,
            "margin": null,
            "max_height": null,
            "max_width": null,
            "min_height": null,
            "min_width": null,
            "object_fit": null,
            "object_position": null,
            "order": null,
            "overflow": null,
            "overflow_x": null,
            "overflow_y": null,
            "padding": null,
            "right": null,
            "top": null,
            "visibility": null,
            "width": null
          }
        },
        "119853cc3fa14efb9ed791577c8f521c": {
          "model_module": "@jupyter-widgets/controls",
          "model_name": "DescriptionStyleModel",
          "model_module_version": "1.5.0",
          "state": {
            "_model_module": "@jupyter-widgets/controls",
            "_model_module_version": "1.5.0",
            "_model_name": "DescriptionStyleModel",
            "_view_count": null,
            "_view_module": "@jupyter-widgets/base",
            "_view_module_version": "1.2.0",
            "_view_name": "StyleView",
            "description_width": ""
          }
        }
      }
    }
  },
  "cells": [
    {
      "cell_type": "markdown",
      "source": [
        "# How do we make software understand language?"
      ],
      "metadata": {
        "id": "TaUV6-_b_Psu"
      }
    },
    {
      "cell_type": "code",
      "source": [
        "import os"
      ],
      "metadata": {
        "id": "yT_QflDX0gZc"
      },
      "execution_count": 1,
      "outputs": []
    },
    {
      "cell_type": "code",
      "source": [
        "if not os.path.isfile(\"dutch.csv\"): \n",
        "  !wget https://raw.githubusercontent.com/tijsg/lm-tutorial/main/dutch.csv"
      ],
      "metadata": {
        "id": "bXvGKFj7oMF8"
      },
      "execution_count": 2,
      "outputs": []
    },
    {
      "cell_type": "markdown",
      "source": [
        "# New section"
      ],
      "metadata": {
        "id": "TNSJUcRnoPz2"
      }
    },
    {
      "cell_type": "markdown",
      "source": [
        "## Analogy with language tests\n",
        "Fill in the missing word"
      ],
      "metadata": {
        "id": "mbIHuMB9_ade"
      }
    },
    {
      "cell_type": "markdown",
      "source": [
        "## Encoding\n",
        "Every string is already encoded character per character"
      ],
      "metadata": {
        "id": "CziGKAEV_ViM"
      }
    },
    {
      "cell_type": "code",
      "source": [
        "for char in (\"abcdefghijklmnopqrstuvwxyz\"):\n",
        "  print(\"UTF-8 code for char \" + char + \" is: \" + str(ord(char)))"
      ],
      "metadata": {
        "colab": {
          "base_uri": "https://localhost:8080/"
        },
        "id": "GWt4GO0l-0wN",
        "outputId": "b08b6020-d979-4861-953c-a05522cead27"
      },
      "execution_count": 3,
      "outputs": [
        {
          "output_type": "stream",
          "name": "stdout",
          "text": [
            "UTF-8 code for char a is: 97\n",
            "UTF-8 code for char b is: 98\n",
            "UTF-8 code for char c is: 99\n",
            "UTF-8 code for char d is: 100\n",
            "UTF-8 code for char e is: 101\n",
            "UTF-8 code for char f is: 102\n",
            "UTF-8 code for char g is: 103\n",
            "UTF-8 code for char h is: 104\n",
            "UTF-8 code for char i is: 105\n",
            "UTF-8 code for char j is: 106\n",
            "UTF-8 code for char k is: 107\n",
            "UTF-8 code for char l is: 108\n",
            "UTF-8 code for char m is: 109\n",
            "UTF-8 code for char n is: 110\n",
            "UTF-8 code for char o is: 111\n",
            "UTF-8 code for char p is: 112\n",
            "UTF-8 code for char q is: 113\n",
            "UTF-8 code for char r is: 114\n",
            "UTF-8 code for char s is: 115\n",
            "UTF-8 code for char t is: 116\n",
            "UTF-8 code for char u is: 117\n",
            "UTF-8 code for char v is: 118\n",
            "UTF-8 code for char w is: 119\n",
            "UTF-8 code for char x is: 120\n",
            "UTF-8 code for char y is: 121\n",
            "UTF-8 code for char z is: 122\n"
          ]
        }
      ]
    },
    {
      "cell_type": "markdown",
      "source": [
        "## Install dependencies"
      ],
      "metadata": {
        "id": "mO9zLviL8faF"
      }
    },
    {
      "cell_type": "code",
      "execution_count": 1,
      "metadata": {
        "colab": {
          "base_uri": "https://localhost:8080/"
        },
        "id": "QBWFbYZmzoVa",
        "outputId": "6eac2e2e-275e-40d6-d6e4-596b39aed69e"
      },
      "outputs": [
        {
          "output_type": "stream",
          "name": "stdout",
          "text": [
            "Looking in indexes: https://pypi.org/simple, https://us-python.pkg.dev/colab-wheels/public/simple/\n",
            "Requirement already satisfied: tokenizers==0.12.1 in /usr/local/lib/python3.10/dist-packages (0.12.1)\n",
            "Requirement already satisfied: transformers==4.21.3 in /usr/local/lib/python3.10/dist-packages (4.21.3)\n",
            "Requirement already satisfied: pandas==1.4.4 in /usr/local/lib/python3.10/dist-packages (1.4.4)\n",
            "Requirement already satisfied: datasets==2.4.0 in /usr/local/lib/python3.10/dist-packages (2.4.0)\n",
            "Requirement already satisfied: tensorflow==2.12 in /usr/local/lib/python3.10/dist-packages (2.12.0)\n",
            "Requirement already satisfied: filelock in /usr/local/lib/python3.10/dist-packages (from transformers==4.21.3) (3.12.0)\n",
            "Requirement already satisfied: huggingface-hub<1.0,>=0.1.0 in /usr/local/lib/python3.10/dist-packages (from transformers==4.21.3) (0.14.1)\n",
            "Requirement already satisfied: numpy>=1.17 in /usr/local/lib/python3.10/dist-packages (from transformers==4.21.3) (1.22.4)\n",
            "Requirement already satisfied: packaging>=20.0 in /usr/local/lib/python3.10/dist-packages (from transformers==4.21.3) (23.1)\n",
            "Requirement already satisfied: pyyaml>=5.1 in /usr/local/lib/python3.10/dist-packages (from transformers==4.21.3) (6.0)\n",
            "Requirement already satisfied: regex!=2019.12.17 in /usr/local/lib/python3.10/dist-packages (from transformers==4.21.3) (2022.10.31)\n",
            "Requirement already satisfied: requests in /usr/local/lib/python3.10/dist-packages (from transformers==4.21.3) (2.27.1)\n",
            "Requirement already satisfied: tqdm>=4.27 in /usr/local/lib/python3.10/dist-packages (from transformers==4.21.3) (4.65.0)\n",
            "Requirement already satisfied: python-dateutil>=2.8.1 in /usr/local/lib/python3.10/dist-packages (from pandas==1.4.4) (2.8.2)\n",
            "Requirement already satisfied: pytz>=2020.1 in /usr/local/lib/python3.10/dist-packages (from pandas==1.4.4) (2022.7.1)\n",
            "Requirement already satisfied: pyarrow>=6.0.0 in /usr/local/lib/python3.10/dist-packages (from datasets==2.4.0) (9.0.0)\n",
            "Requirement already satisfied: dill<0.3.6 in /usr/local/lib/python3.10/dist-packages (from datasets==2.4.0) (0.3.5.1)\n",
            "Requirement already satisfied: xxhash in /usr/local/lib/python3.10/dist-packages (from datasets==2.4.0) (3.2.0)\n",
            "Requirement already satisfied: multiprocess in /usr/local/lib/python3.10/dist-packages (from datasets==2.4.0) (0.70.13)\n",
            "Requirement already satisfied: fsspec[http]>=2021.11.1 in /usr/local/lib/python3.10/dist-packages (from datasets==2.4.0) (2023.4.0)\n",
            "Requirement already satisfied: aiohttp in /usr/local/lib/python3.10/dist-packages (from datasets==2.4.0) (3.8.4)\n",
            "Requirement already satisfied: responses<0.19 in /usr/local/lib/python3.10/dist-packages (from datasets==2.4.0) (0.18.0)\n",
            "Requirement already satisfied: absl-py>=1.0.0 in /usr/local/lib/python3.10/dist-packages (from tensorflow==2.12) (1.4.0)\n",
            "Requirement already satisfied: astunparse>=1.6.0 in /usr/local/lib/python3.10/dist-packages (from tensorflow==2.12) (1.6.3)\n",
            "Requirement already satisfied: flatbuffers>=2.0 in /usr/local/lib/python3.10/dist-packages (from tensorflow==2.12) (23.3.3)\n",
            "Requirement already satisfied: gast<=0.4.0,>=0.2.1 in /usr/local/lib/python3.10/dist-packages (from tensorflow==2.12) (0.4.0)\n",
            "Requirement already satisfied: google-pasta>=0.1.1 in /usr/local/lib/python3.10/dist-packages (from tensorflow==2.12) (0.2.0)\n",
            "Requirement already satisfied: grpcio<2.0,>=1.24.3 in /usr/local/lib/python3.10/dist-packages (from tensorflow==2.12) (1.54.0)\n",
            "Requirement already satisfied: h5py>=2.9.0 in /usr/local/lib/python3.10/dist-packages (from tensorflow==2.12) (3.8.0)\n",
            "Requirement already satisfied: jax>=0.3.15 in /usr/local/lib/python3.10/dist-packages (from tensorflow==2.12) (0.4.8)\n",
            "Requirement already satisfied: keras<2.13,>=2.12.0 in /usr/local/lib/python3.10/dist-packages (from tensorflow==2.12) (2.12.0)\n",
            "Requirement already satisfied: libclang>=13.0.0 in /usr/local/lib/python3.10/dist-packages (from tensorflow==2.12) (16.0.0)\n",
            "Requirement already satisfied: opt-einsum>=2.3.2 in /usr/local/lib/python3.10/dist-packages (from tensorflow==2.12) (3.3.0)\n",
            "Requirement already satisfied: protobuf!=4.21.0,!=4.21.1,!=4.21.2,!=4.21.3,!=4.21.4,!=4.21.5,<5.0.0dev,>=3.20.3 in /usr/local/lib/python3.10/dist-packages (from tensorflow==2.12) (4.23.1)\n",
            "Requirement already satisfied: setuptools in /usr/local/lib/python3.10/dist-packages (from tensorflow==2.12) (67.7.2)\n",
            "Requirement already satisfied: six>=1.12.0 in /usr/local/lib/python3.10/dist-packages (from tensorflow==2.12) (1.16.0)\n",
            "Requirement already satisfied: tensorboard<2.13,>=2.12 in /usr/local/lib/python3.10/dist-packages (from tensorflow==2.12) (2.12.3)\n",
            "Requirement already satisfied: tensorflow-estimator<2.13,>=2.12.0 in /usr/local/lib/python3.10/dist-packages (from tensorflow==2.12) (2.12.0)\n",
            "Requirement already satisfied: termcolor>=1.1.0 in /usr/local/lib/python3.10/dist-packages (from tensorflow==2.12) (2.3.0)\n",
            "Requirement already satisfied: typing-extensions>=3.6.6 in /usr/local/lib/python3.10/dist-packages (from tensorflow==2.12) (4.5.0)\n",
            "Requirement already satisfied: wrapt<1.15,>=1.11.0 in /usr/local/lib/python3.10/dist-packages (from tensorflow==2.12) (1.14.1)\n",
            "Requirement already satisfied: tensorflow-io-gcs-filesystem>=0.23.1 in /usr/local/lib/python3.10/dist-packages (from tensorflow==2.12) (0.32.0)\n",
            "Requirement already satisfied: wheel<1.0,>=0.23.0 in /usr/local/lib/python3.10/dist-packages (from astunparse>=1.6.0->tensorflow==2.12) (0.40.0)\n",
            "Requirement already satisfied: attrs>=17.3.0 in /usr/local/lib/python3.10/dist-packages (from aiohttp->datasets==2.4.0) (23.1.0)\n",
            "Requirement already satisfied: charset-normalizer<4.0,>=2.0 in /usr/local/lib/python3.10/dist-packages (from aiohttp->datasets==2.4.0) (2.0.12)\n",
            "Requirement already satisfied: multidict<7.0,>=4.5 in /usr/local/lib/python3.10/dist-packages (from aiohttp->datasets==2.4.0) (6.0.4)\n",
            "Requirement already satisfied: async-timeout<5.0,>=4.0.0a3 in /usr/local/lib/python3.10/dist-packages (from aiohttp->datasets==2.4.0) (4.0.2)\n",
            "Requirement already satisfied: yarl<2.0,>=1.0 in /usr/local/lib/python3.10/dist-packages (from aiohttp->datasets==2.4.0) (1.9.2)\n",
            "Requirement already satisfied: frozenlist>=1.1.1 in /usr/local/lib/python3.10/dist-packages (from aiohttp->datasets==2.4.0) (1.3.3)\n",
            "Requirement already satisfied: aiosignal>=1.1.2 in /usr/local/lib/python3.10/dist-packages (from aiohttp->datasets==2.4.0) (1.3.1)\n",
            "Requirement already satisfied: ml-dtypes>=0.0.3 in /usr/local/lib/python3.10/dist-packages (from jax>=0.3.15->tensorflow==2.12) (0.1.0)\n",
            "Requirement already satisfied: scipy>=1.7 in /usr/local/lib/python3.10/dist-packages (from jax>=0.3.15->tensorflow==2.12) (1.10.1)\n",
            "Requirement already satisfied: urllib3<1.27,>=1.21.1 in /usr/local/lib/python3.10/dist-packages (from requests->transformers==4.21.3) (1.26.15)\n",
            "Requirement already satisfied: certifi>=2017.4.17 in /usr/local/lib/python3.10/dist-packages (from requests->transformers==4.21.3) (2022.12.7)\n",
            "Requirement already satisfied: idna<4,>=2.5 in /usr/local/lib/python3.10/dist-packages (from requests->transformers==4.21.3) (3.4)\n",
            "Requirement already satisfied: google-auth<3,>=1.6.3 in /usr/local/lib/python3.10/dist-packages (from tensorboard<2.13,>=2.12->tensorflow==2.12) (2.17.3)\n",
            "Requirement already satisfied: google-auth-oauthlib<1.1,>=0.5 in /usr/local/lib/python3.10/dist-packages (from tensorboard<2.13,>=2.12->tensorflow==2.12) (1.0.0)\n",
            "Requirement already satisfied: markdown>=2.6.8 in /usr/local/lib/python3.10/dist-packages (from tensorboard<2.13,>=2.12->tensorflow==2.12) (3.4.3)\n",
            "Requirement already satisfied: tensorboard-data-server<0.8.0,>=0.7.0 in /usr/local/lib/python3.10/dist-packages (from tensorboard<2.13,>=2.12->tensorflow==2.12) (0.7.0)\n",
            "Requirement already satisfied: werkzeug>=1.0.1 in /usr/local/lib/python3.10/dist-packages (from tensorboard<2.13,>=2.12->tensorflow==2.12) (2.3.0)\n",
            "Requirement already satisfied: cachetools<6.0,>=2.0.0 in /usr/local/lib/python3.10/dist-packages (from google-auth<3,>=1.6.3->tensorboard<2.13,>=2.12->tensorflow==2.12) (5.3.0)\n",
            "Requirement already satisfied: pyasn1-modules>=0.2.1 in /usr/local/lib/python3.10/dist-packages (from google-auth<3,>=1.6.3->tensorboard<2.13,>=2.12->tensorflow==2.12) (0.3.0)\n",
            "Requirement already satisfied: rsa<5,>=3.1.4 in /usr/local/lib/python3.10/dist-packages (from google-auth<3,>=1.6.3->tensorboard<2.13,>=2.12->tensorflow==2.12) (4.9)\n",
            "Requirement already satisfied: requests-oauthlib>=0.7.0 in /usr/local/lib/python3.10/dist-packages (from google-auth-oauthlib<1.1,>=0.5->tensorboard<2.13,>=2.12->tensorflow==2.12) (1.3.1)\n",
            "Requirement already satisfied: MarkupSafe>=2.1.1 in /usr/local/lib/python3.10/dist-packages (from werkzeug>=1.0.1->tensorboard<2.13,>=2.12->tensorflow==2.12) (2.1.2)\n",
            "Requirement already satisfied: pyasn1<0.6.0,>=0.4.6 in /usr/local/lib/python3.10/dist-packages (from pyasn1-modules>=0.2.1->google-auth<3,>=1.6.3->tensorboard<2.13,>=2.12->tensorflow==2.12) (0.5.0)\n",
            "Requirement already satisfied: oauthlib>=3.0.0 in /usr/local/lib/python3.10/dist-packages (from requests-oauthlib>=0.7.0->google-auth-oauthlib<1.1,>=0.5->tensorboard<2.13,>=2.12->tensorflow==2.12) (3.2.2)\n",
            "Looking in indexes: https://download.pytorch.org/whl/cu118, https://us-python.pkg.dev/colab-wheels/public/simple/\n",
            "Requirement already satisfied: torch in /usr/local/lib/python3.10/dist-packages (1.12.1)\n",
            "Requirement already satisfied: torchvision in /usr/local/lib/python3.10/dist-packages (0.13.1)\n",
            "Requirement already satisfied: torchaudio in /usr/local/lib/python3.10/dist-packages (0.12.1)\n",
            "Requirement already satisfied: typing-extensions in /usr/local/lib/python3.10/dist-packages (from torch) (4.5.0)\n",
            "Requirement already satisfied: numpy in /usr/local/lib/python3.10/dist-packages (from torchvision) (1.22.4)\n",
            "Requirement already satisfied: requests in /usr/local/lib/python3.10/dist-packages (from torchvision) (2.27.1)\n",
            "Requirement already satisfied: pillow!=8.3.*,>=5.3.0 in /usr/local/lib/python3.10/dist-packages (from torchvision) (8.4.0)\n",
            "Requirement already satisfied: urllib3<1.27,>=1.21.1 in /usr/local/lib/python3.10/dist-packages (from requests->torchvision) (1.26.15)\n",
            "Requirement already satisfied: certifi>=2017.4.17 in /usr/local/lib/python3.10/dist-packages (from requests->torchvision) (2022.12.7)\n",
            "Requirement already satisfied: charset-normalizer~=2.0.0 in /usr/local/lib/python3.10/dist-packages (from requests->torchvision) (2.0.12)\n",
            "Requirement already satisfied: idna<4,>=2.5 in /usr/local/lib/python3.10/dist-packages (from requests->torchvision) (3.4)\n"
          ]
        }
      ],
      "source": [
        "!pip3 install tokenizers==0.12.1 transformers==4.21.3 pandas==1.4.4 datasets==2.4.0 tensorflow==2.12\n",
        "!pip3 install torch torchvision torchaudio --index-url https://download.pytorch.org/whl/cu118"
      ]
    },
    {
      "cell_type": "code",
      "source": [
        "!nvcc --version"
      ],
      "metadata": {
        "colab": {
          "base_uri": "https://localhost:8080/"
        },
        "id": "M1GNo0oD2NIz",
        "outputId": "84d71415-9a09-48f4-c6e4-bd0e3ca8142c"
      },
      "execution_count": 5,
      "outputs": [
        {
          "output_type": "stream",
          "name": "stdout",
          "text": [
            "nvcc: NVIDIA (R) Cuda compiler driver\n",
            "Copyright (c) 2005-2022 NVIDIA Corporation\n",
            "Built on Wed_Sep_21_10:33:58_PDT_2022\n",
            "Cuda compilation tools, release 11.8, V11.8.89\n",
            "Build cuda_11.8.r11.8/compiler.31833905_0\n"
          ]
        }
      ]
    },
    {
      "cell_type": "markdown",
      "source": [
        "## Load in data"
      ],
      "metadata": {
        "id": "yQiIaf9YBReN"
      }
    },
    {
      "cell_type": "code",
      "source": [
        "import pandas as pd"
      ],
      "metadata": {
        "id": "4YGZZlg79HfY"
      },
      "execution_count": 6,
      "outputs": []
    },
    {
      "cell_type": "code",
      "source": [
        "df_dutch = pd.read_csv(\"dutch.csv\", delimiter=\";\")"
      ],
      "metadata": {
        "id": "2lTwwlTy8eCV"
      },
      "execution_count": 7,
      "outputs": []
    },
    {
      "cell_type": "code",
      "source": [
        "df_dutch"
      ],
      "metadata": {
        "colab": {
          "base_uri": "https://localhost:8080/",
          "height": 424
        },
        "id": "gyusko8a_YWz",
        "outputId": "742c86ff-d596-4389-befa-019cf65c308d"
      },
      "execution_count": 8,
      "outputs": [
        {
          "output_type": "execute_result",
          "data": {
            "text/plain": [
              "                                                 labels\n",
              "0     Spanje is met ingang van vandaag voorzitter va...\n",
              "1     Vijf werknemers van het omstreden Amerikaanse ...\n",
              "2     Het Oud en Nieuwfeest op het Museumplein in Am...\n",
              "3     President Obama heeft de eerste rapporten gekr...\n",
              "4     In de hele wereld is het nieuwe jaar feestelij...\n",
              "...                                                 ...\n",
              "9973  Een Chinese trein heeft het snelheidsrecord ge...\n",
              "9974  Een universiteit in de Amerikaanse staat Texas...\n",
              "9975  In Brussel demonstreren tienduizenden mensen v...\n",
              "9976  De NS wil het papieren spoorboekje afschaffen....\n",
              "9977  De Europese Commissie wil zelf gaan beoordelen...\n",
              "\n",
              "[9978 rows x 1 columns]"
            ],
            "text/html": [
              "\n",
              "  <div id=\"df-d675772b-cb6b-4b0c-a29e-6d351fb15c69\">\n",
              "    <div class=\"colab-df-container\">\n",
              "      <div>\n",
              "<style scoped>\n",
              "    .dataframe tbody tr th:only-of-type {\n",
              "        vertical-align: middle;\n",
              "    }\n",
              "\n",
              "    .dataframe tbody tr th {\n",
              "        vertical-align: top;\n",
              "    }\n",
              "\n",
              "    .dataframe thead th {\n",
              "        text-align: right;\n",
              "    }\n",
              "</style>\n",
              "<table border=\"1\" class=\"dataframe\">\n",
              "  <thead>\n",
              "    <tr style=\"text-align: right;\">\n",
              "      <th></th>\n",
              "      <th>labels</th>\n",
              "    </tr>\n",
              "  </thead>\n",
              "  <tbody>\n",
              "    <tr>\n",
              "      <th>0</th>\n",
              "      <td>Spanje is met ingang van vandaag voorzitter va...</td>\n",
              "    </tr>\n",
              "    <tr>\n",
              "      <th>1</th>\n",
              "      <td>Vijf werknemers van het omstreden Amerikaanse ...</td>\n",
              "    </tr>\n",
              "    <tr>\n",
              "      <th>2</th>\n",
              "      <td>Het Oud en Nieuwfeest op het Museumplein in Am...</td>\n",
              "    </tr>\n",
              "    <tr>\n",
              "      <th>3</th>\n",
              "      <td>President Obama heeft de eerste rapporten gekr...</td>\n",
              "    </tr>\n",
              "    <tr>\n",
              "      <th>4</th>\n",
              "      <td>In de hele wereld is het nieuwe jaar feestelij...</td>\n",
              "    </tr>\n",
              "    <tr>\n",
              "      <th>...</th>\n",
              "      <td>...</td>\n",
              "    </tr>\n",
              "    <tr>\n",
              "      <th>9973</th>\n",
              "      <td>Een Chinese trein heeft het snelheidsrecord ge...</td>\n",
              "    </tr>\n",
              "    <tr>\n",
              "      <th>9974</th>\n",
              "      <td>Een universiteit in de Amerikaanse staat Texas...</td>\n",
              "    </tr>\n",
              "    <tr>\n",
              "      <th>9975</th>\n",
              "      <td>In Brussel demonstreren tienduizenden mensen v...</td>\n",
              "    </tr>\n",
              "    <tr>\n",
              "      <th>9976</th>\n",
              "      <td>De NS wil het papieren spoorboekje afschaffen....</td>\n",
              "    </tr>\n",
              "    <tr>\n",
              "      <th>9977</th>\n",
              "      <td>De Europese Commissie wil zelf gaan beoordelen...</td>\n",
              "    </tr>\n",
              "  </tbody>\n",
              "</table>\n",
              "<p>9978 rows × 1 columns</p>\n",
              "</div>\n",
              "      <button class=\"colab-df-convert\" onclick=\"convertToInteractive('df-d675772b-cb6b-4b0c-a29e-6d351fb15c69')\"\n",
              "              title=\"Convert this dataframe to an interactive table.\"\n",
              "              style=\"display:none;\">\n",
              "        \n",
              "  <svg xmlns=\"http://www.w3.org/2000/svg\" height=\"24px\"viewBox=\"0 0 24 24\"\n",
              "       width=\"24px\">\n",
              "    <path d=\"M0 0h24v24H0V0z\" fill=\"none\"/>\n",
              "    <path d=\"M18.56 5.44l.94 2.06.94-2.06 2.06-.94-2.06-.94-.94-2.06-.94 2.06-2.06.94zm-11 1L8.5 8.5l.94-2.06 2.06-.94-2.06-.94L8.5 2.5l-.94 2.06-2.06.94zm10 10l.94 2.06.94-2.06 2.06-.94-2.06-.94-.94-2.06-.94 2.06-2.06.94z\"/><path d=\"M17.41 7.96l-1.37-1.37c-.4-.4-.92-.59-1.43-.59-.52 0-1.04.2-1.43.59L10.3 9.45l-7.72 7.72c-.78.78-.78 2.05 0 2.83L4 21.41c.39.39.9.59 1.41.59.51 0 1.02-.2 1.41-.59l7.78-7.78 2.81-2.81c.8-.78.8-2.07 0-2.86zM5.41 20L4 18.59l7.72-7.72 1.47 1.35L5.41 20z\"/>\n",
              "  </svg>\n",
              "      </button>\n",
              "      \n",
              "  <style>\n",
              "    .colab-df-container {\n",
              "      display:flex;\n",
              "      flex-wrap:wrap;\n",
              "      gap: 12px;\n",
              "    }\n",
              "\n",
              "    .colab-df-convert {\n",
              "      background-color: #E8F0FE;\n",
              "      border: none;\n",
              "      border-radius: 50%;\n",
              "      cursor: pointer;\n",
              "      display: none;\n",
              "      fill: #1967D2;\n",
              "      height: 32px;\n",
              "      padding: 0 0 0 0;\n",
              "      width: 32px;\n",
              "    }\n",
              "\n",
              "    .colab-df-convert:hover {\n",
              "      background-color: #E2EBFA;\n",
              "      box-shadow: 0px 1px 2px rgba(60, 64, 67, 0.3), 0px 1px 3px 1px rgba(60, 64, 67, 0.15);\n",
              "      fill: #174EA6;\n",
              "    }\n",
              "\n",
              "    [theme=dark] .colab-df-convert {\n",
              "      background-color: #3B4455;\n",
              "      fill: #D2E3FC;\n",
              "    }\n",
              "\n",
              "    [theme=dark] .colab-df-convert:hover {\n",
              "      background-color: #434B5C;\n",
              "      box-shadow: 0px 1px 3px 1px rgba(0, 0, 0, 0.15);\n",
              "      filter: drop-shadow(0px 1px 2px rgba(0, 0, 0, 0.3));\n",
              "      fill: #FFFFFF;\n",
              "    }\n",
              "  </style>\n",
              "\n",
              "      <script>\n",
              "        const buttonEl =\n",
              "          document.querySelector('#df-d675772b-cb6b-4b0c-a29e-6d351fb15c69 button.colab-df-convert');\n",
              "        buttonEl.style.display =\n",
              "          google.colab.kernel.accessAllowed ? 'block' : 'none';\n",
              "\n",
              "        async function convertToInteractive(key) {\n",
              "          const element = document.querySelector('#df-d675772b-cb6b-4b0c-a29e-6d351fb15c69');\n",
              "          const dataTable =\n",
              "            await google.colab.kernel.invokeFunction('convertToInteractive',\n",
              "                                                     [key], {});\n",
              "          if (!dataTable) return;\n",
              "\n",
              "          const docLinkHtml = 'Like what you see? Visit the ' +\n",
              "            '<a target=\"_blank\" href=https://colab.research.google.com/notebooks/data_table.ipynb>data table notebook</a>'\n",
              "            + ' to learn more about interactive tables.';\n",
              "          element.innerHTML = '';\n",
              "          dataTable['output_type'] = 'display_data';\n",
              "          await google.colab.output.renderOutput(dataTable, element);\n",
              "          const docLink = document.createElement('div');\n",
              "          docLink.innerHTML = docLinkHtml;\n",
              "          element.appendChild(docLink);\n",
              "        }\n",
              "      </script>\n",
              "    </div>\n",
              "  </div>\n",
              "  "
            ]
          },
          "metadata": {},
          "execution_count": 8
        }
      ]
    },
    {
      "cell_type": "markdown",
      "source": [
        "## Split by space"
      ],
      "metadata": {
        "id": "3v5jG94wBVj3"
      }
    },
    {
      "cell_type": "code",
      "source": [
        "sentence = df_dutch.iloc[0]\n",
        "sentence = sentence[0]"
      ],
      "metadata": {
        "id": "x0Z5txtjzSu5"
      },
      "execution_count": 9,
      "outputs": []
    },
    {
      "cell_type": "code",
      "source": [
        "sentence.split(\" \")[:10]"
      ],
      "metadata": {
        "colab": {
          "base_uri": "https://localhost:8080/"
        },
        "id": "t7b5Ju7X0t0P",
        "outputId": "6bade606-6d80-4997-f693-2746240eb50c"
      },
      "execution_count": 10,
      "outputs": [
        {
          "output_type": "execute_result",
          "data": {
            "text/plain": [
              "['Spanje',\n",
              " 'is',\n",
              " 'met',\n",
              " 'ingang',\n",
              " 'van',\n",
              " 'vandaag',\n",
              " 'voorzitter',\n",
              " 'van',\n",
              " 'de',\n",
              " 'EU.']"
            ]
          },
          "metadata": {},
          "execution_count": 10
        }
      ]
    },
    {
      "cell_type": "markdown",
      "source": [
        "## Tokenizers \n",
        "### Byte pair encoding"
      ],
      "metadata": {
        "id": "UuCBETa3BYhA"
      }
    },
    {
      "cell_type": "code",
      "source": [
        "from tokenizers import ByteLevelBPETokenizer\n",
        "\n",
        "tokenizer = ByteLevelBPETokenizer()\n",
        "\n",
        "tokenizer.train(files=\"dutch.csv\", vocab_size=50265, min_frequency=3, \n",
        "                show_progress=True,\n",
        "                special_tokens=[\"<s>\", \"<pad>\", \"</s>\", \"<unk>\", \"<mask>\"])"
      ],
      "metadata": {
        "id": "tbYjqtYl1uz_"
      },
      "execution_count": 11,
      "outputs": []
    },
    {
      "cell_type": "code",
      "source": [
        "import os\n",
        "\n",
        "if not os.path.exists(\"tokenizer\"): os.mkdir(\"tokenizer\")\n",
        "tokenizer.save_model(\"tokenizer\")"
      ],
      "metadata": {
        "colab": {
          "base_uri": "https://localhost:8080/"
        },
        "id": "fEBsKuWR2b1z",
        "outputId": "52a03303-de27-4e43-afa7-09ff1e779447"
      },
      "execution_count": 12,
      "outputs": [
        {
          "output_type": "execute_result",
          "data": {
            "text/plain": [
              "['tokenizer/vocab.json', 'tokenizer/merges.txt']"
            ]
          },
          "metadata": {},
          "execution_count": 12
        }
      ]
    },
    {
      "cell_type": "code",
      "source": [
        "from transformers import RobertaTokenizerFast\n",
        "\n",
        "tokenizer = RobertaTokenizerFast.from_pretrained(\"tokenizer\", max_len=512)"
      ],
      "metadata": {
        "id": "zTB9ykts26WP"
      },
      "execution_count": 6,
      "outputs": []
    },
    {
      "cell_type": "code",
      "source": [
        "tokens = tokenizer.encode(sentence[:100])\n",
        "print(sentence[:100])\n",
        "print(tokens)"
      ],
      "metadata": {
        "colab": {
          "base_uri": "https://localhost:8080/"
        },
        "id": "IfHf7iH02LUl",
        "outputId": "85c1053d-da32-4315-e6b5-fb4b8d1f2295"
      },
      "execution_count": 14,
      "outputs": [
        {
          "output_type": "stream",
          "name": "stdout",
          "text": [
            "Spanje is met ingang van vandaag voorzitter van de EU. De Zweedse premier Fredrik Reinfeldt heeft he\n",
            "[0, 17121, 321, 351, 8590, 284, 880, 2079, 284, 268, 2025, 18, 328, 4668, 1070, 10555, 1137, 17786, 402, 425, 2]\n"
          ]
        }
      ]
    },
    {
      "cell_type": "code",
      "source": [
        "print(tokenizer.decode([0, 17124, 3065, 284, 293, 4452, 847, 44286, 42429, 26012, 672, 16733, 329, 605, 225, 2]))"
      ],
      "metadata": {
        "colab": {
          "base_uri": "https://localhost:8080/"
        },
        "id": "0WJ0lR432XER",
        "outputId": "e4d028ca-aa4b-4fe2-a96f-89fa7a8d0b9d"
      },
      "execution_count": 15,
      "outputs": [
        {
          "output_type": "stream",
          "name": "stdout",
          "text": [
            "<s>Vijf werknemers van het omstreden Amerikaanse beveilingingsbedrijf Blackwater gaan vrijuit voor hun </s>\n"
          ]
        }
      ]
    },
    {
      "cell_type": "markdown",
      "source": [
        "## Configure RoBERTa model"
      ],
      "metadata": {
        "id": "sXJETFvRN9Hz"
      }
    },
    {
      "cell_type": "code",
      "source": [
        "from transformers import RobertaConfig\n",
        "from transformers import RobertaForMaskedLM\n",
        "\n",
        "# Set a configuration for our RoBERTa model\n",
        "config = RobertaConfig(\n",
        "    vocab_size=50265,\n",
        "    max_position_embeddings=514,\n",
        "    num_attention_heads=12,\n",
        "    num_hidden_layers=6,\n",
        "    type_vocab_size=1,\n",
        ")\n",
        "# Initialize the model from a configuration without pretrained weights\n",
        "model = RobertaForMaskedLM(config=config)\n",
        "print('Num parameters: ',model.num_parameters())"
      ],
      "metadata": {
        "colab": {
          "base_uri": "https://localhost:8080/"
        },
        "id": "gDxfksumN7cN",
        "outputId": "a89f8257-11e5-42f3-ad79-b7e7fae2ce81"
      },
      "execution_count": 16,
      "outputs": [
        {
          "output_type": "stream",
          "name": "stdout",
          "text": [
            "Num parameters:  82170201\n"
          ]
        }
      ]
    },
    {
      "cell_type": "code",
      "source": [
        "from transformers import DataCollatorForLanguageModeling\n",
        "\n",
        "# Define the Data Collator\n",
        "data_collator = DataCollatorForLanguageModeling(\n",
        "    tokenizer=tokenizer, mlm=True, mlm_probability=0.15,\n",
        ")"
      ],
      "metadata": {
        "id": "03VtYq4hTzTK"
      },
      "execution_count": 17,
      "outputs": []
    },
    {
      "cell_type": "code",
      "source": [
        "# !pip install --upgrade accelerate"
      ],
      "metadata": {
        "id": "x1jYm_1CU4Vp"
      },
      "execution_count": 18,
      "outputs": []
    },
    {
      "cell_type": "code",
      "source": [
        "import torch\n",
        "\n",
        "train_on_gpu = torch.cuda.is_available()\n",
        "\n",
        "if not train_on_gpu:\n",
        "    print('CUDA is not available.  Training on CPU ...')\n",
        "else:\n",
        "    c = torch.cuda.device_count()\n",
        "    print(f\"CUDA is available!\\nNumber of gpu's detected: {c}\" )\n",
        "    print('Training on GPU ...\\n\\n')\n",
        "    for i in range(c):\n",
        "        print(f'Device name {i}== {torch.cuda.get_device_name(i)}')"
      ],
      "metadata": {
        "colab": {
          "base_uri": "https://localhost:8080/"
        },
        "id": "qTkEks7nVFJC",
        "outputId": "7a9be991-1847-4aa3-a27c-d5c6e8ea95c2"
      },
      "execution_count": 19,
      "outputs": [
        {
          "output_type": "stream",
          "name": "stdout",
          "text": [
            "CUDA is available!\n",
            "Number of gpu's detected: 1\n",
            "Training on GPU ...\n",
            "\n",
            "\n",
            "Device name 0== Tesla T4\n"
          ]
        }
      ]
    },
    {
      "cell_type": "code",
      "source": [
        "def encode(batch):\n",
        "    return tokenizer(batch['labels'], padding=\"max_length\", truncation=True, max_length=512,return_tensors=\"pt\")"
      ],
      "metadata": {
        "id": "5k-TQt-QjGXS"
      },
      "execution_count": 20,
      "outputs": []
    },
    {
      "cell_type": "code",
      "source": [
        "from datasets import load_dataset\n",
        "dataset = load_dataset(\"csv\", data_files=\"dutch.csv\", delimiter=\";\")"
      ],
      "metadata": {
        "colab": {
          "base_uri": "https://localhost:8080/",
          "height": 84,
          "referenced_widgets": [
            "68178d6438ef4b16a5f551c4abe81a54",
            "8ea19059c1774991b3b826af013e349f",
            "f66616c67b7e4c9f908e2d657382d5f3",
            "516f764aea1a477c8414641c72980dbe",
            "ac4ce3fe19f548a8b1c7234aede8cdd0",
            "6b733a17528845d6869ee6fbbd34dbac",
            "37ae6f7e2f6a4c52955f8160bd30e852",
            "543508a3a2e94c819b3f13ef6480813d",
            "35a7e37bfd8f4e79a522ecb4b400286a",
            "5e2eeeed2b4f40e3a7997fb9d6874a15",
            "119853cc3fa14efb9ed791577c8f521c"
          ]
        },
        "id": "kFUP_SnkrwML",
        "outputId": "ec8939eb-a3e7-421f-fc67-6b89cba44bec"
      },
      "execution_count": 21,
      "outputs": [
        {
          "output_type": "stream",
          "name": "stderr",
          "text": [
            "WARNING:datasets.builder:Using custom data configuration default-23e57bb645fbe09e\n",
            "WARNING:datasets.builder:Reusing dataset csv (/root/.cache/huggingface/datasets/csv/default-23e57bb645fbe09e/0.0.0/652c3096f041ee27b04d2232d41f10547a8fecda3e284a79a0ec4053c916ef7a)\n"
          ]
        },
        {
          "output_type": "display_data",
          "data": {
            "text/plain": [
              "  0%|          | 0/1 [00:00<?, ?it/s]"
            ],
            "application/vnd.jupyter.widget-view+json": {
              "version_major": 2,
              "version_minor": 0,
              "model_id": "68178d6438ef4b16a5f551c4abe81a54"
            }
          },
          "metadata": {}
        }
      ]
    },
    {
      "cell_type": "code",
      "source": [
        "dataset"
      ],
      "metadata": {
        "colab": {
          "base_uri": "https://localhost:8080/"
        },
        "id": "sTelWbLer_au",
        "outputId": "4d68b3ad-3451-45bc-c523-1eef58d4b214"
      },
      "execution_count": 22,
      "outputs": [
        {
          "output_type": "execute_result",
          "data": {
            "text/plain": [
              "DatasetDict({\n",
              "    train: Dataset({\n",
              "        features: ['labels'],\n",
              "        num_rows: 9978\n",
              "    })\n",
              "})"
            ]
          },
          "metadata": {},
          "execution_count": 22
        }
      ]
    },
    {
      "cell_type": "code",
      "source": [
        "dataset = dataset.shuffle(seed=42)\n",
        "dataset = dataset[\"train\"]\n",
        "dataset = dataset.train_test_split(train_size=0.7)"
      ],
      "metadata": {
        "colab": {
          "base_uri": "https://localhost:8080/"
        },
        "id": "-iDag0U3sJJA",
        "outputId": "1e116ab9-4420-4fae-ccb2-e6c7de372bd8"
      },
      "execution_count": 23,
      "outputs": [
        {
          "output_type": "stream",
          "name": "stderr",
          "text": [
            "WARNING:datasets.arrow_dataset:Loading cached shuffled indices for dataset at /root/.cache/huggingface/datasets/csv/default-23e57bb645fbe09e/0.0.0/652c3096f041ee27b04d2232d41f10547a8fecda3e284a79a0ec4053c916ef7a/cache-728c8067d80b9027.arrow\n"
          ]
        }
      ]
    },
    {
      "cell_type": "code",
      "source": [
        "dataset"
      ],
      "metadata": {
        "colab": {
          "base_uri": "https://localhost:8080/"
        },
        "id": "Qqi3hplcsN69",
        "outputId": "c39096b4-3081-4cbd-d78c-859efccf2216"
      },
      "execution_count": 24,
      "outputs": [
        {
          "output_type": "execute_result",
          "data": {
            "text/plain": [
              "DatasetDict({\n",
              "    train: Dataset({\n",
              "        features: ['labels'],\n",
              "        num_rows: 6984\n",
              "    })\n",
              "    test: Dataset({\n",
              "        features: ['labels'],\n",
              "        num_rows: 2994\n",
              "    })\n",
              "})"
            ]
          },
          "metadata": {},
          "execution_count": 24
        }
      ]
    },
    {
      "cell_type": "code",
      "source": [
        "dataset[\"train\"][100]"
      ],
      "metadata": {
        "colab": {
          "base_uri": "https://localhost:8080/"
        },
        "id": "HVh02YWjsfZ_",
        "outputId": "5cf9c2b9-9e8a-476b-dd2c-1c3298d24db0"
      },
      "execution_count": 25,
      "outputs": [
        {
          "output_type": "execute_result",
          "data": {
            "text/plain": [
              "{'labels': 'In de stad Osj in KirgizieÌˆ is geschoten tijdens een bijeenkomst van aanhangers van de verdreven president Bakijev. De schoten werden gelost toen Bakijev een speech hield. Hij brak zijn toespraak af en verliet de bijeenkomst. Wie er achter de schietpartij zit, is niet bekend. Bakijev raakte niet gewond. Volgens een Russisch persbureau zouden medewerkers van de veiligheidsdienst van het gevluchte staatshoofd in een reactie in de lucht hebben geschoten om Bakijev te beschermen. Bakijev vluchtte vorige week naar het zuiden van KirgizieÌˆ, na hevige onlusten in de hoofdstad Bisjkek. In het zuiden heeft hij nog veel aanhang. Hij wil praten met oppositieleider Otoenbajeva over een machtsoverdracht, maar eist daarbij veiligheidsgaranties voor zichzelf en zijn familie. Vorige week eiste Roza Otoenbajeva de macht in KirgizieÌˆ op. Ze zegt dat ze een interim-regering heeft gevormd. Zij vindt dat Bakijev schuldig is aan de doden die vorige week vielen bij de onlusten in KirgizieÌˆ. Toen kwamen zeker tachtig mensen om het leven.'}"
            ]
          },
          "metadata": {},
          "execution_count": 25
        }
      ]
    },
    {
      "cell_type": "code",
      "source": [
        "dataset[\"test\"][100]"
      ],
      "metadata": {
        "colab": {
          "base_uri": "https://localhost:8080/"
        },
        "id": "tRxBalJ6tltH",
        "outputId": "84ec6bbe-c0ea-4799-ed72-9e444adc4e6a"
      },
      "execution_count": 26,
      "outputs": [
        {
          "output_type": "execute_result",
          "data": {
            "text/plain": [
              "{'labels': 'Tsjaad is niet van plan de Sudanese president Bashir op te pakken, die daar nu op bezoek is. Volgens de minister van Binnenlandse Zaken is Tsjaad niet verplicht om de van oorlogsmisdaden verdachte president te arresteren. Het Internationaal Strafhof in Den Haag heeft een arrestatiebevel uitgevaardigd tegen hem, onder meer voor genocide in Darfur. Volgens het hof is Tsjaad wel degelijk verplicht om Bashir aan te houden, omdat het lid is van het hof. Bashir is in Tsjaad voor een top van Sahara-landen. Hij werd bij aankomst op het vliegveld vriendelijk begroet door president DeÌ\\x81by.'}"
            ]
          },
          "metadata": {},
          "execution_count": 26
        }
      ]
    },
    {
      "cell_type": "code",
      "source": [
        "ds_train = dataset[\"train\"]\n",
        "ds_train.set_transform(encode)\n",
        "ds_test = dataset[\"test\"]\n",
        "ds_test.set_transform(encode)"
      ],
      "metadata": {
        "id": "BjTqAFWOtvcZ"
      },
      "execution_count": 27,
      "outputs": []
    },
    {
      "cell_type": "code",
      "source": [
        "ds_train[20]"
      ],
      "metadata": {
        "colab": {
          "base_uri": "https://localhost:8080/"
        },
        "id": "rusolW7Yt-w1",
        "outputId": "238a24af-aaf6-4f95-de97-7837baf7f55c"
      },
      "execution_count": 28,
      "outputs": [
        {
          "output_type": "execute_result",
          "data": {
            "text/plain": [
              "{'input_ids': tensor([    0,   792,  1740,   284,  2210,  1527,   321,   309,  3173,   444,\n",
              "         10589,  1539,   289,  5311,    18,  6694, 10976,  2210,  1527,   468,\n",
              "          2920,   351,  4052,  1539,    16,   464,   319,   886,   321,  3194,\n",
              "          4066,    18,  1556,  1491,   479,   268,   981,  1083,   596,  4538,\n",
              "         21966,   284,   524,   367,   605, 29871,   289,  5311,   369,   634,\n",
              "          4009,     6,    16,   581,  1944,   408, 17535, 29543,   284,  2210,\n",
              "          1527,    18,  1556,   792,   632,   356,  4052,   524,   367,   289,\n",
              "          5311,  3167,   307,  6768,  4500,    18,   419,   321,   468,  2056,\n",
              "           356,   289,   320, 15230,   574,   353,   559,   289,  7700,  4224,\n",
              "         17459,    16,   651,   456,   507,   570,   607,   468,   566,  2920,\n",
              "           351,   353,   634,   985,     6,    16,  1609, 29543,    18, 39508,\n",
              "         19795,   419,  1740,  1749,   268,  1539,   566, 12769,    16,  1966,\n",
              "           368,   340,   566,  5854,   319,  1371,  1418,   321, 14169,    18,\n",
              "          2829,   293,  2920,   351,   268,  2889,  1090,   268,  1003, 17081,\n",
              "           558,    82,   321,  2056,    18, 12827,   307, 44090,  1514,   521,\n",
              "           369,   476,    18, 16272,   545,   268,  2552,   284,  2589, 10976,\n",
              "          2210,  1527,   468,  2920,   351,  1189,  2746,    29,  1539,   289,\n",
              "          5311,    18,  6511,   479,   268, 10777,   559,  3635,    18,   419,\n",
              "          1740,  8030,   538,  1553,  3226,   444,  5311,   356,   268,   787,\n",
              "          2686,   320, 10108,    18, 23477,  1714,  3921,   328,  8222,   744,\n",
              "           284,  2639, 14149,   317,   402,  1521,   319,   268,  3612,  3817,\n",
              "           402,  1218,   420,   545,   268,  2552,   369,  2658,   320,  8773,\n",
              "           329,   299,  7407,    18,   569,   549, 44201,   971,   634,  2615,\n",
              "            18,  8615, 45079, 12972,   268,  8222,   798, 16463,   293,  2426,\n",
              "           284,   299,  7407,   307,  3733,   309,   507, 22530,    18,   710,\n",
              "           644,   319,   368, 25116,  2102, 11578,   289, 38080,   680,    18,\n",
              "          3764,  2041,   319,   596,  2964, 13183,   654,   284,  5311,   680,\n",
              "         23084,   420,   299,  7407,    18,  1044,  1120,   524,   289,   268,\n",
              "         29863, 10818,   292,  1296,   595,   913,   805,   356,   605,  1195,\n",
              "           320,  4679,   307,   320,  2782,    16,   581,   299, 22084,    18,\n",
              "          1556,  2690,   368,   566, 24786,   439,  1519,    16,   680,   456,\n",
              "         14778,   697,   590, 14149,   317,   340,  2678, 44200,   608,   309,\n",
              "           805,  5214,    16,   651,   268,  3404, 39819, 36404,   608,  2470,\n",
              "          7856,    18,  1828,  1111, 12079,   328,   896,   289,  5311,   402,\n",
              "         32775,  1789,   545,   268,  2337,  2552,   284,  2589,    18,   458,\n",
              "           268,  2889,   654,   367,   293, 15194,   340,  2258,    16,   321,\n",
              "           409,   476,   299, 24020,   284,  2797,    18,  1044,    11,    82,\n",
              "         10388,  1395,   340,  3040,   356,   268,  3027,   320,  9015,   307,\n",
              "           356,   320,  2615,   410,   293, 17262,   284,   783, 32441,  8338,\n",
              "         41464,    18,  1550,   268,  1849,   487,   368,  3960,   928, 16845,\n",
              "            18,   458,   268,   783,  3826,   545,   268,  9413,   334,   398,\n",
              "          2987,   524,  5065,   457,   309,  3173,   444,  4165,   307,  1481,\n",
              "            16,   464,   478,   734, 18463,   307, 29020,  5672,    18,   419,\n",
              "          4800,   321,  4066,   507,   476,   520, 25168,    18,   676,  5366,\n",
              "           886,   524,   487,   468,  4826,    18,  4000,   583,   458,   268,\n",
              "          1003, 17081,   558,    82,  7378,  8200,  1294,  1496,   524,  7053,\n",
              "           409,   293,  4420,   284,   299,  3653,  7714, 16989,  7166,    18,\n",
              "           748,   734,   478,  1373,  4109, 10981,    16,  1308,  2422,   524,\n",
              "           463,   521,   468,  4826,    18, 13582,   524,  8383,   329,   268,\n",
              "          1584,  2317,   961,    16,   651,   605,  1034,   321,  5348,   574,\n",
              "           651,   353,   368,   369,   476,   289, 10644,    18,   458, 12923,\n",
              "           321,     2]),\n",
              " 'attention_mask': tensor([1, 1, 1, 1, 1, 1, 1, 1, 1, 1, 1, 1, 1, 1, 1, 1, 1, 1, 1, 1, 1, 1, 1, 1,\n",
              "         1, 1, 1, 1, 1, 1, 1, 1, 1, 1, 1, 1, 1, 1, 1, 1, 1, 1, 1, 1, 1, 1, 1, 1,\n",
              "         1, 1, 1, 1, 1, 1, 1, 1, 1, 1, 1, 1, 1, 1, 1, 1, 1, 1, 1, 1, 1, 1, 1, 1,\n",
              "         1, 1, 1, 1, 1, 1, 1, 1, 1, 1, 1, 1, 1, 1, 1, 1, 1, 1, 1, 1, 1, 1, 1, 1,\n",
              "         1, 1, 1, 1, 1, 1, 1, 1, 1, 1, 1, 1, 1, 1, 1, 1, 1, 1, 1, 1, 1, 1, 1, 1,\n",
              "         1, 1, 1, 1, 1, 1, 1, 1, 1, 1, 1, 1, 1, 1, 1, 1, 1, 1, 1, 1, 1, 1, 1, 1,\n",
              "         1, 1, 1, 1, 1, 1, 1, 1, 1, 1, 1, 1, 1, 1, 1, 1, 1, 1, 1, 1, 1, 1, 1, 1,\n",
              "         1, 1, 1, 1, 1, 1, 1, 1, 1, 1, 1, 1, 1, 1, 1, 1, 1, 1, 1, 1, 1, 1, 1, 1,\n",
              "         1, 1, 1, 1, 1, 1, 1, 1, 1, 1, 1, 1, 1, 1, 1, 1, 1, 1, 1, 1, 1, 1, 1, 1,\n",
              "         1, 1, 1, 1, 1, 1, 1, 1, 1, 1, 1, 1, 1, 1, 1, 1, 1, 1, 1, 1, 1, 1, 1, 1,\n",
              "         1, 1, 1, 1, 1, 1, 1, 1, 1, 1, 1, 1, 1, 1, 1, 1, 1, 1, 1, 1, 1, 1, 1, 1,\n",
              "         1, 1, 1, 1, 1, 1, 1, 1, 1, 1, 1, 1, 1, 1, 1, 1, 1, 1, 1, 1, 1, 1, 1, 1,\n",
              "         1, 1, 1, 1, 1, 1, 1, 1, 1, 1, 1, 1, 1, 1, 1, 1, 1, 1, 1, 1, 1, 1, 1, 1,\n",
              "         1, 1, 1, 1, 1, 1, 1, 1, 1, 1, 1, 1, 1, 1, 1, 1, 1, 1, 1, 1, 1, 1, 1, 1,\n",
              "         1, 1, 1, 1, 1, 1, 1, 1, 1, 1, 1, 1, 1, 1, 1, 1, 1, 1, 1, 1, 1, 1, 1, 1,\n",
              "         1, 1, 1, 1, 1, 1, 1, 1, 1, 1, 1, 1, 1, 1, 1, 1, 1, 1, 1, 1, 1, 1, 1, 1,\n",
              "         1, 1, 1, 1, 1, 1, 1, 1, 1, 1, 1, 1, 1, 1, 1, 1, 1, 1, 1, 1, 1, 1, 1, 1,\n",
              "         1, 1, 1, 1, 1, 1, 1, 1, 1, 1, 1, 1, 1, 1, 1, 1, 1, 1, 1, 1, 1, 1, 1, 1,\n",
              "         1, 1, 1, 1, 1, 1, 1, 1, 1, 1, 1, 1, 1, 1, 1, 1, 1, 1, 1, 1, 1, 1, 1, 1,\n",
              "         1, 1, 1, 1, 1, 1, 1, 1, 1, 1, 1, 1, 1, 1, 1, 1, 1, 1, 1, 1, 1, 1, 1, 1,\n",
              "         1, 1, 1, 1, 1, 1, 1, 1, 1, 1, 1, 1, 1, 1, 1, 1, 1, 1, 1, 1, 1, 1, 1, 1,\n",
              "         1, 1, 1, 1, 1, 1, 1, 1])}"
            ]
          },
          "metadata": {},
          "execution_count": 28
        }
      ]
    },
    {
      "cell_type": "code",
      "source": [
        "from transformers import TrainingArguments, Trainer\n",
        "\n",
        "if not os.path.exists(\"models\"): os.mkdir(\"models\")\n",
        "if not os.path.exists(\"models/roberta\"): os.mkdir(\"models/roberta\")\n",
        "\n",
        "training_args = TrainingArguments(\n",
        "    output_dir='./models/roberta',\n",
        "    overwrite_output_dir=True,\n",
        "    evaluation_strategy = 'steps',\n",
        "    num_train_epochs=100,\n",
        "    learning_rate=1e-5,\n",
        "    lr_scheduler_type=\"constant\",\n",
        "    weight_decay=0.01,\n",
        "    per_device_train_batch_size=8,\n",
        "    per_device_eval_batch_size=8,\n",
        "    save_steps=1024,\n",
        "    eval_steps=1024,\n",
        "    save_total_limit=3,\n",
        "    ignore_data_skip=True,\n",
        "    gradient_accumulation_steps=4,\n",
        "    gradient_checkpointing=True,\n",
        "    fp16=True\n",
        ")\n",
        "# Create the trainer for our model\n",
        "trainer = Trainer(\n",
        "    model=model,\n",
        "    args=training_args,\n",
        "    data_collator=data_collator,\n",
        "    train_dataset=ds_train,\n",
        "    eval_dataset=ds_test,\n",
        "    #prediction_loss_only=True,\n",
        ")"
      ],
      "metadata": {
        "colab": {
          "base_uri": "https://localhost:8080/"
        },
        "id": "H9Ha42xPTlgC",
        "outputId": "7e737a7f-b40d-4bff-e81c-94c80f5ebe9d"
      },
      "execution_count": 29,
      "outputs": [
        {
          "output_type": "stream",
          "name": "stderr",
          "text": [
            "Using cuda_amp half precision backend\n"
          ]
        }
      ]
    },
    {
      "cell_type": "code",
      "source": [
        "trainer.train()\n",
        "trainer.save_model(\"models/roberta/roberta_dutch\")"
      ],
      "metadata": {
        "colab": {
          "base_uri": "https://localhost:8080/",
          "height": 390
        },
        "id": "NccyZzhorX-u",
        "outputId": "5589f966-39a2-4798-b495-44ba3f64ced9"
      },
      "execution_count": 30,
      "outputs": [
        {
          "output_type": "stream",
          "name": "stderr",
          "text": [
            "/usr/local/lib/python3.10/dist-packages/transformers/optimization.py:306: FutureWarning: This implementation of AdamW is deprecated and will be removed in a future version. Use the PyTorch implementation torch.optim.AdamW instead, or set `no_deprecation_warning=True` to disable this warning\n",
            "  warnings.warn(\n",
            "***** Running training *****\n",
            "  Num examples = 6984\n",
            "  Num Epochs = 1\n",
            "  Instantaneous batch size per device = 8\n",
            "  Total train batch size (w. parallel, distributed & accumulation) = 32\n",
            "  Gradient Accumulation steps = 4\n",
            "  Total optimization steps = 218\n"
          ]
        },
        {
          "output_type": "display_data",
          "data": {
            "text/plain": [
              "<IPython.core.display.HTML object>"
            ],
            "text/html": [
              "\n",
              "    <div>\n",
              "      \n",
              "      <progress value='218' max='218' style='width:300px; height:20px; vertical-align: middle;'></progress>\n",
              "      [218/218 07:53, Epoch 0/1]\n",
              "    </div>\n",
              "    <table border=\"1\" class=\"dataframe\">\n",
              "  <thead>\n",
              " <tr style=\"text-align: left;\">\n",
              "      <th>Step</th>\n",
              "      <th>Training Loss</th>\n",
              "      <th>Validation Loss</th>\n",
              "    </tr>\n",
              "  </thead>\n",
              "  <tbody>\n",
              "  </tbody>\n",
              "</table><p>"
            ]
          },
          "metadata": {}
        },
        {
          "output_type": "stream",
          "name": "stderr",
          "text": [
            "\n",
            "\n",
            "Training completed. Do not forget to share your model on huggingface.co/models =)\n",
            "\n",
            "\n",
            "Saving model checkpoint to models/roberta/roberta_dutch\n",
            "Configuration saved in models/roberta/roberta_dutch/config.json\n",
            "Model weights saved in models/roberta/roberta_dutch/pytorch_model.bin\n"
          ]
        }
      ]
    },
    {
      "cell_type": "code",
      "source": [
        "from transformers import RobertaForMaskedLM\n",
        "model = RobertaForMaskedLM.from_pretrained(\"models/roberta/roberta_dutch\")"
      ],
      "metadata": {
        "id": "Cqbeb7wM8JM_"
      },
      "execution_count": 4,
      "outputs": []
    },
    {
      "cell_type": "code",
      "source": [
        "from transformers import pipeline\n",
        "\n",
        "fill_mask = pipeline(\n",
        "    \"fill-mask\",\n",
        "    model = model,\n",
        "    tokenizer = tokenizer\n",
        ")"
      ],
      "metadata": {
        "id": "hpm-NEipwS7I"
      },
      "execution_count": 7,
      "outputs": []
    },
    {
      "cell_type": "code",
      "source": [
        "fill_mask(\"ik ga naar <mask> vandaag\")"
      ],
      "metadata": {
        "id": "Mmlatb0qA2v2",
        "outputId": "cbbb2af9-3472-4eb2-db24-e7690ed82801",
        "colab": {
          "base_uri": "https://localhost:8080/"
        }
      },
      "execution_count": 10,
      "outputs": [
        {
          "output_type": "execute_result",
          "data": {
            "text/plain": [
              "[{'score': 0.04218944162130356,\n",
              "  'token': 18,\n",
              "  'token_str': '.',\n",
              "  'sequence': 'ik ga naar. vandaag'},\n",
              " {'score': 0.035313669592142105,\n",
              "  'token': 268,\n",
              "  'token_str': ' de',\n",
              "  'sequence': 'ik ga naar de vandaag'},\n",
              " {'score': 0.010522267781198025,\n",
              "  'token': 16,\n",
              "  'token_str': ',',\n",
              "  'sequence': 'ik ga naar, vandaag'},\n",
              " {'score': 0.00925430003553629,\n",
              "  'token': 284,\n",
              "  'token_str': ' van',\n",
              "  'sequence': 'ik ga naar van vandaag'},\n",
              " {'score': 0.006261906586587429,\n",
              "  'token': 293,\n",
              "  'token_str': ' het',\n",
              "  'sequence': 'ik ga naar het vandaag'}]"
            ]
          },
          "metadata": {},
          "execution_count": 10
        }
      ]
    }
  ]
}